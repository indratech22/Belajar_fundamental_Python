{
  "nbformat": 4,
  "nbformat_minor": 0,
  "metadata": {
    "colab": {
      "provenance": []
    },
    "kernelspec": {
      "name": "python3",
      "display_name": "Python 3"
    },
    "language_info": {
      "name": "python"
    }
  },
  "cells": [
    {
      "cell_type": "markdown",
      "source": [
        "# **Pertemuan 1**"
      ],
      "metadata": {
        "id": "g6JTu6pA4RDp"
      }
    },
    {
      "cell_type": "code",
      "execution_count": null,
      "metadata": {
        "colab": {
          "base_uri": "https://localhost:8080/"
        },
        "id": "dwUA887q2y8A",
        "outputId": "f0fe5938-c1eb-467e-b4e4-819a8f522421"
      },
      "outputs": [
        {
          "output_type": "stream",
          "name": "stdout",
          "text": [
            "[]\n",
            "[1, 2, 3, 'contoh', 3.14]\n"
          ]
        }
      ],
      "source": [
        "# List\n",
        "\n",
        "my_list = [] #membuat list kosong\n",
        "print(my_list)\n",
        "my_list = [1, 2, 3, 'contoh', 3.14] #memasukan data kedalam list\n",
        "print(my_list)"
      ]
    },
    {
      "cell_type": "code",
      "source": [
        "# Dictionary\n",
        "my_dict = {'first': 'Python', 'second': 'Java'} #membuat dictionary kosong\n",
        "print(my_dict)\n",
        "my_dict['second'] = 'C++' #mengubah elemen di dalam dictionary\n",
        "print(my_dict)\n",
        "my_dict ['third'] = 'Ruby' #menambah elemen di dalam dictionary\n",
        "print(my_dict)"
      ],
      "metadata": {
        "colab": {
          "base_uri": "https://localhost:8080/"
        },
        "id": "qzxfQYGK3XZy",
        "outputId": "a52af53b-7e73-4038-9b09-b595a0cfea04"
      },
      "execution_count": null,
      "outputs": [
        {
          "output_type": "stream",
          "name": "stdout",
          "text": [
            "{'first': 'Python', 'second': 'Java'}\n",
            "{'first': 'Python', 'second': 'C++'}\n",
            "{'first': 'Python', 'second': 'C++', 'third': 'Ruby'}\n"
          ]
        }
      ]
    },
    {
      "cell_type": "code",
      "source": [
        "# Tuple\n",
        "my_tuple = (1, 2, 3, 'indra') # Membuat Tuple\n",
        "print(my_tuple)\n",
        "print(my_tuple[0])\n",
        "print(my_tuple[:])\n",
        "print(my_tuple[3][4])"
      ],
      "metadata": {
        "colab": {
          "base_uri": "https://localhost:8080/"
        },
        "id": "WdTxaYaS43qY",
        "outputId": "e5ac1d53-eef4-4d9f-ba36-e3dc469bf1cf"
      },
      "execution_count": null,
      "outputs": [
        {
          "output_type": "stream",
          "name": "stdout",
          "text": [
            "(1, 2, 3, 'indra')\n",
            "1\n",
            "(1, 2, 3, 'indra')\n",
            "a\n"
          ]
        }
      ]
    },
    {
      "cell_type": "code",
      "source": [
        "# Set\n",
        "my_set = {1,2,3,4,4,4,5} #membuat set\n",
        "print(my_set)\n",
        "my_set.add(4) #menambahkan elemen kedalam set\n",
        "print(my_set)"
      ],
      "metadata": {
        "colab": {
          "base_uri": "https://localhost:8080/"
        },
        "id": "GwfxZ7CI5b4g",
        "outputId": "776c57d9-a7d2-4a28-d893-1fe264834e83"
      },
      "execution_count": null,
      "outputs": [
        {
          "output_type": "stream",
          "name": "stdout",
          "text": [
            "{1, 2, 3, 4, 5}\n",
            "{1, 2, 3, 4, 5}\n"
          ]
        }
      ]
    },
    {
      "cell_type": "code",
      "source": [
        "my_set = {1,2,3,4}\n",
        "my_set_2 = {3,4,5,6}\n",
        "\n",
        "print(my_set.union(my_set_2), '---', my_set|my_set_2)\n",
        "print(my_set.intersection(my_set_2), '---', my_set&my_set_2)\n",
        "print(my_set.difference(my_set_2), '---', my_set-my_set_2)\n",
        "print(my_set.symmetric_difference(my_set_2), '---', my_set^my_set_2)"
      ],
      "metadata": {
        "colab": {
          "base_uri": "https://localhost:8080/"
        },
        "id": "GWegcBTm6ApJ",
        "outputId": "98e0d11e-6266-4bc4-87ff-728e01e031b3"
      },
      "execution_count": null,
      "outputs": [
        {
          "output_type": "stream",
          "name": "stdout",
          "text": [
            "{1, 2, 3, 4, 5, 6} --- {1, 2, 3, 4, 5, 6}\n",
            "{3, 4} --- {3, 4}\n",
            "{1, 2} --- {1, 2}\n",
            "{1, 2, 5, 6} --- {1, 2, 5, 6}\n"
          ]
        }
      ]
    },
    {
      "cell_type": "code",
      "source": [
        "#if Statement\n",
        "\n",
        "num = 5\n",
        "\n",
        "if(num > 0):\n",
        "  print(num, 'adalah Bilangan Positif')\n",
        "print(num, 'adalah bilangan negatif atau nol')"
      ],
      "metadata": {
        "colab": {
          "base_uri": "https://localhost:8080/"
        },
        "id": "1MuYzmQa7AEc",
        "outputId": "870cce7e-bba5-4a7c-87ed-c5d59bfebce4"
      },
      "execution_count": null,
      "outputs": [
        {
          "output_type": "stream",
          "name": "stdout",
          "text": [
            "5 adalah Bilangan Positif\n",
            "5 adalah bilangan negatif atau nol\n"
          ]
        }
      ]
    },
    {
      "cell_type": "code",
      "source": [
        "#if Else Statement\n",
        "\n",
        "num = -1\n",
        "if(num > 0):\n",
        "  print(num, 'adalah bilangan positif')\n",
        "else:\n",
        "  print(num, 'adalah bilangan negatif atau nol')"
      ],
      "metadata": {
        "colab": {
          "base_uri": "https://localhost:8080/"
        },
        "id": "-Vph_esO7hov",
        "outputId": "9357b5ac-8d3a-46bd-a519-a42104e89b98"
      },
      "execution_count": null,
      "outputs": [
        {
          "output_type": "stream",
          "name": "stdout",
          "text": [
            "-1 adalah bilangan negatif atau nol\n"
          ]
        }
      ]
    },
    {
      "cell_type": "code",
      "source": [
        "# if, Elif, else statement\n",
        "\n",
        "num = 5\n",
        "\n",
        "if(num > 0):\n",
        "  print(num , 'adalah bilangan positif')\n",
        "elif(num == 0):\n",
        "  print(num, 'adalah bilangan nol')\n",
        "else:\n",
        "  print(num, 'adalah bilangan negatif')"
      ],
      "metadata": {
        "colab": {
          "base_uri": "https://localhost:8080/"
        },
        "id": "gGSfw6Ib73HN",
        "outputId": "1e5465e3-b30a-4987-ee57-80612217d42e"
      },
      "execution_count": null,
      "outputs": [
        {
          "output_type": "stream",
          "name": "stdout",
          "text": [
            "5 adalah bilangan positif\n"
          ]
        }
      ]
    },
    {
      "cell_type": "code",
      "source": [
        "#If nested\n",
        "\n",
        "num =5\n",
        "\n",
        "if(num >= 0):\n",
        "  if(num == 0):\n",
        "    print(num, 'adalah bilangan nol')\n",
        "  else:\n",
        "    print(num, 'adalah bilangan positif')\n",
        "else:\n",
        "  print(num, 'adalah bilangan negatif')"
      ],
      "metadata": {
        "colab": {
          "base_uri": "https://localhost:8080/"
        },
        "id": "WXTxGRVE8S5k",
        "outputId": "62356724-9286-4a92-c8dd-32bcd446501d"
      },
      "execution_count": null,
      "outputs": [
        {
          "output_type": "stream",
          "name": "stdout",
          "text": [
            "5 adalah bilangan positif\n"
          ]
        }
      ]
    },
    {
      "cell_type": "code",
      "source": [
        "#while loop\n",
        "\n",
        "num = 1\n",
        "angka_ganjil = []\n",
        "\n",
        "while num:\n",
        "  if(num % 2 != 0):\n",
        "    angka_ganjil.append(num)\n",
        "  if(num >=20):\n",
        "    break\n",
        "  num += 1\n",
        "\n",
        "print('angka ganjil =', angka_ganjil)"
      ],
      "metadata": {
        "colab": {
          "base_uri": "https://localhost:8080/"
        },
        "id": "R5SWQKej84b-",
        "outputId": "b1655ab1-3a4c-490d-bae6-ae5fd860dd87"
      },
      "execution_count": null,
      "outputs": [
        {
          "output_type": "stream",
          "name": "stdout",
          "text": [
            "angka ganjil = [1, 3, 5, 7, 9, 11, 13, 15, 17, 19]\n"
          ]
        }
      ]
    },
    {
      "cell_type": "code",
      "source": [
        "#for loop\n",
        "\n",
        "list = {1,2,3,4,5}\n",
        "\n",
        "for num in list:\n",
        "  print('num')"
      ],
      "metadata": {
        "colab": {
          "base_uri": "https://localhost:8080/"
        },
        "id": "42Yw68Dk-tZH",
        "outputId": "3473d250-2fae-49be-cb6c-ca6ce820ff92"
      },
      "execution_count": null,
      "outputs": [
        {
          "output_type": "stream",
          "name": "stdout",
          "text": [
            "num\n",
            "num\n",
            "num\n",
            "num\n",
            "num\n"
          ]
        }
      ]
    },
    {
      "cell_type": "code",
      "source": [
        "#function with return\n",
        "\n",
        "def pow(a):\n",
        "  return a**2\n",
        "\n",
        "print(pow(2))\n",
        "\n",
        "power=pow(2)\n",
        "print(power)"
      ],
      "metadata": {
        "colab": {
          "base_uri": "https://localhost:8080/"
        },
        "id": "BqJLzLVK-u9r",
        "outputId": "7fad7f44-7cf7-4d04-e092-193567d4f68d"
      },
      "execution_count": null,
      "outputs": [
        {
          "output_type": "stream",
          "name": "stdout",
          "text": [
            "4\n",
            "4\n"
          ]
        }
      ]
    },
    {
      "cell_type": "code",
      "source": [
        "#function no return / Procedure\n",
        "def pow(a):\n",
        "  print(a**2)\n",
        "\n",
        "pow(2)"
      ],
      "metadata": {
        "colab": {
          "base_uri": "https://localhost:8080/"
        },
        "id": "pvDykSlcADd1",
        "outputId": "d95287d8-962d-44a0-9beb-1d71cec0c6bc"
      },
      "execution_count": null,
      "outputs": [
        {
          "output_type": "stream",
          "name": "stdout",
          "text": [
            "4\n"
          ]
        }
      ]
    },
    {
      "cell_type": "markdown",
      "source": [
        "## **Pertemuan** **2**"
      ],
      "metadata": {
        "id": "Tu-obDghKmnd"
      }
    },
    {
      "cell_type": "code",
      "source": [
        "#function arguments\n",
        "\n",
        "def greet (name, msg = 'apa kabar'):\n",
        "    \"\"\" fungsi ini menyapa orang dengan pesan yang di berikan\"\"\"\n",
        "    print('hello', name , ',', msg)\n",
        "\n",
        "greet(\"indra\")"
      ],
      "metadata": {
        "colab": {
          "base_uri": "https://localhost:8080/"
        },
        "id": "1bJj5QENK3OW",
        "outputId": "d13ee7a8-cb80-4c4c-d35d-29406ad54187"
      },
      "execution_count": null,
      "outputs": [
        {
          "output_type": "stream",
          "name": "stdout",
          "text": [
            "hello indra , apa kabar\n"
          ]
        }
      ]
    },
    {
      "cell_type": "code",
      "source": [
        "def greet(name,msg=\"apa kabar\"):\n",
        "  \"\"\"\n",
        "  Fungsi ini menyapa orang dengan\n",
        "  pesan yang disediakan.\n",
        "\n",
        "  jika pesan tidak diberikan,\n",
        "  defaultnya adalah \"good morning!\"\n",
        "  \"\"\"\n",
        "  print(\"hello\",name,', ', msg)\n",
        "\n",
        "greet(\"indra\",\"bagaimana keadaanmu\")\n",
        "greet(\"budi\")"
      ],
      "metadata": {
        "colab": {
          "base_uri": "https://localhost:8080/"
        },
        "id": "6gbyQeiG3azX",
        "outputId": "6f11fc96-58c8-4c3f-96cd-d65cd4c5b435"
      },
      "execution_count": null,
      "outputs": [
        {
          "output_type": "stream",
          "name": "stdout",
          "text": [
            "hello indra ,  bagaimana keadaanmu\n",
            "hello budi ,  apa kabar\n"
          ]
        }
      ]
    },
    {
      "cell_type": "code",
      "source": [
        "# Python Keyword Arguments\n",
        "\n",
        "# 2 keyword arguments\n",
        "greet(name=\"Indra\",msg=\"apa kabar denganmu?\")\n",
        "\n",
        "# 2 keyword arguments (out of order)\n",
        "greet(msg=\"halo\", name=\"budi\")\n",
        "\n",
        "# 1 positional, 1 keyword argument\n",
        "greet(\"indra\", msg=\"bagaimana kabarmu?\")"
      ],
      "metadata": {
        "colab": {
          "base_uri": "https://localhost:8080/"
        },
        "id": "Tdbjfe7G4XHl",
        "outputId": "48f38789-8114-4d83-c952-dee57e64b3d4"
      },
      "execution_count": null,
      "outputs": [
        {
          "output_type": "stream",
          "name": "stdout",
          "text": [
            "hello Indra ,  apa kabar denganmu?\n",
            "hello budi ,  halo\n",
            "hello indra ,  bagaimana kabarmu?\n"
          ]
        }
      ]
    },
    {
      "cell_type": "code",
      "source": [
        "# arbitrary argument\n",
        "def greet(*names):\n",
        "  \"\"\" fungsi ini menyapa semua\n",
        "  orang dalam nama tuple.\"\"\"\n",
        "\n",
        "  #names adalah tuple dengan argument\n",
        "  for name in names:\n",
        "    print(\"hello\",name)\n",
        "\n",
        "greet(\"A\",\"B\",\"C\",\"D\")"
      ],
      "metadata": {
        "colab": {
          "base_uri": "https://localhost:8080/"
        },
        "id": "oUeongSt5uBr",
        "outputId": "3eaa136c-f4d7-4681-bbf2-3077b8737925"
      },
      "execution_count": null,
      "outputs": [
        {
          "output_type": "stream",
          "name": "stdout",
          "text": [
            "hello A\n",
            "hello B\n",
            "hello C\n",
            "hello D\n"
          ]
        }
      ]
    },
    {
      "cell_type": "code",
      "source": [
        "#function Recursion Bilangan Faktorial\n",
        "\n",
        "def factorial(x):\n",
        "  \"\"\"fungsi ini berfungsi untuk\n",
        "  menemukan faktorial dari bilangan bulat\"\"\"\n",
        "\n",
        "  if x==1:\n",
        "    return 1\n",
        "  else:\n",
        "    return x * factorial(x-1)\n",
        "\n",
        "num = 3\n",
        "\n",
        "print(\"nilai faktorial dari \", num , \"adalah\", factorial(num))"
      ],
      "metadata": {
        "colab": {
          "base_uri": "https://localhost:8080/"
        },
        "id": "c-10pbekIDYl",
        "outputId": "54bf9d67-c2de-47cd-ac60-bdbffee5b38c"
      },
      "execution_count": null,
      "outputs": [
        {
          "output_type": "stream",
          "name": "stdout",
          "text": [
            "nilai faktorial dari  3 adalah 6\n"
          ]
        }
      ]
    },
    {
      "cell_type": "code",
      "source": [
        "# function Recursion Bilangan Fibonacci\n",
        "\n",
        "def fibonacci (n):\n",
        "  if n < 1:\n",
        "    return [n]\n",
        "\n",
        "  listSebelumN = fibonacci(n - 1)\n",
        "  angka1 = listSebelumN[-2] if len(listSebelumN) > 2 else 0\n",
        "  angka2 = listSebelumN[-1] if len(listSebelumN) > 2 else 1\n",
        "\n",
        "  return listSebelumN + [angka1 + angka2]\n",
        "\n",
        "panjang = int(input('masukan panjang deret:'))\n",
        "\n",
        "print(fibonacci(panjang-1)) #dikurangi satu agar tidak kelebihan indeksnya"
      ],
      "metadata": {
        "id": "Jm_fravpIysK",
        "colab": {
          "base_uri": "https://localhost:8080/"
        },
        "outputId": "5c5e1ce3-5345-46ca-b604-95e95f957842"
      },
      "execution_count": 2,
      "outputs": [
        {
          "output_type": "stream",
          "name": "stdout",
          "text": [
            "masukan panjang deret:5\n",
            "[0, 1, 1, 2, 3]\n"
          ]
        }
      ]
    },
    {
      "cell_type": "code",
      "source": [
        "# anonymous Function untuk pangkat\n",
        "\n",
        "double = lambda x: x * 5\n",
        "\n",
        "print(double(5))"
      ],
      "metadata": {
        "colab": {
          "base_uri": "https://localhost:8080/"
        },
        "id": "jEWE1O-XYwhi",
        "outputId": "d2b80dec-be1a-44a6-e7a4-67cb3ee3f508"
      },
      "execution_count": 4,
      "outputs": [
        {
          "output_type": "stream",
          "name": "stdout",
          "text": [
            "25\n"
          ]
        }
      ]
    },
    {
      "cell_type": "code",
      "source": [
        "# anonymous function untuk list genap\n",
        "\n",
        "my_list = [1,5,4,6,8,11,3,12]\n",
        "new_list = list(filter(lambda x: (x%2 ==0) , my_list))\n",
        "\n",
        "print(new_list)"
      ],
      "metadata": {
        "colab": {
          "base_uri": "https://localhost:8080/"
        },
        "id": "4a8W6x_rZMWU",
        "outputId": "ffc85295-a3d4-402d-8a4b-a7582960ec7a"
      },
      "execution_count": 5,
      "outputs": [
        {
          "output_type": "stream",
          "name": "stdout",
          "text": [
            "[4, 6, 8, 12]\n"
          ]
        }
      ]
    },
    {
      "cell_type": "code",
      "source": [
        "#anonymous function untuk list ganjil\n",
        "\n",
        "my_list = [2,3,4,5,6,7,8,9,10,11,12,13]\n",
        "new_list = list(filter(lambda x: (x%2 !=0) , my_list))\n",
        "\n",
        "print(new_list)"
      ],
      "metadata": {
        "colab": {
          "base_uri": "https://localhost:8080/"
        },
        "id": "QhGv-t2wZyIq",
        "outputId": "c10fca47-02f0-4de4-b6ec-d9ed6b6c8a84"
      },
      "execution_count": 6,
      "outputs": [
        {
          "output_type": "stream",
          "name": "stdout",
          "text": [
            "[3, 5, 7, 9, 11, 13]\n"
          ]
        }
      ]
    },
    {
      "cell_type": "code",
      "source": [
        "# anonymous function untuk mengalikan item di list dengan angka random\n",
        "\n",
        "my_list = [1,2,3,4,5,6,7,8,9,10,11,12,13,14,15]\n",
        "bilangan = int(input(\"masukan angka disini: \"))\n",
        "new_list = list(map(lambda x: x * bilangan , my_list))\n",
        "\n",
        "print(new_list)"
      ],
      "metadata": {
        "colab": {
          "base_uri": "https://localhost:8080/"
        },
        "id": "cpwlXarQaHJQ",
        "outputId": "ea64b866-7b3e-4630-b200-869562c5f9c3"
      },
      "execution_count": 12,
      "outputs": [
        {
          "output_type": "stream",
          "name": "stdout",
          "text": [
            "masukan angka disini: 3\n",
            "[3, 6, 9, 12, 15, 18, 21, 24, 27, 30, 33, 36, 39, 42, 45]\n"
          ]
        }
      ]
    }
  ]
}