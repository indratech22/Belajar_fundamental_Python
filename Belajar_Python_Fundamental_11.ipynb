{
  "nbformat": 4,
  "nbformat_minor": 0,
  "metadata": {
    "colab": {
      "provenance": []
    },
    "kernelspec": {
      "name": "python3",
      "display_name": "Python 3"
    },
    "language_info": {
      "name": "python"
    }
  },
  "cells": [
    {
      "cell_type": "markdown",
      "source": [
        "# **Pertemuan 1** List, Dictionary, Tuple, Set, perulangan dan if else"
      ],
      "metadata": {
        "id": "g6JTu6pA4RDp"
      }
    },
    {
      "cell_type": "code",
      "execution_count": 31,
      "metadata": {
        "colab": {
          "base_uri": "https://localhost:8080/",
          "height": 211
        },
        "id": "dwUA887q2y8A",
        "outputId": "acb59166-09f6-47d3-a594-aea8c4fd2f95"
      },
      "outputs": [
        {
          "output_type": "error",
          "ename": "TypeError",
          "evalue": "'list' object is not callable",
          "traceback": [
            "\u001b[0;31m---------------------------------------------------------------------------\u001b[0m",
            "\u001b[0;31mTypeError\u001b[0m                                 Traceback (most recent call last)",
            "\u001b[0;32m<ipython-input-31-3c93323eebae>\u001b[0m in \u001b[0;36m<cell line: 4>\u001b[0;34m()\u001b[0m\n\u001b[1;32m      2\u001b[0m \u001b[0;34m\u001b[0m\u001b[0m\n\u001b[1;32m      3\u001b[0m \u001b[0mmy_list\u001b[0m \u001b[0;34m=\u001b[0m \u001b[0;34m[\u001b[0m\u001b[0;34m]\u001b[0m \u001b[0;31m#membuat list kosong\u001b[0m\u001b[0;34m\u001b[0m\u001b[0;34m\u001b[0m\u001b[0m\n\u001b[0;32m----> 4\u001b[0;31m \u001b[0mprint\u001b[0m\u001b[0;34m(\u001b[0m\u001b[0mmy_list\u001b[0m\u001b[0;34m)\u001b[0m\u001b[0;34m\u001b[0m\u001b[0;34m\u001b[0m\u001b[0m\n\u001b[0m\u001b[1;32m      5\u001b[0m \u001b[0mmy_list\u001b[0m \u001b[0;34m=\u001b[0m \u001b[0;34m[\u001b[0m\u001b[0;36m1\u001b[0m\u001b[0;34m,\u001b[0m \u001b[0;36m2\u001b[0m\u001b[0;34m,\u001b[0m \u001b[0;36m3\u001b[0m\u001b[0;34m,\u001b[0m \u001b[0;34m'contoh'\u001b[0m\u001b[0;34m,\u001b[0m \u001b[0;36m3.14\u001b[0m\u001b[0;34m]\u001b[0m \u001b[0;31m#memasukan data kedalam list\u001b[0m\u001b[0;34m\u001b[0m\u001b[0;34m\u001b[0m\u001b[0m\n\u001b[1;32m      6\u001b[0m \u001b[0mprint\u001b[0m\u001b[0;34m(\u001b[0m\u001b[0mmy_list\u001b[0m\u001b[0;34m)\u001b[0m\u001b[0;34m\u001b[0m\u001b[0;34m\u001b[0m\u001b[0m\n",
            "\u001b[0;31mTypeError\u001b[0m: 'list' object is not callable"
          ]
        }
      ],
      "source": [
        "# List\n",
        "\n",
        "my_list = [] #membuat list kosong\n",
        "print(my_list)\n",
        "my_list = [1, 2, 3, 'contoh', 3.14] #memasukan data kedalam list\n",
        "print(my_list)"
      ]
    },
    {
      "cell_type": "code",
      "source": [
        "# Dictionary\n",
        "my_dict = {'first': 'Python', 'second': 'Java'} #membuat dictionary kosong\n",
        "print(my_dict)\n",
        "my_dict['second'] = 'C++' #mengubah elemen di dalam dictionary\n",
        "print(my_dict)\n",
        "my_dict ['third'] = 'Ruby' #menambah elemen di dalam dictionary\n",
        "print(my_dict)"
      ],
      "metadata": {
        "colab": {
          "base_uri": "https://localhost:8080/",
          "height": 211
        },
        "id": "qzxfQYGK3XZy",
        "outputId": "9d4af53e-8c00-42b5-eafc-dd8a37d3b7ae"
      },
      "execution_count": 32,
      "outputs": [
        {
          "output_type": "error",
          "ename": "TypeError",
          "evalue": "'list' object is not callable",
          "traceback": [
            "\u001b[0;31m---------------------------------------------------------------------------\u001b[0m",
            "\u001b[0;31mTypeError\u001b[0m                                 Traceback (most recent call last)",
            "\u001b[0;32m<ipython-input-32-1493365158ab>\u001b[0m in \u001b[0;36m<cell line: 3>\u001b[0;34m()\u001b[0m\n\u001b[1;32m      1\u001b[0m \u001b[0;31m# Dictionary\u001b[0m\u001b[0;34m\u001b[0m\u001b[0;34m\u001b[0m\u001b[0m\n\u001b[1;32m      2\u001b[0m \u001b[0mmy_dict\u001b[0m \u001b[0;34m=\u001b[0m \u001b[0;34m{\u001b[0m\u001b[0;34m'first'\u001b[0m\u001b[0;34m:\u001b[0m \u001b[0;34m'Python'\u001b[0m\u001b[0;34m,\u001b[0m \u001b[0;34m'second'\u001b[0m\u001b[0;34m:\u001b[0m \u001b[0;34m'Java'\u001b[0m\u001b[0;34m}\u001b[0m \u001b[0;31m#membuat dictionary kosong\u001b[0m\u001b[0;34m\u001b[0m\u001b[0;34m\u001b[0m\u001b[0m\n\u001b[0;32m----> 3\u001b[0;31m \u001b[0mprint\u001b[0m\u001b[0;34m(\u001b[0m\u001b[0mmy_dict\u001b[0m\u001b[0;34m)\u001b[0m\u001b[0;34m\u001b[0m\u001b[0;34m\u001b[0m\u001b[0m\n\u001b[0m\u001b[1;32m      4\u001b[0m \u001b[0mmy_dict\u001b[0m\u001b[0;34m[\u001b[0m\u001b[0;34m'second'\u001b[0m\u001b[0;34m]\u001b[0m \u001b[0;34m=\u001b[0m \u001b[0;34m'C++'\u001b[0m \u001b[0;31m#mengubah elemen di dalam dictionary\u001b[0m\u001b[0;34m\u001b[0m\u001b[0;34m\u001b[0m\u001b[0m\n\u001b[1;32m      5\u001b[0m \u001b[0mprint\u001b[0m\u001b[0;34m(\u001b[0m\u001b[0mmy_dict\u001b[0m\u001b[0;34m)\u001b[0m\u001b[0;34m\u001b[0m\u001b[0;34m\u001b[0m\u001b[0m\n",
            "\u001b[0;31mTypeError\u001b[0m: 'list' object is not callable"
          ]
        }
      ]
    },
    {
      "cell_type": "code",
      "source": [
        "# Tuple\n",
        "my_tuple = (1, 2, 3, 'indra') # Membuat Tuple\n",
        "print(my_tuple)\n",
        "print(my_tuple[0])\n",
        "print(my_tuple[:])\n",
        "print(my_tuple[3][4])"
      ],
      "metadata": {
        "id": "WdTxaYaS43qY"
      },
      "execution_count": null,
      "outputs": []
    },
    {
      "cell_type": "code",
      "source": [
        "# Set\n",
        "my_set = {1,2,3,4,4,4,5} #membuat set\n",
        "print(my_set)\n",
        "my_set.add(4) #menambahkan elemen kedalam set\n",
        "print(my_set)"
      ],
      "metadata": {
        "id": "GwfxZ7CI5b4g"
      },
      "execution_count": null,
      "outputs": []
    },
    {
      "cell_type": "code",
      "source": [
        "my_set = {1,2,3,4}\n",
        "my_set_2 = {3,4,5,6}\n",
        "\n",
        "print(my_set.union(my_set_2), '---', my_set|my_set_2)\n",
        "print(my_set.intersection(my_set_2), '---', my_set&my_set_2)\n",
        "print(my_set.difference(my_set_2), '---', my_set-my_set_2)\n",
        "print(my_set.symmetric_difference(my_set_2), '---', my_set^my_set_2)"
      ],
      "metadata": {
        "id": "GWegcBTm6ApJ"
      },
      "execution_count": null,
      "outputs": []
    },
    {
      "cell_type": "code",
      "source": [
        "#if Statement\n",
        "\n",
        "num = 5\n",
        "\n",
        "if(num > 0):\n",
        "  print(num, 'adalah Bilangan Positif')\n",
        "print(num, 'adalah bilangan negatif atau nol')"
      ],
      "metadata": {
        "id": "1MuYzmQa7AEc"
      },
      "execution_count": null,
      "outputs": []
    },
    {
      "cell_type": "code",
      "source": [
        "#if Else Statement\n",
        "\n",
        "num = -1\n",
        "if(num > 0):\n",
        "  print(num, 'adalah bilangan positif')\n",
        "else:\n",
        "  print(num, 'adalah bilangan negatif atau nol')"
      ],
      "metadata": {
        "id": "-Vph_esO7hov"
      },
      "execution_count": null,
      "outputs": []
    },
    {
      "cell_type": "code",
      "source": [
        "# if, Elif, else statement\n",
        "\n",
        "num = 5\n",
        "\n",
        "if(num > 0):\n",
        "  print(num , 'adalah bilangan positif')\n",
        "elif(num == 0):\n",
        "  print(num, 'adalah bilangan nol')\n",
        "else:\n",
        "  print(num, 'adalah bilangan negatif')"
      ],
      "metadata": {
        "id": "gGSfw6Ib73HN"
      },
      "execution_count": null,
      "outputs": []
    },
    {
      "cell_type": "code",
      "source": [
        "#If nested\n",
        "\n",
        "num =5\n",
        "\n",
        "if(num >= 0):\n",
        "  if(num == 0):\n",
        "    print(num, 'adalah bilangan nol')\n",
        "  else:\n",
        "    print(num, 'adalah bilangan positif')\n",
        "else:\n",
        "  print(num, 'adalah bilangan negatif')"
      ],
      "metadata": {
        "id": "WXTxGRVE8S5k"
      },
      "execution_count": null,
      "outputs": []
    },
    {
      "cell_type": "code",
      "source": [
        "#while loop\n",
        "\n",
        "num = 1\n",
        "angka_ganjil = []\n",
        "\n",
        "while num:\n",
        "  if(num % 2 != 0):\n",
        "    angka_ganjil.append(num)\n",
        "  if(num >=20):\n",
        "    break\n",
        "  num += 1\n",
        "\n",
        "print('angka ganjil =', angka_ganjil)"
      ],
      "metadata": {
        "id": "R5SWQKej84b-"
      },
      "execution_count": null,
      "outputs": []
    },
    {
      "cell_type": "code",
      "source": [
        "#for loop\n",
        "\n",
        "list = {1,2,3,4,5}\n",
        "\n",
        "for num in list:\n",
        "  print('num')"
      ],
      "metadata": {
        "id": "42Yw68Dk-tZH"
      },
      "execution_count": null,
      "outputs": []
    },
    {
      "cell_type": "code",
      "source": [
        "#function with return\n",
        "\n",
        "def pow(a):\n",
        "  return a**2\n",
        "\n",
        "print(pow(2))\n",
        "\n",
        "power=pow(2)\n",
        "print(power)"
      ],
      "metadata": {
        "id": "BqJLzLVK-u9r"
      },
      "execution_count": null,
      "outputs": []
    },
    {
      "cell_type": "code",
      "source": [
        "#function no return / Procedure\n",
        "def pow(a):\n",
        "  print(a**2)\n",
        "\n",
        "pow(2)"
      ],
      "metadata": {
        "id": "pvDykSlcADd1"
      },
      "execution_count": null,
      "outputs": []
    },
    {
      "cell_type": "markdown",
      "source": [
        "## **Pertemuan** **2** Function Argument, Keyword Argument, Arbitrary Argument, Function Recursion, Anonymous Function, Variabel (Local, Global, Non local)"
      ],
      "metadata": {
        "id": "Tu-obDghKmnd"
      }
    },
    {
      "cell_type": "code",
      "source": [
        "#function arguments\n",
        "\n",
        "def greet (name, msg = 'apa kabar'):\n",
        "    \"\"\" fungsi ini menyapa orang dengan pesan yang di berikan\"\"\"\n",
        "    print('hello', name , ',', msg)\n",
        "\n",
        "greet(\"indra\")"
      ],
      "metadata": {
        "id": "1bJj5QENK3OW"
      },
      "execution_count": null,
      "outputs": []
    },
    {
      "cell_type": "code",
      "source": [
        "def greet(name,msg=\"apa kabar\"):\n",
        "  \"\"\"\n",
        "  Fungsi ini menyapa orang dengan\n",
        "  pesan yang disediakan.\n",
        "\n",
        "  jika pesan tidak diberikan,\n",
        "  defaultnya adalah \"good morning!\"\n",
        "  \"\"\"\n",
        "  print(\"hello\",name,', ', msg)\n",
        "\n",
        "greet(\"indra\",\"bagaimana keadaanmu\")\n",
        "greet(\"budi\")"
      ],
      "metadata": {
        "id": "6gbyQeiG3azX"
      },
      "execution_count": null,
      "outputs": []
    },
    {
      "cell_type": "code",
      "source": [
        "# Python Keyword Arguments\n",
        "\n",
        "# 2 keyword arguments\n",
        "greet(name=\"Indra\",msg=\"apa kabar denganmu?\")\n",
        "\n",
        "# 2 keyword arguments (out of order)\n",
        "greet(msg=\"halo\", name=\"budi\")\n",
        "\n",
        "# 1 positional, 1 keyword argument\n",
        "greet(\"indra\", msg=\"bagaimana kabarmu?\")"
      ],
      "metadata": {
        "id": "Tdbjfe7G4XHl"
      },
      "execution_count": null,
      "outputs": []
    },
    {
      "cell_type": "code",
      "source": [
        "# arbitrary argument\n",
        "def greet(*names):\n",
        "  \"\"\" fungsi ini menyapa semua\n",
        "  orang dalam nama tuple.\"\"\"\n",
        "\n",
        "  #names adalah tuple dengan argument\n",
        "  for name in names:\n",
        "    print(\"hello\",name)\n",
        "\n",
        "greet(\"A\",\"B\",\"C\",\"D\")"
      ],
      "metadata": {
        "id": "oUeongSt5uBr"
      },
      "execution_count": null,
      "outputs": []
    },
    {
      "cell_type": "code",
      "source": [
        "#function Recursion Bilangan Faktorial\n",
        "\n",
        "def factorial(x):\n",
        "  \"\"\"fungsi ini berfungsi untuk\n",
        "  menemukan faktorial dari bilangan bulat\"\"\"\n",
        "\n",
        "  if x==1:\n",
        "    return 1\n",
        "  else:\n",
        "    return x * factorial(x-1)\n",
        "\n",
        "num = 3\n",
        "\n",
        "print(\"nilai faktorial dari \", num , \"adalah\", factorial(num))"
      ],
      "metadata": {
        "id": "c-10pbekIDYl"
      },
      "execution_count": null,
      "outputs": []
    },
    {
      "cell_type": "code",
      "source": [
        "# function Recursion Bilangan Fibonacci\n",
        "\n",
        "def fibonacci (n):\n",
        "  if n < 1:\n",
        "    return [n]\n",
        "\n",
        "  listSebelumN = fibonacci(n - 1)\n",
        "  angka1 = listSebelumN[-2] if len(listSebelumN) > 2 else 0\n",
        "  angka2 = listSebelumN[-1] if len(listSebelumN) > 2 else 1\n",
        "\n",
        "  return listSebelumN + [angka1 + angka2]\n",
        "\n",
        "panjang = int(input('masukan panjang deret:'))\n",
        "\n",
        "print(fibonacci(panjang-1)) #dikurangi satu agar tidak kelebihan indeksnya"
      ],
      "metadata": {
        "id": "Jm_fravpIysK"
      },
      "execution_count": null,
      "outputs": []
    },
    {
      "cell_type": "code",
      "source": [
        "# anonymous Function untuk pangkat\n",
        "\n",
        "double = lambda x: x * 5\n",
        "\n",
        "print(double(5))"
      ],
      "metadata": {
        "id": "jEWE1O-XYwhi"
      },
      "execution_count": null,
      "outputs": []
    },
    {
      "cell_type": "code",
      "source": [
        "# anonymous function untuk list genap\n",
        "\n",
        "my_list = [1,5,4,6,8,11,3,12]\n",
        "new_list = list(filter(lambda x: (x%2 ==0) , my_list))\n",
        "\n",
        "print(new_list)"
      ],
      "metadata": {
        "id": "4a8W6x_rZMWU"
      },
      "execution_count": null,
      "outputs": []
    },
    {
      "cell_type": "code",
      "source": [
        "#anonymous function untuk list ganjil\n",
        "\n",
        "my_list = [2,3,4,5,6,7,8,9,10,11,12,13]\n",
        "new_list = list(filter(lambda x: (x%2 !=0) , my_list))\n",
        "\n",
        "print(new_list)"
      ],
      "metadata": {
        "id": "QhGv-t2wZyIq"
      },
      "execution_count": null,
      "outputs": []
    },
    {
      "cell_type": "code",
      "source": [
        "# anonymous function untuk mengalikan item di list dengan angka random\n",
        "\n",
        "my_list = [1,2,3,4,5,6,7,8,9,10,11,12,13,14,15]\n",
        "bilangan = int(input(\"masukan angka disini: \"))\n",
        "new_list = list(map(lambda x: x * bilangan , my_list))\n",
        "\n",
        "print(new_list)"
      ],
      "metadata": {
        "id": "cpwlXarQaHJQ"
      },
      "execution_count": null,
      "outputs": []
    },
    {
      "cell_type": "code",
      "source": [
        "# variabel global dan variabel lokal\n",
        "\n",
        "x = \"global\"\n",
        "\n",
        "def foo():\n",
        "  print(\"x dalam: \", x)\n",
        "\n",
        "foo()\n",
        "print(\"x luar : \", x)"
      ],
      "metadata": {
        "id": "rRPH39NaUKZH"
      },
      "execution_count": null,
      "outputs": []
    },
    {
      "cell_type": "code",
      "source": [
        "x = \"global\"\n",
        "\n",
        "def foo():\n",
        "  global x\n",
        "  x = x * 2\n",
        "  print(x)\n",
        "\n",
        "foo()"
      ],
      "metadata": {
        "id": "srQWl4ENUo7E"
      },
      "execution_count": null,
      "outputs": []
    },
    {
      "cell_type": "code",
      "source": [
        "x = \"global\"\n",
        "\n",
        "def foo():\n",
        "  global x\n",
        "  y = \"local\"\n",
        "  x = x * 2\n",
        "  print(x)\n",
        "  print(y)\n",
        "\n",
        "foo()"
      ],
      "metadata": {
        "id": "c2zF41xuU3DS"
      },
      "execution_count": null,
      "outputs": []
    },
    {
      "cell_type": "code",
      "source": [
        "# non local variable\n",
        "\n",
        "def outer():\n",
        "  x = \"local\"\n",
        "\n",
        "  def inner():\n",
        "    nonlocal x\n",
        "    x = \"nonlocal\"\n",
        "    print(\"inner:\", x)\n",
        "\n",
        "  inner()\n",
        "  print(\"outer: \", x)\n",
        "\n",
        "outer()"
      ],
      "metadata": {
        "id": "Ysdx3XBMVFac"
      },
      "execution_count": null,
      "outputs": []
    },
    {
      "cell_type": "code",
      "source": [
        "plist = [123,456,789]\n",
        "plist.append(123)\n",
        "print(plist)"
      ],
      "metadata": {
        "id": "0Ph6aKVGVm4z"
      },
      "execution_count": null,
      "outputs": []
    },
    {
      "cell_type": "code",
      "source": [
        "you = 2\n",
        "if you >= 5:\n",
        "  print('chill bro')\n",
        "elif you >=3:\n",
        "  print(\"Sorry\")\n",
        "else:\n",
        "  print(\"fuck me\")"
      ],
      "metadata": {
        "id": "W1qC_y7BV3Eu"
      },
      "execution_count": null,
      "outputs": []
    },
    {
      "cell_type": "markdown",
      "source": [
        "# **Pertemuan 3** Stack, Queue, Tree, Graph, Hashmaps,"
      ],
      "metadata": {
        "id": "QsCh6RhPkXj3"
      }
    },
    {
      "cell_type": "code",
      "source": [
        "# Stack\n",
        "\n",
        "stack = ['first','second','third']\n",
        "print(stack)\n",
        "\n",
        "print()\n",
        "\n",
        "#pushing elements\n",
        "stack.append('fourth')\n",
        "stack.append('fifth')\n",
        "print(stack)\n",
        "print()\n",
        "\n",
        "#printing top\n",
        "print(stack[-1]) # -1 akan mengakses indeks paling terakhir\n",
        "print()\n",
        "\n",
        "#poping element\n",
        "stack.pop()\n",
        "print(stack)\n"
      ],
      "metadata": {
        "id": "IRhHpwv8kf5S"
      },
      "execution_count": null,
      "outputs": []
    },
    {
      "cell_type": "code",
      "source": [
        "stack = ['satu','dua','tiga','empat']\n",
        "print(stack)\n",
        "\n",
        "stack.append('lima')\n",
        "print(stack)\n",
        "\n",
        "print(stack[-1])\n",
        "\n",
        "stack.pop()\n",
        "print(stack)\n",
        "stack.remove(stack[2])\n",
        "print(stack)"
      ],
      "metadata": {
        "id": "EY9ToNIvlfl1"
      },
      "execution_count": null,
      "outputs": []
    },
    {
      "cell_type": "code",
      "source": [
        "# Queue\n",
        "\n",
        "queue = ['first','second','third']\n",
        "print(queue)\n",
        "\n",
        "print()\n",
        "\n",
        "# Pushing Element\n",
        "queue.append('fourth')\n",
        "queue.append('fifth')\n",
        "print(queue)\n",
        "print()\n",
        "\n",
        "# printing head\n",
        "print(queue[0])\n",
        "\n",
        "# printing tail\n",
        "n = len(queue) #len (lenght) untuk menghitung seberapa banyak jumlah data\n",
        "print(queue[-1]) #untuk mengakses indeks paling belakang, tanpa len juga bisa\n",
        "print(n)\n",
        "\n",
        "#poping element\n",
        "queue.remove(queue[0]) # mengikuti konsep queue maka yang di remove dari paling depan\n",
        "print(queue)\n",
        "queue.pop()\n",
        "print(queue)\n",
        "\n",
        "# perbedaan fungsi remove dan pop\n",
        "# kalau remove harus pakai objek dan indeks\n",
        "# kalau pop kita langsung masukin angka indeks tidak objek"
      ],
      "metadata": {
        "id": "YaijUpngnYxN"
      },
      "execution_count": null,
      "outputs": []
    },
    {
      "cell_type": "code",
      "source": [
        "# tree\n",
        "class node:\n",
        "  def __init__(self,ele):\n",
        "    self.ele = ele\n",
        "    self.left = None\n",
        "    self.right = None\n",
        "\n",
        "def preorder(self):\n",
        "  if self:\n",
        "    print(self.ele)\n",
        "    preorder(self.left)\n",
        "    preorder(self.right)\n",
        "\n",
        "n = node('first')\n",
        "n.left = node('second')\n",
        "n.right = node('third')\n",
        "preorder(n)"
      ],
      "metadata": {
        "id": "oKo9wc770OwG"
      },
      "execution_count": null,
      "outputs": []
    },
    {
      "cell_type": "code",
      "source": [
        "class mahasiswa():\n",
        "  def __init__(self,masukan_nama):\n",
        "    self.nama = masukan_nama\n",
        "\n",
        "  def nilai(self, nilai): #dijalankan ketika dipanggil\n",
        "    if nilai >= 70:\n",
        "      print(self.nama, 'lulus dengan nilai :', nilai)\n",
        "    else:\n",
        "      print(self.nama, 'tidak lulus dengan nilai :', nilai)\n",
        "\n",
        "bayu = mahasiswa(\"bayu Putra\")\n",
        "print(bayu.nama) # di panggil tanpa menggunakan nama method\n",
        "bayu.nilai(90); #dipanggil dengan menggunakan nama method"
      ],
      "metadata": {
        "id": "XnBn3k_C6ANI"
      },
      "execution_count": null,
      "outputs": []
    },
    {
      "cell_type": "code",
      "source": [
        "class orang():\n",
        "  def __init__(self, masukan_nama_orang):\n",
        "    self.nama_orang = masukan_nama_orang\n",
        "\n",
        "  def berat(self,berat):\n",
        "    if berat >= 80:\n",
        "      print(self.nama_orang, 'anda obesitas, berat anda:', berat)\n",
        "    else:\n",
        "      print(self.nama_orang, 'berat anda normal yakni: ', berat)\n",
        "\n",
        "indra = orang(\"indra wijaya s\")\n",
        "print(indra.nama_orang)\n",
        "indra.berat(90);"
      ],
      "metadata": {
        "id": "TpktMs5m7wWB"
      },
      "execution_count": null,
      "outputs": []
    },
    {
      "cell_type": "code",
      "source": [
        "#graph\n",
        "\n",
        "class adjnode:\n",
        "  def __init__(self,val):\n",
        "    self.val = val\n",
        "    self.next = None\n",
        "\n",
        "class graph:\n",
        "  def __init__(self,vertices):\n",
        "    self.v = vertices\n",
        "    self.ele = [None]*self.v\n",
        "\n",
        "  def edge(self, src, dest): #src (source), dest(destination)\n",
        "    node = adjnode(dest)\n",
        "    node.next = self.ele[src]\n",
        "    self.ele[src] = node\n",
        "\n",
        "    node = adjnode(src)\n",
        "    node.next = self.ele[dest]\n",
        "    self.ele[dest] = node\n",
        "\n",
        "  def __repr__(self):\n",
        "    for i in range(self.v):\n",
        "      print(\"Adjacency list of vertex {}\\n head\".format(i), end=\"\")\n",
        "      temp = self.ele[i]\n",
        "      while temp:\n",
        "        print(\" -> {}\".format(temp.val), end=\"\")\n",
        "        temp = temp.next\n",
        "\n",
        "g = graph(4) # mendefinisikan jumlah vertex yang ada\n",
        "# menghubungkan tiga vertex tersebut\n",
        "g.edge(0,2) #node 0 akan bertetangga dengan 2 dan seterusnya\n",
        "g.edge(1,3)\n",
        "g.edge(3,2)\n",
        "g.edge(0,3)\n",
        "g.__repr__()"
      ],
      "metadata": {
        "id": "McHyKZsgBSyp"
      },
      "execution_count": null,
      "outputs": []
    },
    {
      "cell_type": "code",
      "source": [
        "#Hashmaps\n",
        "\n",
        "#mendefinisikan fungsi untuk memanggil tiap key dan valuenya\n",
        "def printdict(d):\n",
        "  for key in d:\n",
        "    print(key, \"->\", d[key])\n",
        "#apabila suatu dict di print atau di panggil langsung (naked) dalam fungsi, yang terpanggil adalah keynya\n",
        "\n",
        "hashmaps = {0: 'first', 1: 'second', 2:'third'}\n",
        "printdict(hashmaps)\n",
        "print()\n",
        "\n",
        "\n",
        "hashmaps[4] = 'fourth'\n",
        "printdict(hashmaps)\n",
        "print()\n",
        "\n",
        "hashmaps.popitem() #menghilangkan indeks dimulai dari indeks terakhir\n",
        "printdict(hashmaps)"
      ],
      "metadata": {
        "id": "a-B95tqMD89g"
      },
      "execution_count": null,
      "outputs": []
    },
    {
      "cell_type": "code",
      "source": [
        "def print1(p):\n",
        "  for key in p:\n",
        "    print(key, \"->\", p[key])\n",
        "\n",
        "hashmaps = {0: 'kurus', 1: 'sedang', 2:'gemuk'}\n",
        "print1(hashmaps)\n",
        "print()\n",
        "\n",
        "hashmaps[3] = 'obesitas'\n",
        "print1(hashmaps)\n",
        "print()\n",
        "\n",
        "hashmaps.popitem()\n",
        "print1(hashmaps)"
      ],
      "metadata": {
        "id": "Vfouvz5QFXO5"
      },
      "execution_count": null,
      "outputs": []
    },
    {
      "cell_type": "markdown",
      "source": [
        "# **Pertemuan 4** String"
      ],
      "metadata": {
        "id": "-pL1I7G5epPt"
      }
    },
    {
      "cell_type": "code",
      "source": [
        "\"Indra Wijaya S\" or 'Indra Wijaya S'"
      ],
      "metadata": {
        "id": "Q1NvnUgOexRK"
      },
      "execution_count": null,
      "outputs": []
    },
    {
      "cell_type": "code",
      "source": [
        "print(\"belajar python fundamental string\"[-6])\n",
        "print(\"indra Wijaya S\"[0])"
      ],
      "metadata": {
        "id": "NzjkPEsugC7a"
      },
      "execution_count": null,
      "outputs": []
    },
    {
      "cell_type": "code",
      "source": [
        "# create String\n",
        "# with single quotes\n",
        "String1 = 'Welcome to world'\n",
        "print('String with the use of Singel Quotes: ')\n",
        "print(String1)\n",
        "print()\n",
        "\n",
        "String1 = \"Namaku Indra\"\n",
        "print(\"String with the use of Double Quotes: \")\n",
        "print(String1)\n",
        "print()\n",
        "\n",
        "#creating a string with triple quotes\n",
        "String1 = '''aku sedang membangun skill \"python developer\"'''\n",
        "print(\"\\nString with the use of Triple Quotes: \")\n",
        "print(String1)\n",
        "\n",
        "String2 = ''' i'm to talk about, how much salary in job \"data analyst\" '''\n",
        "print (String1)\n",
        "\n",
        "# creating String with triple Quotes allows multiple lines\n",
        "String1 = '''\n",
        "              Indra\n",
        "              Wijaya\n",
        "              S '''\n",
        "print(\"\\nCreating a multiline Sting: \")\n",
        "print(String1)\n",
        "\n",
        "String2 = '''\n",
        "              Alexsander\n",
        "              Hendra\n",
        "              Wijaya '''\n",
        "print(String2)"
      ],
      "metadata": {
        "id": "OWOPYD4Lguy_"
      },
      "execution_count": null,
      "outputs": []
    },
    {
      "cell_type": "code",
      "source": [
        "#Access Character in Python String\n",
        "\n",
        "String1 = \"Indra Wijaya S\"\n",
        "print(\"Initial String: \")\n",
        "print(String1)\n",
        "\n",
        "# Printing First character\n",
        "print(\"\\nFirst Character of String is: \")\n",
        "print(String1[0])\n",
        "\n",
        "# Printing Last Character\n",
        "print(\"\\nLast character of String is: \")\n",
        "print(String1[-1])"
      ],
      "metadata": {
        "id": "N9bw8qkmp3SR"
      },
      "execution_count": null,
      "outputs": []
    },
    {
      "cell_type": "code",
      "source": [
        "#reverse a String\n",
        "\n",
        "ind = \"Indra\"\n",
        "print(ind[::-1])\n",
        "\n",
        "balik_nama = \"ardnI\"\n",
        "print(balik_nama[::-1])"
      ],
      "metadata": {
        "id": "Gf8yD1J-rPKK"
      },
      "execution_count": null,
      "outputs": []
    },
    {
      "cell_type": "code",
      "source": [
        "#reverse the string using reversed and join function\n",
        "\n",
        "ind= \"indra\"\n",
        "\n",
        "ind= \"\".join(reversed(ind))\n",
        "\n",
        "print(ind)\n",
        "\n",
        "balik_nama= \"xela\"\n",
        "\n",
        "balik_nama= \"\".join(reversed(balik_nama))\n",
        "print(balik_nama)"
      ],
      "metadata": {
        "id": "y0drP5Gar2IJ"
      },
      "execution_count": null,
      "outputs": []
    },
    {
      "cell_type": "code",
      "source": [
        "#String Slicing\n",
        "\n",
        "#creating a String\n",
        "String1 = \"Alexsander Hendra Wijaya\"\n",
        "print(\"Initial String: \")\n",
        "print(String1)\n",
        "\n",
        "#Printing 3rd to 12th character\n",
        "print(\"\\nSlicing character from 3-12: \")\n",
        "print(String1[3:8])\n",
        "\n",
        "#Printing characters beetween 3rd and 2nd last character\n",
        "print(\"\\nSlicing characters beetween\"+\n",
        "      \"3rd and 2nd last character: \")\n",
        "print(String1[3:-1])\n",
        "\n",
        "print(String1[-1])\n",
        "print(String1[:])"
      ],
      "metadata": {
        "id": "8D_iCQpIs-FL"
      },
      "execution_count": null,
      "outputs": []
    },
    {
      "cell_type": "code",
      "source": [
        "#update entire String\n",
        "String1 = \"hello, im indra\"\n",
        "print(\"Initial String: \")\n",
        "print(String1)\n",
        "\n",
        "#updating A String\n",
        "String1 = \"welcome to the world\"\n",
        "print(\"\\nUpdate String: \")\n",
        "print(String1)"
      ],
      "metadata": {
        "id": "ZfNpsyK40Qct"
      },
      "execution_count": null,
      "outputs": []
    },
    {
      "cell_type": "code",
      "source": [
        "#Update Character\n",
        "# character of a String\n",
        "\n",
        "String1= \"Indra Wijaya S\"\n",
        "print(\"Initial String: \")\n",
        "print(String1)\n",
        "\n",
        "# Updating a Character of the String\n",
        "## As python Strings are immutable, they don't support item updation directly\n",
        "### there are following two ways\n",
        "#1\n",
        "list1 = list(String1)\n",
        "list1[4] = 'O'\n",
        "String2 = ''.join(list1)\n",
        "print(\"\\nUpdating character at fourth index: \")\n",
        "print(String2)\n",
        "\n",
        "#2\n",
        "String3 = String1[0:4] + 'O' + String1[5:]\n",
        "print(String3)"
      ],
      "metadata": {
        "id": "VGafbMOmvtXl"
      },
      "execution_count": null,
      "outputs": []
    },
    {
      "cell_type": "code",
      "source": [
        "#delete character\n",
        "\n",
        "String1 = \"indras Wijaya S\"\n",
        "print(\"Initial String: \")\n",
        "print(String1)\n",
        "\n",
        "#deleting a character of the String\n",
        "String2 = String1[0:5] + String1[6:]\n",
        "print(String2)"
      ],
      "metadata": {
        "id": "E6tKrctp0xXF"
      },
      "execution_count": null,
      "outputs": []
    },
    {
      "cell_type": "code",
      "source": [
        "String1 = \"welcome to the world\"\n",
        "print(\"Initial String: \")\n",
        "print(String1)\n",
        "\n",
        "#deleting String with the use of del\n",
        "del String1\n",
        "print(\"\\nDeleting entire String\")\n",
        "print(String1)"
      ],
      "metadata": {
        "id": "y5PsVFuk2BpT"
      },
      "execution_count": null,
      "outputs": []
    },
    {
      "cell_type": "code",
      "source": [
        "#escape Sequence in Python\n",
        "\n",
        "#initial String\n",
        "String1 = ''' i'm \"smart\"'''\n",
        "print(\"Initial String with use of Triple Quotes: \")\n",
        "print(String1)\n",
        "\n",
        "# Escaping Single Quote\n",
        "String1 = 'I\\'m Very \"tired\" with you'\n",
        "print(\"\\nEscaping Single Quote: \")\n",
        "print(String1)\n",
        "\n",
        "#Escaping Double Quotes\n",
        "String1= \"I'm very \\\"tired\\\" with you\"\n",
        "print(\"\\nEscaping Double Quote: \") #note: kasih tanda \\ dulu baru tanda yang ingin ditetapkan\n",
        "print(String1)\n",
        "\n",
        "# Printing Path with the use of Escape Sequence\n",
        "String1 = \"C: Https:\\\\\\Indra\\\\Channel\\\\.com\"\n",
        "print(\"\\nEscaping Backslash: \")\n",
        "print(String1)\n",
        "\n",
        "#printing paths with the use of tab\n",
        "String1 = \"Note:\\t jika ada sesuatu..\"\n",
        "print(\"\\nTab: \")\n",
        "print(String1)\n",
        "\n",
        "#printing Paths with the use of new line\n",
        "String1 = \"Nama\\nNIM\"\n",
        "print(\"\\nNew Line: \")\n",
        "print(String1)"
      ],
      "metadata": {
        "id": "zf44Cgrdu6l3"
      },
      "execution_count": null,
      "outputs": []
    },
    {
      "cell_type": "code",
      "source": [
        "#Formatting in String\n",
        "\n",
        "# Default Order\n",
        "nama_gue = \"{}{}{}\".format('Indra','Wijaya','S')\n",
        "print(\"Print String in default order: \")\n",
        "print(nama_gue)\n",
        "\n",
        "# Positional Formatting\n",
        "nama_gue = \"{1} {0} {2}\".format('Indra','Wijaya','S')\n",
        "print(\"\\nPrint String in positional order: \")\n",
        "print(nama_gue)\n",
        "\n",
        "# Keyword Formatting\n",
        "nama_gue = \"{a} {b} {c}\".format(a='Indra',c='s',b='Wijaya')\n",
        "print(nama_gue)"
      ],
      "metadata": {
        "id": "GVBar8VEwO2D"
      },
      "execution_count": null,
      "outputs": []
    },
    {
      "cell_type": "code",
      "source": [
        "# Formatting of Integers\n",
        "String1 = \"{0:b}\".format(16)\n",
        "print(\"\\nBinary representation of 16 is \")\n",
        "print(String1)\n",
        "\n",
        "#Formatting of Floats\n",
        "String1 = \"{0:e}\".format(165.6458)\n",
        "print(\"\\nExponent representation of 165.6458 is \")\n",
        "print(String1)\n",
        "\n",
        "#Rounding off Integer\n",
        "String = \"{0:.2f}\".format(23/400)\n",
        "print(\"\\none-sixth is : \")\n",
        "print(String1)"
      ],
      "metadata": {
        "id": "N90kTjvt3fsr"
      },
      "execution_count": null,
      "outputs": []
    },
    {
      "cell_type": "code",
      "source": [
        "# String Alignment\n",
        "String1 = \"|{:<1}|{:^1}{:>1}\".format('Indra','Wijaya','S')\n",
        "print(\"\\nLeft, Center and right alignment with formatting: \")\n",
        "print(String1)\n",
        "\n",
        "#To demonstrate aligning of space\n",
        "String1 = \"\\n{0:^16} was born in {1:<4}\".format(\"Indra Wijaya S\",2000)\n",
        "print(String1)"
      ],
      "metadata": {
        "id": "rEmvXEcY4kkp"
      },
      "execution_count": null,
      "outputs": []
    },
    {
      "cell_type": "code",
      "source": [
        "#Formatting dengan operator %\n",
        "Integer1 = 12.3456789\n",
        "print(\"formatting in 3.2f format: \")\n",
        "print('the value of Integer1 is %3.2f' % Integer1)\n",
        "print(\"\\nFormatting in 3.4f format: \")\n",
        "print('the value of Integer1 is %3.4f' % Integer1)\n",
        "print('the value of Integer1 is %3.3f' % Integer1)"
      ],
      "metadata": {
        "id": "Zhc94l2M6Ko1"
      },
      "execution_count": null,
      "outputs": []
    },
    {
      "cell_type": "markdown",
      "source": [
        "# **Pertemuan 5** Regular Expression"
      ],
      "metadata": {
        "id": "O96IPdERIuZ7"
      }
    },
    {
      "cell_type": "code",
      "source": [
        "#Regular Expression\n",
        "\n",
        "import re\n",
        "\n",
        "s = 'LMS: portal for any learning path'\n",
        "\n",
        "#match adalah tempat meletakan re search\n",
        "# ' ' kata yang ingin kita cari\n",
        "# tempat meletakan string\n",
        "match = re.search(r'for', s)\n",
        "\n",
        "# .start ideks awal pada string begitu end sebaliknya\n",
        "print('Start Index: ', match.start())\n",
        "print('End Index: ', match.end())\n",
        "\n",
        "name = 'Indra dengan IPK 398'\n",
        "\n",
        "match = re.search(r'\\d+', name)\n",
        "print('IPK : ', match.start())\n",
        "print('IPK : ', match.end())\n",
        "\n",
        "A = 'Hari ini gua ingin ke perpusnas'\n",
        "\n",
        "match = re.search(r'ke',A)\n",
        "print('indeks pertamanya adalah ',match.start())"
      ],
      "metadata": {
        "id": "ySuNHGzVI2bj"
      },
      "execution_count": null,
      "outputs": []
    },
    {
      "cell_type": "code",
      "source": [
        "# percobaan\n",
        "\n",
        "import re\n",
        "coba = 'Halo nama saya winardi, nomor rumah saya adalah 63'\n",
        "match = re.search(r'\\d+', coba)\n",
        "print('indeks nomor pertama: ', match.start())\n",
        "print('indeks nomor terakhir: ', match.end())\n",
        "\n",
        "trial = \"saya lahir pada 27 Januari 2000\"\n",
        "match = re.search (r'\\d+', trial)\n",
        "print('indeks tanggal pertama: ', match.start())\n",
        "match = re.search(r'lahir', trial)\n",
        "print('indeks pertama: ', match.start())\n",
        "print('indeks terakhir: ', match.end())\n",
        "\n",
        "r = \"(\\d+)\"\n",
        "match = re.findall(r,trial)\n",
        "print(match)"
      ],
      "metadata": {
        "id": "unlLdc17LPtw"
      },
      "execution_count": null,
      "outputs": []
    },
    {
      "cell_type": "code",
      "source": [
        "#metacharacter\n",
        "\n",
        "import re\n",
        "s = 'Adgan167@gmail.com'\n",
        "\n",
        "# without using \\\n",
        "match = re.search (r'.',s)\n",
        "print(match)\n",
        "\n",
        "#using \\\n",
        "match = re.search(r'\\.',s)\n",
        "print(match)"
      ],
      "metadata": {
        "id": "30t-TstRRs9-"
      },
      "execution_count": null,
      "outputs": []
    },
    {
      "cell_type": "code",
      "source": [
        "# Module Regex - re.findall()\n",
        "\n",
        "import re\n",
        "# A sample text string where regular expression\n",
        "# is searched\n",
        "string = \"\"\" Hello my student id is 2221210017 and my friend's number student\n",
        "              id is 2221210020. no telp indra 082221212121\"\"\"\n",
        "# A sample regular expression to find digits\n",
        "match = re.findall(r'\\d+', string)\n",
        "print(match)\n",
        "\n",
        "regex = \"(\\d+)\"\n",
        "match = re.findall(regex,string)\n",
        "print(match)"
      ],
      "metadata": {
        "id": "xQvL3B-_TjXH"
      },
      "execution_count": null,
      "outputs": []
    },
    {
      "cell_type": "code",
      "source": [
        "# module Regex - re.compile()\n",
        "\n",
        "import re\n",
        "\n",
        "#compile() creates regular expression\n",
        "# character class [a-e],\n",
        "# which is equivalent to [abcde]\n",
        "# class [abcde] will match with string with\n",
        "# 'a','b','c','d','e'.\n",
        "p = re.compile('[a-e]', flags=re.IGNORECASE)\n",
        "\n",
        "#findall() searches for the regular expression\n",
        "# and return a list upon finding\n",
        "print(p.findall(\"Indra Wijaya S\"))"
      ],
      "metadata": {
        "id": "i06YBUxLUwYn"
      },
      "execution_count": null,
      "outputs": []
    }
  ]
}