{
  "nbformat": 4,
  "nbformat_minor": 0,
  "metadata": {
    "colab": {
      "provenance": []
    },
    "kernelspec": {
      "name": "python3",
      "display_name": "Python 3"
    },
    "language_info": {
      "name": "python"
    }
  },
  "cells": [
    {
      "cell_type": "markdown",
      "source": [
        "# **Pertemuan 1**"
      ],
      "metadata": {
        "id": "g6JTu6pA4RDp"
      }
    },
    {
      "cell_type": "code",
      "execution_count": null,
      "metadata": {
        "colab": {
          "base_uri": "https://localhost:8080/"
        },
        "id": "dwUA887q2y8A",
        "outputId": "f0fe5938-c1eb-467e-b4e4-819a8f522421"
      },
      "outputs": [
        {
          "output_type": "stream",
          "name": "stdout",
          "text": [
            "[]\n",
            "[1, 2, 3, 'contoh', 3.14]\n"
          ]
        }
      ],
      "source": [
        "# List\n",
        "\n",
        "my_list = [] #membuat list kosong\n",
        "print(my_list)\n",
        "my_list = [1, 2, 3, 'contoh', 3.14] #memasukan data kedalam list\n",
        "print(my_list)"
      ]
    },
    {
      "cell_type": "code",
      "source": [
        "# Dictionary\n",
        "my_dict = {'first': 'Python', 'second': 'Java'} #membuat dictionary kosong\n",
        "print(my_dict)\n",
        "my_dict['second'] = 'C++' #mengubah elemen di dalam dictionary\n",
        "print(my_dict)\n",
        "my_dict ['third'] = 'Ruby' #menambah elemen di dalam dictionary\n",
        "print(my_dict)"
      ],
      "metadata": {
        "colab": {
          "base_uri": "https://localhost:8080/"
        },
        "id": "qzxfQYGK3XZy",
        "outputId": "a52af53b-7e73-4038-9b09-b595a0cfea04"
      },
      "execution_count": null,
      "outputs": [
        {
          "output_type": "stream",
          "name": "stdout",
          "text": [
            "{'first': 'Python', 'second': 'Java'}\n",
            "{'first': 'Python', 'second': 'C++'}\n",
            "{'first': 'Python', 'second': 'C++', 'third': 'Ruby'}\n"
          ]
        }
      ]
    },
    {
      "cell_type": "code",
      "source": [
        "# Tuple\n",
        "my_tuple = (1, 2, 3, 'indra') # Membuat Tuple\n",
        "print(my_tuple)\n",
        "print(my_tuple[0])\n",
        "print(my_tuple[:])\n",
        "print(my_tuple[3][4])"
      ],
      "metadata": {
        "colab": {
          "base_uri": "https://localhost:8080/"
        },
        "id": "WdTxaYaS43qY",
        "outputId": "e5ac1d53-eef4-4d9f-ba36-e3dc469bf1cf"
      },
      "execution_count": null,
      "outputs": [
        {
          "output_type": "stream",
          "name": "stdout",
          "text": [
            "(1, 2, 3, 'indra')\n",
            "1\n",
            "(1, 2, 3, 'indra')\n",
            "a\n"
          ]
        }
      ]
    },
    {
      "cell_type": "code",
      "source": [
        "# Set\n",
        "my_set = {1,2,3,4,4,4,5} #membuat set\n",
        "print(my_set)\n",
        "my_set.add(4) #menambahkan elemen kedalam set\n",
        "print(my_set)"
      ],
      "metadata": {
        "colab": {
          "base_uri": "https://localhost:8080/"
        },
        "id": "GwfxZ7CI5b4g",
        "outputId": "776c57d9-a7d2-4a28-d893-1fe264834e83"
      },
      "execution_count": null,
      "outputs": [
        {
          "output_type": "stream",
          "name": "stdout",
          "text": [
            "{1, 2, 3, 4, 5}\n",
            "{1, 2, 3, 4, 5}\n"
          ]
        }
      ]
    },
    {
      "cell_type": "code",
      "source": [
        "my_set = {1,2,3,4}\n",
        "my_set_2 = {3,4,5,6}\n",
        "\n",
        "print(my_set.union(my_set_2), '---', my_set|my_set_2)\n",
        "print(my_set.intersection(my_set_2), '---', my_set&my_set_2)\n",
        "print(my_set.difference(my_set_2), '---', my_set-my_set_2)\n",
        "print(my_set.symmetric_difference(my_set_2), '---', my_set^my_set_2)"
      ],
      "metadata": {
        "colab": {
          "base_uri": "https://localhost:8080/"
        },
        "id": "GWegcBTm6ApJ",
        "outputId": "98e0d11e-6266-4bc4-87ff-728e01e031b3"
      },
      "execution_count": null,
      "outputs": [
        {
          "output_type": "stream",
          "name": "stdout",
          "text": [
            "{1, 2, 3, 4, 5, 6} --- {1, 2, 3, 4, 5, 6}\n",
            "{3, 4} --- {3, 4}\n",
            "{1, 2} --- {1, 2}\n",
            "{1, 2, 5, 6} --- {1, 2, 5, 6}\n"
          ]
        }
      ]
    },
    {
      "cell_type": "code",
      "source": [
        "#if Statement\n",
        "\n",
        "num = 5\n",
        "\n",
        "if(num > 0):\n",
        "  print(num, 'adalah Bilangan Positif')\n",
        "print(num, 'adalah bilangan negatif atau nol')"
      ],
      "metadata": {
        "colab": {
          "base_uri": "https://localhost:8080/"
        },
        "id": "1MuYzmQa7AEc",
        "outputId": "870cce7e-bba5-4a7c-87ed-c5d59bfebce4"
      },
      "execution_count": null,
      "outputs": [
        {
          "output_type": "stream",
          "name": "stdout",
          "text": [
            "5 adalah Bilangan Positif\n",
            "5 adalah bilangan negatif atau nol\n"
          ]
        }
      ]
    },
    {
      "cell_type": "code",
      "source": [
        "#if Else Statement\n",
        "\n",
        "num = -1\n",
        "if(num > 0):\n",
        "  print(num, 'adalah bilangan positif')\n",
        "else:\n",
        "  print(num, 'adalah bilangan negatif atau nol')"
      ],
      "metadata": {
        "colab": {
          "base_uri": "https://localhost:8080/"
        },
        "id": "-Vph_esO7hov",
        "outputId": "9357b5ac-8d3a-46bd-a519-a42104e89b98"
      },
      "execution_count": null,
      "outputs": [
        {
          "output_type": "stream",
          "name": "stdout",
          "text": [
            "-1 adalah bilangan negatif atau nol\n"
          ]
        }
      ]
    },
    {
      "cell_type": "code",
      "source": [
        "# if, Elif, else statement\n",
        "\n",
        "num = 5\n",
        "\n",
        "if(num > 0):\n",
        "  print(num , 'adalah bilangan positif')\n",
        "elif(num == 0):\n",
        "  print(num, 'adalah bilangan nol')\n",
        "else:\n",
        "  print(num, 'adalah bilangan negatif')"
      ],
      "metadata": {
        "colab": {
          "base_uri": "https://localhost:8080/"
        },
        "id": "gGSfw6Ib73HN",
        "outputId": "1e5465e3-b30a-4987-ee57-80612217d42e"
      },
      "execution_count": null,
      "outputs": [
        {
          "output_type": "stream",
          "name": "stdout",
          "text": [
            "5 adalah bilangan positif\n"
          ]
        }
      ]
    },
    {
      "cell_type": "code",
      "source": [
        "#If nested\n",
        "\n",
        "num =5\n",
        "\n",
        "if(num >= 0):\n",
        "  if(num == 0):\n",
        "    print(num, 'adalah bilangan nol')\n",
        "  else:\n",
        "    print(num, 'adalah bilangan positif')\n",
        "else:\n",
        "  print(num, 'adalah bilangan negatif')"
      ],
      "metadata": {
        "colab": {
          "base_uri": "https://localhost:8080/"
        },
        "id": "WXTxGRVE8S5k",
        "outputId": "62356724-9286-4a92-c8dd-32bcd446501d"
      },
      "execution_count": null,
      "outputs": [
        {
          "output_type": "stream",
          "name": "stdout",
          "text": [
            "5 adalah bilangan positif\n"
          ]
        }
      ]
    },
    {
      "cell_type": "code",
      "source": [
        "#while loop\n",
        "\n",
        "num = 1\n",
        "angka_ganjil = []\n",
        "\n",
        "while num:\n",
        "  if(num % 2 != 0):\n",
        "    angka_ganjil.append(num)\n",
        "  if(num >=20):\n",
        "    break\n",
        "  num += 1\n",
        "\n",
        "print('angka ganjil =', angka_ganjil)"
      ],
      "metadata": {
        "colab": {
          "base_uri": "https://localhost:8080/"
        },
        "id": "R5SWQKej84b-",
        "outputId": "b1655ab1-3a4c-490d-bae6-ae5fd860dd87"
      },
      "execution_count": null,
      "outputs": [
        {
          "output_type": "stream",
          "name": "stdout",
          "text": [
            "angka ganjil = [1, 3, 5, 7, 9, 11, 13, 15, 17, 19]\n"
          ]
        }
      ]
    },
    {
      "cell_type": "code",
      "source": [
        "#for loop\n",
        "\n",
        "list = {1,2,3,4,5}\n",
        "\n",
        "for num in list:\n",
        "  print('num')"
      ],
      "metadata": {
        "colab": {
          "base_uri": "https://localhost:8080/"
        },
        "id": "42Yw68Dk-tZH",
        "outputId": "3473d250-2fae-49be-cb6c-ca6ce820ff92"
      },
      "execution_count": null,
      "outputs": [
        {
          "output_type": "stream",
          "name": "stdout",
          "text": [
            "num\n",
            "num\n",
            "num\n",
            "num\n",
            "num\n"
          ]
        }
      ]
    },
    {
      "cell_type": "code",
      "source": [
        "#function with return\n",
        "\n",
        "def pow(a):\n",
        "  return a**2\n",
        "\n",
        "print(pow(2))\n",
        "\n",
        "power=pow(2)\n",
        "print(power)"
      ],
      "metadata": {
        "colab": {
          "base_uri": "https://localhost:8080/"
        },
        "id": "BqJLzLVK-u9r",
        "outputId": "7fad7f44-7cf7-4d04-e092-193567d4f68d"
      },
      "execution_count": null,
      "outputs": [
        {
          "output_type": "stream",
          "name": "stdout",
          "text": [
            "4\n",
            "4\n"
          ]
        }
      ]
    },
    {
      "cell_type": "code",
      "source": [
        "#function no return / Procedure\n",
        "def pow(a):\n",
        "  print(a**2)\n",
        "\n",
        "pow(2)"
      ],
      "metadata": {
        "colab": {
          "base_uri": "https://localhost:8080/"
        },
        "id": "pvDykSlcADd1",
        "outputId": "d95287d8-962d-44a0-9beb-1d71cec0c6bc"
      },
      "execution_count": null,
      "outputs": [
        {
          "output_type": "stream",
          "name": "stdout",
          "text": [
            "4\n"
          ]
        }
      ]
    },
    {
      "cell_type": "markdown",
      "source": [
        "## **Pertemuan** **2**"
      ],
      "metadata": {
        "id": "Tu-obDghKmnd"
      }
    },
    {
      "cell_type": "code",
      "source": [
        "#function arguments\n",
        "\n",
        "def greet (name, msg = 'apa kabar'):\n",
        "    \"\"\" fungsi ini menyapa orang dengan pesan yang di berikan\"\"\"\n",
        "    print('hello', name , ',', msg)\n",
        "\n",
        "greet(\"indra\")"
      ],
      "metadata": {
        "colab": {
          "base_uri": "https://localhost:8080/"
        },
        "id": "1bJj5QENK3OW",
        "outputId": "d13ee7a8-cb80-4c4c-d35d-29406ad54187"
      },
      "execution_count": 4,
      "outputs": [
        {
          "output_type": "stream",
          "name": "stdout",
          "text": [
            "hello indra , apa kabar\n"
          ]
        }
      ]
    }
  ]
}