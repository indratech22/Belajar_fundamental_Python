{
  "nbformat": 4,
  "nbformat_minor": 0,
  "metadata": {
    "colab": {
      "provenance": []
    },
    "kernelspec": {
      "name": "python3",
      "display_name": "Python 3"
    },
    "language_info": {
      "name": "python"
    }
  },
  "cells": [
    {
      "cell_type": "markdown",
      "source": [
        "# **Pertemuan 1** List, Dictionary, Tuple, Set, perulangan dan if else"
      ],
      "metadata": {
        "id": "g6JTu6pA4RDp"
      }
    },
    {
      "cell_type": "code",
      "execution_count": null,
      "metadata": {
        "colab": {
          "base_uri": "https://localhost:8080/"
        },
        "id": "dwUA887q2y8A",
        "outputId": "8378f580-df44-4d0e-e366-9792482c41c1"
      },
      "outputs": [
        {
          "output_type": "stream",
          "name": "stdout",
          "text": [
            "[]\n",
            "[1, 2, 3, 'contoh', 3.14]\n"
          ]
        }
      ],
      "source": [
        "# List\n",
        "\n",
        "my_list = [] #membuat list kosong\n",
        "print(my_list)\n",
        "my_list = [1, 2, 3, 'contoh', 3.14] #memasukan data kedalam list\n",
        "print(my_list)"
      ]
    },
    {
      "cell_type": "code",
      "source": [
        "# Dictionary\n",
        "my_dict = {'first': 'Python', 'second': 'Java'} #membuat dictionary kosong\n",
        "print(my_dict)\n",
        "my_dict['second'] = 'C++' #mengubah elemen di dalam dictionary\n",
        "print(my_dict)\n",
        "my_dict ['third'] = 'Ruby' #menambah elemen di dalam dictionary\n",
        "print(my_dict)"
      ],
      "metadata": {
        "colab": {
          "base_uri": "https://localhost:8080/"
        },
        "id": "qzxfQYGK3XZy",
        "outputId": "f4127fcd-2e28-4026-9078-9f61efb41646"
      },
      "execution_count": null,
      "outputs": [
        {
          "output_type": "stream",
          "name": "stdout",
          "text": [
            "{'first': 'Python', 'second': 'Java'}\n",
            "{'first': 'Python', 'second': 'C++'}\n",
            "{'first': 'Python', 'second': 'C++', 'third': 'Ruby'}\n"
          ]
        }
      ]
    },
    {
      "cell_type": "code",
      "source": [
        "# Tuple\n",
        "my_tuple = (1, 2, 3, 'indra') # Membuat Tuple\n",
        "print(my_tuple)\n",
        "print(my_tuple[0])\n",
        "print(my_tuple[:])\n",
        "print(my_tuple[3][4])"
      ],
      "metadata": {
        "id": "WdTxaYaS43qY",
        "colab": {
          "base_uri": "https://localhost:8080/"
        },
        "outputId": "b3e2c95c-7b00-482a-e6f7-69035776b117"
      },
      "execution_count": null,
      "outputs": [
        {
          "output_type": "stream",
          "name": "stdout",
          "text": [
            "(1, 2, 3, 'indra')\n",
            "1\n",
            "(1, 2, 3, 'indra')\n",
            "a\n"
          ]
        }
      ]
    },
    {
      "cell_type": "code",
      "source": [
        "# Set\n",
        "my_set = {1,2,3,4,4,4,5} #membuat set\n",
        "print(my_set)\n",
        "my_set.add(4) #menambahkan elemen kedalam set\n",
        "print(my_set)"
      ],
      "metadata": {
        "id": "GwfxZ7CI5b4g",
        "colab": {
          "base_uri": "https://localhost:8080/"
        },
        "outputId": "dbe10e1a-5bb9-4e17-c76e-d41f486ae372"
      },
      "execution_count": null,
      "outputs": [
        {
          "output_type": "stream",
          "name": "stdout",
          "text": [
            "{1, 2, 3, 4, 5}\n",
            "{1, 2, 3, 4, 5}\n"
          ]
        }
      ]
    },
    {
      "cell_type": "code",
      "source": [
        "my_set = {1,2,3,4}\n",
        "my_set_2 = {3,4,5,6}\n",
        "\n",
        "print(my_set.union(my_set_2), '---', my_set|my_set_2)\n",
        "print(my_set.intersection(my_set_2), '---', my_set&my_set_2)\n",
        "print(my_set.difference(my_set_2), '---', my_set-my_set_2)\n",
        "print(my_set.symmetric_difference(my_set_2), '---', my_set^my_set_2)"
      ],
      "metadata": {
        "id": "GWegcBTm6ApJ",
        "colab": {
          "base_uri": "https://localhost:8080/"
        },
        "outputId": "ac7f7044-f999-4d05-a069-52159c77c657"
      },
      "execution_count": null,
      "outputs": [
        {
          "output_type": "stream",
          "name": "stdout",
          "text": [
            "{1, 2, 3, 4, 5, 6} --- {1, 2, 3, 4, 5, 6}\n",
            "{3, 4} --- {3, 4}\n",
            "{1, 2} --- {1, 2}\n",
            "{1, 2, 5, 6} --- {1, 2, 5, 6}\n"
          ]
        }
      ]
    },
    {
      "cell_type": "code",
      "source": [
        "#if Statement\n",
        "\n",
        "num = 5\n",
        "\n",
        "if(num > 0):\n",
        "  print(num, 'adalah Bilangan Positif')\n",
        "print(num, 'adalah bilangan negatif atau nol')"
      ],
      "metadata": {
        "id": "1MuYzmQa7AEc",
        "colab": {
          "base_uri": "https://localhost:8080/"
        },
        "outputId": "a3a92c7b-2878-4a90-b4d0-67ba1a8c59c1"
      },
      "execution_count": null,
      "outputs": [
        {
          "output_type": "stream",
          "name": "stdout",
          "text": [
            "5 adalah Bilangan Positif\n",
            "5 adalah bilangan negatif atau nol\n"
          ]
        }
      ]
    },
    {
      "cell_type": "code",
      "source": [
        "#if Else Statement\n",
        "\n",
        "num = -1\n",
        "if(num > 0):\n",
        "  print(num, 'adalah bilangan positif')\n",
        "else:\n",
        "  print(num, 'adalah bilangan negatif atau nol')"
      ],
      "metadata": {
        "id": "-Vph_esO7hov",
        "colab": {
          "base_uri": "https://localhost:8080/"
        },
        "outputId": "f2374155-2649-4144-e29b-1a48363f6d67"
      },
      "execution_count": null,
      "outputs": [
        {
          "output_type": "stream",
          "name": "stdout",
          "text": [
            "-1 adalah bilangan negatif atau nol\n"
          ]
        }
      ]
    },
    {
      "cell_type": "code",
      "source": [
        "# if, Elif, else statement\n",
        "\n",
        "num = 5\n",
        "\n",
        "if(num > 0):\n",
        "  print(num , 'adalah bilangan positif')\n",
        "elif(num == 0):\n",
        "  print(num, 'adalah bilangan nol')\n",
        "else:\n",
        "  print(num, 'adalah bilangan negatif')"
      ],
      "metadata": {
        "id": "gGSfw6Ib73HN",
        "colab": {
          "base_uri": "https://localhost:8080/"
        },
        "outputId": "0e427be2-9584-4b8b-e1af-cc03c852998f"
      },
      "execution_count": null,
      "outputs": [
        {
          "output_type": "stream",
          "name": "stdout",
          "text": [
            "5 adalah bilangan positif\n"
          ]
        }
      ]
    },
    {
      "cell_type": "code",
      "source": [
        "#If nested\n",
        "\n",
        "num =5\n",
        "\n",
        "if(num >= 0):\n",
        "  if(num == 0):\n",
        "    print(num, 'adalah bilangan nol')\n",
        "  else:\n",
        "    print(num, 'adalah bilangan positif')\n",
        "else:\n",
        "  print(num, 'adalah bilangan negatif')"
      ],
      "metadata": {
        "id": "WXTxGRVE8S5k",
        "colab": {
          "base_uri": "https://localhost:8080/"
        },
        "outputId": "4d1011ce-412a-441f-9551-98cbe47310d3"
      },
      "execution_count": null,
      "outputs": [
        {
          "output_type": "stream",
          "name": "stdout",
          "text": [
            "5 adalah bilangan positif\n"
          ]
        }
      ]
    },
    {
      "cell_type": "code",
      "source": [
        "#while loop\n",
        "\n",
        "num = 1\n",
        "angka_ganjil = []\n",
        "\n",
        "while num:\n",
        "  if(num % 2 != 0):\n",
        "    angka_ganjil.append(num)\n",
        "  if(num >=20):\n",
        "    break\n",
        "  num += 1\n",
        "\n",
        "print('angka ganjil =', angka_ganjil)"
      ],
      "metadata": {
        "id": "R5SWQKej84b-",
        "colab": {
          "base_uri": "https://localhost:8080/"
        },
        "outputId": "2d6bde1f-a5cf-40f9-9a49-66cf2efeac6b"
      },
      "execution_count": null,
      "outputs": [
        {
          "output_type": "stream",
          "name": "stdout",
          "text": [
            "angka ganjil = [1, 3, 5, 7, 9, 11, 13, 15, 17, 19]\n"
          ]
        }
      ]
    },
    {
      "cell_type": "code",
      "source": [
        "#for loop\n",
        "\n",
        "list = {1,2,3,4,5}\n",
        "\n",
        "for num in list:\n",
        "  print('num')"
      ],
      "metadata": {
        "id": "42Yw68Dk-tZH",
        "colab": {
          "base_uri": "https://localhost:8080/"
        },
        "outputId": "8a838014-b489-4061-e8a3-9e536cd9b239"
      },
      "execution_count": null,
      "outputs": [
        {
          "output_type": "stream",
          "name": "stdout",
          "text": [
            "num\n",
            "num\n",
            "num\n",
            "num\n",
            "num\n"
          ]
        }
      ]
    },
    {
      "cell_type": "code",
      "source": [
        "#function with return\n",
        "\n",
        "def pow(a):\n",
        "  return a**2\n",
        "\n",
        "print(pow(2))\n",
        "\n",
        "power=pow(2)\n",
        "print(power)"
      ],
      "metadata": {
        "id": "BqJLzLVK-u9r",
        "colab": {
          "base_uri": "https://localhost:8080/"
        },
        "outputId": "8d655814-bf6b-49cd-d28c-43e928e63008"
      },
      "execution_count": null,
      "outputs": [
        {
          "output_type": "stream",
          "name": "stdout",
          "text": [
            "4\n",
            "4\n"
          ]
        }
      ]
    },
    {
      "cell_type": "code",
      "source": [
        "#function no return / Procedure\n",
        "def pow(a):\n",
        "  print(a**2)\n",
        "\n",
        "pow(2)"
      ],
      "metadata": {
        "id": "pvDykSlcADd1",
        "colab": {
          "base_uri": "https://localhost:8080/"
        },
        "outputId": "5de3b043-23dc-4965-a423-eb72e09fea0a"
      },
      "execution_count": null,
      "outputs": [
        {
          "output_type": "stream",
          "name": "stdout",
          "text": [
            "4\n"
          ]
        }
      ]
    },
    {
      "cell_type": "markdown",
      "source": [
        "## **Pertemuan** **2** Function Argument, Keyword Argument, Arbitrary Argument, Function Recursion, Anonymous Function, Variabel (Local, Global, Non local)"
      ],
      "metadata": {
        "id": "Tu-obDghKmnd"
      }
    },
    {
      "cell_type": "code",
      "source": [
        "#function arguments\n",
        "\n",
        "def greet (name, msg = 'apa kabar'):\n",
        "    \"\"\" fungsi ini menyapa orang dengan pesan yang di berikan\"\"\"\n",
        "    print('hello', name , ',', msg)\n",
        "\n",
        "greet(\"indra\")"
      ],
      "metadata": {
        "id": "1bJj5QENK3OW",
        "colab": {
          "base_uri": "https://localhost:8080/"
        },
        "outputId": "1ad5422f-2894-4e7e-8c8f-c0d6de5f8d25"
      },
      "execution_count": null,
      "outputs": [
        {
          "output_type": "stream",
          "name": "stdout",
          "text": [
            "hello indra , apa kabar\n"
          ]
        }
      ]
    },
    {
      "cell_type": "code",
      "source": [
        "def greet(name,msg=\"apa kabar\"):\n",
        "  \"\"\"\n",
        "  Fungsi ini menyapa orang dengan\n",
        "  pesan yang disediakan.\n",
        "\n",
        "  jika pesan tidak diberikan,\n",
        "  defaultnya adalah \"good morning!\"\n",
        "  \"\"\"\n",
        "  print(\"hello\",name,', ', msg)\n",
        "\n",
        "greet(\"indra\",\"bagaimana keadaanmu\")\n",
        "greet(\"budi\")"
      ],
      "metadata": {
        "id": "6gbyQeiG3azX",
        "colab": {
          "base_uri": "https://localhost:8080/"
        },
        "outputId": "7229c33e-df79-4912-efde-4ef365c0c75d"
      },
      "execution_count": null,
      "outputs": [
        {
          "output_type": "stream",
          "name": "stdout",
          "text": [
            "hello indra ,  bagaimana keadaanmu\n",
            "hello budi ,  apa kabar\n"
          ]
        }
      ]
    },
    {
      "cell_type": "code",
      "source": [
        "# Python Keyword Arguments\n",
        "\n",
        "# 2 keyword arguments\n",
        "greet(name=\"Indra\",msg=\"apa kabar denganmu?\")\n",
        "\n",
        "# 2 keyword arguments (out of order)\n",
        "greet(msg=\"halo\", name=\"budi\")\n",
        "\n",
        "# 1 positional, 1 keyword argument\n",
        "greet(\"indra\", msg=\"bagaimana kabarmu?\")"
      ],
      "metadata": {
        "id": "Tdbjfe7G4XHl",
        "colab": {
          "base_uri": "https://localhost:8080/"
        },
        "outputId": "7859f0b8-442d-4756-e078-2d4104780eed"
      },
      "execution_count": null,
      "outputs": [
        {
          "output_type": "stream",
          "name": "stdout",
          "text": [
            "hello Indra ,  apa kabar denganmu?\n",
            "hello budi ,  halo\n",
            "hello indra ,  bagaimana kabarmu?\n"
          ]
        }
      ]
    },
    {
      "cell_type": "code",
      "source": [
        "# arbitrary argument\n",
        "def greet(*names):\n",
        "  \"\"\" fungsi ini menyapa semua\n",
        "  orang dalam nama tuple.\"\"\"\n",
        "\n",
        "  #names adalah tuple dengan argument\n",
        "  for name in names:\n",
        "    print(\"hello\",name)\n",
        "\n",
        "greet(\"A\",\"B\",\"C\",\"D\")"
      ],
      "metadata": {
        "id": "oUeongSt5uBr",
        "colab": {
          "base_uri": "https://localhost:8080/"
        },
        "outputId": "96b15de7-348b-4738-e54e-35cbb2de2a1c"
      },
      "execution_count": null,
      "outputs": [
        {
          "output_type": "stream",
          "name": "stdout",
          "text": [
            "hello A\n",
            "hello B\n",
            "hello C\n",
            "hello D\n"
          ]
        }
      ]
    },
    {
      "cell_type": "code",
      "source": [
        "#function Recursion Bilangan Faktorial\n",
        "\n",
        "def factorial(x):\n",
        "  \"\"\"fungsi ini berfungsi untuk\n",
        "  menemukan faktorial dari bilangan bulat\"\"\"\n",
        "\n",
        "  if x==1:\n",
        "    return 1\n",
        "  else:\n",
        "    return x * factorial(x-1)\n",
        "\n",
        "num = 3\n",
        "\n",
        "print(\"nilai faktorial dari \", num , \"adalah\", factorial(num))"
      ],
      "metadata": {
        "id": "c-10pbekIDYl",
        "colab": {
          "base_uri": "https://localhost:8080/"
        },
        "outputId": "6d5858b5-db6e-42a2-ad9c-7e16fb3d3808"
      },
      "execution_count": null,
      "outputs": [
        {
          "output_type": "stream",
          "name": "stdout",
          "text": [
            "nilai faktorial dari  3 adalah 6\n"
          ]
        }
      ]
    },
    {
      "cell_type": "code",
      "source": [
        "# function Recursion Bilangan Fibonacci\n",
        "\n",
        "def fibonacci (n):\n",
        "  if n < 1:\n",
        "    return [n]\n",
        "\n",
        "  listSebelumN = fibonacci(n - 1)\n",
        "  angka1 = listSebelumN[-2] if len(listSebelumN) > 2 else 0\n",
        "  angka2 = listSebelumN[-1] if len(listSebelumN) > 2 else 1\n",
        "\n",
        "  return listSebelumN + [angka1 + angka2]\n",
        "\n",
        "panjang = int(input('masukan panjang deret:'))\n",
        "\n",
        "print(fibonacci(panjang-1)) #dikurangi satu agar tidak kelebihan indeksnya"
      ],
      "metadata": {
        "id": "Jm_fravpIysK",
        "colab": {
          "base_uri": "https://localhost:8080/"
        },
        "outputId": "4357fe10-46e0-4a9f-e54d-1949eabd3d37"
      },
      "execution_count": null,
      "outputs": [
        {
          "output_type": "stream",
          "name": "stdout",
          "text": [
            "masukan panjang deret:10\n",
            "[0, 1, 1, 2, 3, 5, 8, 13, 21, 34]\n"
          ]
        }
      ]
    },
    {
      "cell_type": "code",
      "source": [
        "# anonymous Function untuk pangkat\n",
        "\n",
        "double = lambda x: x * 5\n",
        "\n",
        "print(double(5))"
      ],
      "metadata": {
        "id": "jEWE1O-XYwhi",
        "colab": {
          "base_uri": "https://localhost:8080/"
        },
        "outputId": "e06bb438-3b50-4c66-9c40-19113221ad56"
      },
      "execution_count": null,
      "outputs": [
        {
          "output_type": "stream",
          "name": "stdout",
          "text": [
            "25\n"
          ]
        }
      ]
    },
    {
      "cell_type": "code",
      "source": [
        "# anonymous function untuk list genap\n",
        "\n",
        "my_list = [1,5,4,6,8,11,3,12]\n",
        "new_list = list(filter(lambda x: (x%2 ==0) , my_list))\n",
        "\n",
        "print(new_list)"
      ],
      "metadata": {
        "id": "4a8W6x_rZMWU",
        "colab": {
          "base_uri": "https://localhost:8080/",
          "height": 211
        },
        "outputId": "5956b016-802f-4572-e549-659676dfd8c0"
      },
      "execution_count": null,
      "outputs": [
        {
          "output_type": "error",
          "ename": "TypeError",
          "evalue": "'set' object is not callable",
          "traceback": [
            "\u001b[0;31m---------------------------------------------------------------------------\u001b[0m",
            "\u001b[0;31mTypeError\u001b[0m                                 Traceback (most recent call last)",
            "\u001b[0;32m<ipython-input-23-db38081fc1b5>\u001b[0m in \u001b[0;36m<cell line: 4>\u001b[0;34m()\u001b[0m\n\u001b[1;32m      2\u001b[0m \u001b[0;34m\u001b[0m\u001b[0m\n\u001b[1;32m      3\u001b[0m \u001b[0mmy_list\u001b[0m \u001b[0;34m=\u001b[0m \u001b[0;34m[\u001b[0m\u001b[0;36m1\u001b[0m\u001b[0;34m,\u001b[0m\u001b[0;36m5\u001b[0m\u001b[0;34m,\u001b[0m\u001b[0;36m4\u001b[0m\u001b[0;34m,\u001b[0m\u001b[0;36m6\u001b[0m\u001b[0;34m,\u001b[0m\u001b[0;36m8\u001b[0m\u001b[0;34m,\u001b[0m\u001b[0;36m11\u001b[0m\u001b[0;34m,\u001b[0m\u001b[0;36m3\u001b[0m\u001b[0;34m,\u001b[0m\u001b[0;36m12\u001b[0m\u001b[0;34m]\u001b[0m\u001b[0;34m\u001b[0m\u001b[0;34m\u001b[0m\u001b[0m\n\u001b[0;32m----> 4\u001b[0;31m \u001b[0mnew_list\u001b[0m \u001b[0;34m=\u001b[0m \u001b[0mlist\u001b[0m\u001b[0;34m(\u001b[0m\u001b[0mfilter\u001b[0m\u001b[0;34m(\u001b[0m\u001b[0;32mlambda\u001b[0m \u001b[0mx\u001b[0m\u001b[0;34m:\u001b[0m \u001b[0;34m(\u001b[0m\u001b[0mx\u001b[0m\u001b[0;34m%\u001b[0m\u001b[0;36m2\u001b[0m \u001b[0;34m==\u001b[0m\u001b[0;36m0\u001b[0m\u001b[0;34m)\u001b[0m \u001b[0;34m,\u001b[0m \u001b[0mmy_list\u001b[0m\u001b[0;34m)\u001b[0m\u001b[0;34m)\u001b[0m\u001b[0;34m\u001b[0m\u001b[0;34m\u001b[0m\u001b[0m\n\u001b[0m\u001b[1;32m      5\u001b[0m \u001b[0;34m\u001b[0m\u001b[0m\n\u001b[1;32m      6\u001b[0m \u001b[0mprint\u001b[0m\u001b[0;34m(\u001b[0m\u001b[0mnew_list\u001b[0m\u001b[0;34m)\u001b[0m\u001b[0;34m\u001b[0m\u001b[0;34m\u001b[0m\u001b[0m\n",
            "\u001b[0;31mTypeError\u001b[0m: 'set' object is not callable"
          ]
        }
      ]
    },
    {
      "cell_type": "code",
      "source": [
        "#anonymous function untuk list ganjil\n",
        "\n",
        "my_list = [2,3,4,5,6,7,8,9,10,11,12,13]\n",
        "new_list = list(filter(lambda x: (x%2 !=0) , my_list))\n",
        "\n",
        "print(new_list)"
      ],
      "metadata": {
        "id": "QhGv-t2wZyIq"
      },
      "execution_count": null,
      "outputs": []
    },
    {
      "cell_type": "code",
      "source": [
        "# anonymous function untuk mengalikan item di list dengan angka random\n",
        "\n",
        "my_list = [1,2,3,4,5,6,7,8,9,10,11,12,13,14,15]\n",
        "bilangan = int(input(\"masukan angka disini: \"))\n",
        "new_list = list(map(lambda x: x * bilangan , my_list))\n",
        "\n",
        "print(new_list)"
      ],
      "metadata": {
        "id": "cpwlXarQaHJQ"
      },
      "execution_count": null,
      "outputs": []
    },
    {
      "cell_type": "code",
      "source": [
        "# variabel global dan variabel lokal\n",
        "\n",
        "x = \"global\"\n",
        "\n",
        "def foo():\n",
        "  print(\"x dalam: \", x)\n",
        "\n",
        "foo()\n",
        "print(\"x luar : \", x)"
      ],
      "metadata": {
        "id": "rRPH39NaUKZH"
      },
      "execution_count": null,
      "outputs": []
    },
    {
      "cell_type": "code",
      "source": [
        "x = \"global\"\n",
        "\n",
        "def foo():\n",
        "  global x\n",
        "  x = x * 2\n",
        "  print(x)\n",
        "\n",
        "foo()"
      ],
      "metadata": {
        "id": "srQWl4ENUo7E"
      },
      "execution_count": null,
      "outputs": []
    },
    {
      "cell_type": "code",
      "source": [
        "x = \"global\"\n",
        "\n",
        "def foo():\n",
        "  global x\n",
        "  y = \"local\"\n",
        "  x = x * 2\n",
        "  print(x)\n",
        "  print(y)\n",
        "\n",
        "foo()"
      ],
      "metadata": {
        "id": "c2zF41xuU3DS"
      },
      "execution_count": null,
      "outputs": []
    },
    {
      "cell_type": "code",
      "source": [
        "# non local variable\n",
        "\n",
        "def outer():\n",
        "  x = \"local\"\n",
        "\n",
        "  def inner():\n",
        "    nonlocal x\n",
        "    x = \"nonlocal\"\n",
        "    print(\"inner:\", x)\n",
        "\n",
        "  inner()\n",
        "  print(\"outer: \", x)\n",
        "\n",
        "outer()"
      ],
      "metadata": {
        "id": "Ysdx3XBMVFac"
      },
      "execution_count": null,
      "outputs": []
    },
    {
      "cell_type": "code",
      "source": [
        "plist = [123,456,789]\n",
        "plist.append(123)\n",
        "print(plist)"
      ],
      "metadata": {
        "id": "0Ph6aKVGVm4z"
      },
      "execution_count": null,
      "outputs": []
    },
    {
      "cell_type": "code",
      "source": [
        "you = 2\n",
        "if you >= 5:\n",
        "  print('chill bro')\n",
        "elif you >=3:\n",
        "  print(\"Sorry\")\n",
        "else:\n",
        "  print(\"fuck me\")"
      ],
      "metadata": {
        "id": "W1qC_y7BV3Eu"
      },
      "execution_count": null,
      "outputs": []
    },
    {
      "cell_type": "markdown",
      "source": [
        "# **Pertemuan 3** Stack, Queue, Tree, Graph, Hashmaps,"
      ],
      "metadata": {
        "id": "QsCh6RhPkXj3"
      }
    },
    {
      "cell_type": "code",
      "source": [
        "# Stack\n",
        "\n",
        "stack = ['first','second','third']\n",
        "print(stack)\n",
        "\n",
        "print()\n",
        "\n",
        "#pushing elements\n",
        "stack.append('fourth')\n",
        "stack.append('fifth')\n",
        "print(stack)\n",
        "print()\n",
        "\n",
        "#printing top\n",
        "print(stack[-1]) # -1 akan mengakses indeks paling terakhir\n",
        "print()\n",
        "\n",
        "#poping element\n",
        "stack.pop()\n",
        "print(stack)\n"
      ],
      "metadata": {
        "id": "IRhHpwv8kf5S"
      },
      "execution_count": null,
      "outputs": []
    },
    {
      "cell_type": "code",
      "source": [
        "stack = ['satu','dua','tiga','empat']\n",
        "print(stack)\n",
        "\n",
        "stack.append('lima')\n",
        "print(stack)\n",
        "\n",
        "print(stack[-1])\n",
        "\n",
        "stack.pop()\n",
        "print(stack)\n",
        "stack.remove(stack[2])\n",
        "print(stack)"
      ],
      "metadata": {
        "id": "EY9ToNIvlfl1"
      },
      "execution_count": null,
      "outputs": []
    },
    {
      "cell_type": "code",
      "source": [
        "# Queue\n",
        "\n",
        "queue = ['first','second','third']\n",
        "print(queue)\n",
        "\n",
        "print()\n",
        "\n",
        "# Pushing Element\n",
        "queue.append('fourth')\n",
        "queue.append('fifth')\n",
        "print(queue)\n",
        "print()\n",
        "\n",
        "# printing head\n",
        "print(queue[0])\n",
        "\n",
        "# printing tail\n",
        "n = len(queue) #len (lenght) untuk menghitung seberapa banyak jumlah data\n",
        "print(queue[-1]) #untuk mengakses indeks paling belakang, tanpa len juga bisa\n",
        "print(n)\n",
        "\n",
        "#poping element\n",
        "queue.remove(queue[0]) # mengikuti konsep queue maka yang di remove dari paling depan\n",
        "print(queue)\n",
        "queue.pop()\n",
        "print(queue)\n",
        "\n",
        "# perbedaan fungsi remove dan pop\n",
        "# kalau remove harus pakai objek dan indeks\n",
        "# kalau pop kita langsung masukin angka indeks tidak objek"
      ],
      "metadata": {
        "id": "YaijUpngnYxN"
      },
      "execution_count": null,
      "outputs": []
    },
    {
      "cell_type": "code",
      "source": [
        "# tree\n",
        "class node:\n",
        "  def __init__(self,ele):\n",
        "    self.ele = ele\n",
        "    self.left = None\n",
        "    self.right = None\n",
        "\n",
        "def preorder(self):\n",
        "  if self:\n",
        "    print(self.ele)\n",
        "    preorder(self.left)\n",
        "    preorder(self.right)\n",
        "\n",
        "n = node('first')\n",
        "n.left = node('second')\n",
        "n.right = node('third')\n",
        "preorder(n)"
      ],
      "metadata": {
        "id": "oKo9wc770OwG"
      },
      "execution_count": null,
      "outputs": []
    },
    {
      "cell_type": "code",
      "source": [
        "class mahasiswa():\n",
        "  def __init__(self,masukan_nama):\n",
        "    self.nama = masukan_nama\n",
        "\n",
        "  def nilai(self, nilai): #dijalankan ketika dipanggil\n",
        "    if nilai >= 70:\n",
        "      print(self.nama, 'lulus dengan nilai :', nilai)\n",
        "    else:\n",
        "      print(self.nama, 'tidak lulus dengan nilai :', nilai)\n",
        "\n",
        "bayu = mahasiswa(\"bayu Putra\")\n",
        "print(bayu.nama) # di panggil tanpa menggunakan nama method\n",
        "bayu.nilai(90); #dipanggil dengan menggunakan nama method"
      ],
      "metadata": {
        "id": "XnBn3k_C6ANI"
      },
      "execution_count": null,
      "outputs": []
    },
    {
      "cell_type": "code",
      "source": [
        "class orang():\n",
        "  def __init__(self, masukan_nama_orang):\n",
        "    self.nama_orang = masukan_nama_orang\n",
        "\n",
        "  def berat(self,berat):\n",
        "    if berat >= 80:\n",
        "      print(self.nama_orang, 'anda obesitas, berat anda:', berat)\n",
        "    else:\n",
        "      print(self.nama_orang, 'berat anda normal yakni: ', berat)\n",
        "\n",
        "indra = orang(\"indra wijaya s\")\n",
        "print(indra.nama_orang)\n",
        "indra.berat(90);"
      ],
      "metadata": {
        "id": "TpktMs5m7wWB"
      },
      "execution_count": null,
      "outputs": []
    },
    {
      "cell_type": "code",
      "source": [
        "#graph\n",
        "\n",
        "class adjnode:\n",
        "  def __init__(self,val):\n",
        "    self.val = val\n",
        "    self.next = None\n",
        "\n",
        "class graph:\n",
        "  def __init__(self,vertices):\n",
        "    self.v = vertices\n",
        "    self.ele = [None]*self.v\n",
        "\n",
        "  def edge(self, src, dest): #src (source), dest(destination)\n",
        "    node = adjnode(dest)\n",
        "    node.next = self.ele[src]\n",
        "    self.ele[src] = node\n",
        "\n",
        "    node = adjnode(src)\n",
        "    node.next = self.ele[dest]\n",
        "    self.ele[dest] = node\n",
        "\n",
        "  def __repr__(self):\n",
        "    for i in range(self.v):\n",
        "      print(\"Adjacency list of vertex {}\\n head\".format(i), end=\"\")\n",
        "      temp = self.ele[i]\n",
        "      while temp:\n",
        "        print(\" -> {}\".format(temp.val), end=\"\")\n",
        "        temp = temp.next\n",
        "\n",
        "g = graph(4) # mendefinisikan jumlah vertex yang ada\n",
        "# menghubungkan tiga vertex tersebut\n",
        "g.edge(0,2) #node 0 akan bertetangga dengan 2 dan seterusnya\n",
        "g.edge(1,3)\n",
        "g.edge(3,2)\n",
        "g.edge(0,3)\n",
        "g.__repr__()"
      ],
      "metadata": {
        "id": "McHyKZsgBSyp"
      },
      "execution_count": null,
      "outputs": []
    },
    {
      "cell_type": "code",
      "source": [
        "#Hashmaps\n",
        "\n",
        "#mendefinisikan fungsi untuk memanggil tiap key dan valuenya\n",
        "def printdict(d):\n",
        "  for key in d:\n",
        "    print(key, \"->\", d[key])\n",
        "#apabila suatu dict di print atau di panggil langsung (naked) dalam fungsi, yang terpanggil adalah keynya\n",
        "\n",
        "hashmaps = {0: 'first', 1: 'second', 2:'third'}\n",
        "printdict(hashmaps)\n",
        "print()\n",
        "\n",
        "\n",
        "hashmaps[4] = 'fourth'\n",
        "printdict(hashmaps)\n",
        "print()\n",
        "\n",
        "hashmaps.popitem() #menghilangkan indeks dimulai dari indeks terakhir\n",
        "printdict(hashmaps)"
      ],
      "metadata": {
        "id": "a-B95tqMD89g"
      },
      "execution_count": null,
      "outputs": []
    },
    {
      "cell_type": "code",
      "source": [
        "def print1(p):\n",
        "  for key in p:\n",
        "    print(key, \"->\", p[key])\n",
        "\n",
        "hashmaps = {0: 'kurus', 1: 'sedang', 2:'gemuk'}\n",
        "print1(hashmaps)\n",
        "print()\n",
        "\n",
        "hashmaps[3] = 'obesitas'\n",
        "print1(hashmaps)\n",
        "print()\n",
        "\n",
        "hashmaps.popitem()\n",
        "print1(hashmaps)"
      ],
      "metadata": {
        "id": "Vfouvz5QFXO5"
      },
      "execution_count": null,
      "outputs": []
    },
    {
      "cell_type": "markdown",
      "source": [
        "# **Pertemuan 4** String"
      ],
      "metadata": {
        "id": "-pL1I7G5epPt"
      }
    },
    {
      "cell_type": "code",
      "source": [
        "\"Indra Wijaya S\" or 'Indra Wijaya S'"
      ],
      "metadata": {
        "id": "Q1NvnUgOexRK"
      },
      "execution_count": null,
      "outputs": []
    },
    {
      "cell_type": "code",
      "source": [
        "print(\"belajar python fundamental string\"[-6])\n",
        "print(\"indra Wijaya S\"[0])"
      ],
      "metadata": {
        "id": "NzjkPEsugC7a"
      },
      "execution_count": null,
      "outputs": []
    },
    {
      "cell_type": "code",
      "source": [
        "# create String\n",
        "# with single quotes\n",
        "String1 = 'Welcome to world'\n",
        "print('String with the use of Singel Quotes: ')\n",
        "print(String1)\n",
        "print()\n",
        "\n",
        "String1 = \"Namaku Indra\"\n",
        "print(\"String with the use of Double Quotes: \")\n",
        "print(String1)\n",
        "print()\n",
        "\n",
        "#creating a string with triple quotes\n",
        "String1 = '''aku sedang membangun skill \"python developer\"'''\n",
        "print(\"\\nString with the use of Triple Quotes: \")\n",
        "print(String1)\n",
        "\n",
        "String2 = ''' i'm to talk about, how much salary in job \"data analyst\" '''\n",
        "print (String1)\n",
        "\n",
        "# creating String with triple Quotes allows multiple lines\n",
        "String1 = '''\n",
        "              Indra\n",
        "              Wijaya\n",
        "              S '''\n",
        "print(\"\\nCreating a multiline Sting: \")\n",
        "print(String1)\n",
        "\n",
        "String2 = '''\n",
        "              Alexsander\n",
        "              Hendra\n",
        "              Wijaya '''\n",
        "print(String2)"
      ],
      "metadata": {
        "id": "OWOPYD4Lguy_"
      },
      "execution_count": null,
      "outputs": []
    },
    {
      "cell_type": "code",
      "source": [
        "#Access Character in Python String\n",
        "\n",
        "String1 = \"Indra Wijaya S\"\n",
        "print(\"Initial String: \")\n",
        "print(String1)\n",
        "\n",
        "# Printing First character\n",
        "print(\"\\nFirst Character of String is: \")\n",
        "print(String1[0])\n",
        "\n",
        "# Printing Last Character\n",
        "print(\"\\nLast character of String is: \")\n",
        "print(String1[-1])"
      ],
      "metadata": {
        "id": "N9bw8qkmp3SR"
      },
      "execution_count": null,
      "outputs": []
    },
    {
      "cell_type": "code",
      "source": [
        "#reverse a String\n",
        "\n",
        "ind = \"Indra\"\n",
        "print(ind[::-1])\n",
        "\n",
        "balik_nama = \"ardnI\"\n",
        "print(balik_nama[::-1])"
      ],
      "metadata": {
        "id": "Gf8yD1J-rPKK"
      },
      "execution_count": null,
      "outputs": []
    },
    {
      "cell_type": "code",
      "source": [
        "#reverse the string using reversed and join function\n",
        "\n",
        "ind= \"indra\"\n",
        "\n",
        "ind= \"\".join(reversed(ind))\n",
        "\n",
        "print(ind)\n",
        "\n",
        "balik_nama= \"xela\"\n",
        "\n",
        "balik_nama= \"\".join(reversed(balik_nama))\n",
        "print(balik_nama)"
      ],
      "metadata": {
        "id": "y0drP5Gar2IJ"
      },
      "execution_count": null,
      "outputs": []
    },
    {
      "cell_type": "code",
      "source": [
        "#String Slicing\n",
        "\n",
        "#creating a String\n",
        "String1 = \"Alexsander Hendra Wijaya\"\n",
        "print(\"Initial String: \")\n",
        "print(String1)\n",
        "\n",
        "#Printing 3rd to 12th character\n",
        "print(\"\\nSlicing character from 3-12: \")\n",
        "print(String1[3:8])\n",
        "\n",
        "#Printing characters beetween 3rd and 2nd last character\n",
        "print(\"\\nSlicing characters beetween\"+\n",
        "      \"3rd and 2nd last character: \")\n",
        "print(String1[3:-1])\n",
        "\n",
        "print(String1[-1])\n",
        "print(String1[:])"
      ],
      "metadata": {
        "id": "8D_iCQpIs-FL"
      },
      "execution_count": null,
      "outputs": []
    },
    {
      "cell_type": "code",
      "source": [
        "#update entire String\n",
        "String1 = \"hello, im indra\"\n",
        "print(\"Initial String: \")\n",
        "print(String1)\n",
        "\n",
        "#updating A String\n",
        "String1 = \"welcome to the world\"\n",
        "print(\"\\nUpdate String: \")\n",
        "print(String1)"
      ],
      "metadata": {
        "id": "ZfNpsyK40Qct"
      },
      "execution_count": null,
      "outputs": []
    },
    {
      "cell_type": "code",
      "source": [
        "#Update Character\n",
        "# character of a String\n",
        "\n",
        "String1= \"Indra Wijaya S\"\n",
        "print(\"Initial String: \")\n",
        "print(String1)\n",
        "\n",
        "# Updating a Character of the String\n",
        "## As python Strings are immutable, they don't support item updation directly\n",
        "### there are following two ways\n",
        "#1\n",
        "list1 = list(String1)\n",
        "list1[4] = 'O'\n",
        "String2 = ''.join(list1)\n",
        "print(\"\\nUpdating character at fourth index: \")\n",
        "print(String2)\n",
        "\n",
        "#2\n",
        "String3 = String1[0:4] + 'O' + String1[5:]\n",
        "print(String3)"
      ],
      "metadata": {
        "id": "VGafbMOmvtXl"
      },
      "execution_count": null,
      "outputs": []
    },
    {
      "cell_type": "code",
      "source": [
        "#delete character\n",
        "\n",
        "String1 = \"indras Wijaya S\"\n",
        "print(\"Initial String: \")\n",
        "print(String1)\n",
        "\n",
        "#deleting a character of the String\n",
        "String2 = String1[0:5] + String1[6:]\n",
        "print(String2)"
      ],
      "metadata": {
        "id": "E6tKrctp0xXF"
      },
      "execution_count": null,
      "outputs": []
    },
    {
      "cell_type": "code",
      "source": [
        "String1 = \"welcome to the world\"\n",
        "print(\"Initial String: \")\n",
        "print(String1)\n",
        "\n",
        "#deleting String with the use of del\n",
        "del String1\n",
        "print(\"\\nDeleting entire String\")\n",
        "print(String1)"
      ],
      "metadata": {
        "id": "y5PsVFuk2BpT"
      },
      "execution_count": null,
      "outputs": []
    },
    {
      "cell_type": "code",
      "source": [
        "#escape Sequence in Python\n",
        "\n",
        "#initial String\n",
        "String1 = ''' i'm \"smart\"'''\n",
        "print(\"Initial String with use of Triple Quotes: \")\n",
        "print(String1)\n",
        "\n",
        "# Escaping Single Quote\n",
        "String1 = 'I\\'m Very \"tired\" with you'\n",
        "print(\"\\nEscaping Single Quote: \")\n",
        "print(String1)\n",
        "\n",
        "#Escaping Double Quotes\n",
        "String1= \"I'm very \\\"tired\\\" with you\"\n",
        "print(\"\\nEscaping Double Quote: \") #note: kasih tanda \\ dulu baru tanda yang ingin ditetapkan\n",
        "print(String1)\n",
        "\n",
        "# Printing Path with the use of Escape Sequence\n",
        "String1 = \"C: Https:\\\\\\Indra\\\\Channel\\\\.com\"\n",
        "print(\"\\nEscaping Backslash: \")\n",
        "print(String1)\n",
        "\n",
        "#printing paths with the use of tab\n",
        "String1 = \"Note:\\t jika ada sesuatu..\"\n",
        "print(\"\\nTab: \")\n",
        "print(String1)\n",
        "\n",
        "#printing Paths with the use of new line\n",
        "String1 = \"Nama\\nNIM\"\n",
        "print(\"\\nNew Line: \")\n",
        "print(String1)"
      ],
      "metadata": {
        "id": "zf44Cgrdu6l3"
      },
      "execution_count": null,
      "outputs": []
    },
    {
      "cell_type": "code",
      "source": [
        "#Formatting in String\n",
        "\n",
        "# Default Order\n",
        "nama_gue = \"{}{}{}\".format('Indra','Wijaya','S')\n",
        "print(\"Print String in default order: \")\n",
        "print(nama_gue)\n",
        "\n",
        "# Positional Formatting\n",
        "nama_gue = \"{1} {0} {2}\".format('Indra','Wijaya','S')\n",
        "print(\"\\nPrint String in positional order: \")\n",
        "print(nama_gue)\n",
        "\n",
        "# Keyword Formatting\n",
        "nama_gue = \"{a} {b} {c}\".format(a='Indra',c='s',b='Wijaya')\n",
        "print(nama_gue)"
      ],
      "metadata": {
        "id": "GVBar8VEwO2D"
      },
      "execution_count": null,
      "outputs": []
    },
    {
      "cell_type": "code",
      "source": [
        "# Formatting of Integers\n",
        "String1 = \"{0:b}\".format(16)\n",
        "print(\"\\nBinary representation of 16 is \")\n",
        "print(String1)\n",
        "\n",
        "#Formatting of Floats\n",
        "String1 = \"{0:e}\".format(165.6458)\n",
        "print(\"\\nExponent representation of 165.6458 is \")\n",
        "print(String1)\n",
        "\n",
        "#Rounding off Integer\n",
        "String = \"{0:.2f}\".format(23/400)\n",
        "print(\"\\none-sixth is : \")\n",
        "print(String1)"
      ],
      "metadata": {
        "id": "N90kTjvt3fsr"
      },
      "execution_count": null,
      "outputs": []
    },
    {
      "cell_type": "code",
      "source": [
        "# String Alignment\n",
        "String1 = \"|{:<1}|{:^1}{:>1}\".format('Indra','Wijaya','S')\n",
        "print(\"\\nLeft, Center and right alignment with formatting: \")\n",
        "print(String1)\n",
        "\n",
        "#To demonstrate aligning of space\n",
        "String1 = \"\\n{0:^16} was born in {1:<4}\".format(\"Indra Wijaya S\",2000)\n",
        "print(String1)"
      ],
      "metadata": {
        "id": "rEmvXEcY4kkp"
      },
      "execution_count": null,
      "outputs": []
    },
    {
      "cell_type": "code",
      "source": [
        "#Formatting dengan operator %\n",
        "Integer1 = 12.3456789\n",
        "print(\"formatting in 3.2f format: \")\n",
        "print('the value of Integer1 is %3.2f' % Integer1)\n",
        "print(\"\\nFormatting in 3.4f format: \")\n",
        "print('the value of Integer1 is %3.4f' % Integer1)\n",
        "print('the value of Integer1 is %3.3f' % Integer1)"
      ],
      "metadata": {
        "id": "Zhc94l2M6Ko1"
      },
      "execution_count": null,
      "outputs": []
    },
    {
      "cell_type": "markdown",
      "source": [
        "# **Pertemuan 5** Regular Expression"
      ],
      "metadata": {
        "id": "O96IPdERIuZ7"
      }
    },
    {
      "cell_type": "code",
      "source": [
        "#Regular Expression\n",
        "\n",
        "import re\n",
        "\n",
        "s = 'LMS: portal for any learning path'\n",
        "\n",
        "#match adalah tempat meletakan re search\n",
        "# ' ' kata yang ingin kita cari\n",
        "# tempat meletakan string\n",
        "match = re.search(r'for', s)\n",
        "\n",
        "# .start ideks awal pada string begitu end sebaliknya\n",
        "print('Start Index: ', match.start())\n",
        "print('End Index: ', match.end())\n",
        "\n",
        "name = 'Indra dengan IPK 398'\n",
        "\n",
        "match = re.search(r'\\d+', name)\n",
        "print('IPK : ', match.start())\n",
        "print('IPK : ', match.end())\n",
        "\n",
        "A = 'Hari ini gua ingin ke perpusnas'\n",
        "\n",
        "match = re.search(r'ke',A)\n",
        "print('indeks pertamanya adalah ',match.start())"
      ],
      "metadata": {
        "id": "ySuNHGzVI2bj"
      },
      "execution_count": null,
      "outputs": []
    },
    {
      "cell_type": "code",
      "source": [
        "# percobaan\n",
        "\n",
        "import re\n",
        "coba = 'Halo nama saya winardi, nomor rumah saya adalah 63'\n",
        "match = re.search(r'\\d+', coba)\n",
        "print('indeks nomor pertama: ', match.start())\n",
        "print('indeks nomor terakhir: ', match.end())\n",
        "\n",
        "trial = \"saya lahir pada 27 Januari 2000\"\n",
        "match = re.search (r'\\d+', trial)\n",
        "print('indeks tanggal pertama: ', match.start())\n",
        "match = re.search(r'lahir', trial)\n",
        "print('indeks pertama: ', match.start())\n",
        "print('indeks terakhir: ', match.end())\n",
        "\n",
        "r = \"(\\d+)\"\n",
        "match = re.findall(r,trial)\n",
        "print(match)"
      ],
      "metadata": {
        "id": "unlLdc17LPtw"
      },
      "execution_count": null,
      "outputs": []
    },
    {
      "cell_type": "code",
      "source": [
        "#metacharacter\n",
        "\n",
        "import re\n",
        "s = 'Adgan167@gmail.com'\n",
        "\n",
        "# without using \\\n",
        "match = re.search (r'.',s)\n",
        "print(match)\n",
        "\n",
        "#using \\\n",
        "match = re.search(r'\\.',s)\n",
        "print(match)"
      ],
      "metadata": {
        "id": "30t-TstRRs9-"
      },
      "execution_count": null,
      "outputs": []
    },
    {
      "cell_type": "code",
      "source": [
        "# Module Regex - re.findall()\n",
        "\n",
        "import re\n",
        "# A sample text string where regular expression\n",
        "# is searched\n",
        "string = \"\"\" Hello my student id is 2221210017 and my friend's number student\n",
        "              id is 2221210020. no telp indra 082221212121\"\"\"\n",
        "# A sample regular expression to find digits\n",
        "match = re.findall(r'\\d+', string)\n",
        "print(match)\n",
        "\n",
        "regex = \"(\\d+)\"\n",
        "match = re.findall(regex,string)\n",
        "print(match)"
      ],
      "metadata": {
        "id": "xQvL3B-_TjXH"
      },
      "execution_count": null,
      "outputs": []
    },
    {
      "cell_type": "code",
      "source": [
        "# module Regex - re.compile()\n",
        "\n",
        "import re\n",
        "\n",
        "#compile() creates regular expression\n",
        "# character class [a-e],\n",
        "# which is equivalent to [abcde]\n",
        "# class [abcde] will match with string with\n",
        "# 'a','b','c','d','e'.\n",
        "p = re.compile('[a-e]', flags=re.IGNORECASE)\n",
        "\n",
        "#findall() searches for the regular expression\n",
        "# and return a list upon finding\n",
        "print(p.findall(\"Indra Wijaya S\"))"
      ],
      "metadata": {
        "id": "i06YBUxLUwYn",
        "colab": {
          "base_uri": "https://localhost:8080/"
        },
        "outputId": "2494b3ee-9c3d-4c6c-c281-d3112566b670"
      },
      "execution_count": null,
      "outputs": [
        {
          "output_type": "stream",
          "name": "stdout",
          "text": [
            "['d', 'a', 'a', 'a']\n"
          ]
        }
      ]
    },
    {
      "cell_type": "code",
      "source": [
        "\n",
        "import re\n",
        "\n",
        "# \\d is equivalent to [0-9].\n",
        "p = re.compile('\\d')\n",
        "print(p.findall(\"I went to him at 11 A.M. on 4th July 1886\"))\n",
        "\n",
        "# \\d+ will match a group on [0-9], group\n",
        "# of one or greater size\n",
        "p = re.compile('\\d+')\n",
        "print(p.findall(\"I went to him at 11 A.M. on 4th July 1886\"))"
      ],
      "metadata": {
        "colab": {
          "base_uri": "https://localhost:8080/"
        },
        "id": "_ynWEpcnZrdK",
        "outputId": "df8c11d4-7b80-4ba6-f61f-95eb226d6901"
      },
      "execution_count": null,
      "outputs": [
        {
          "output_type": "stream",
          "name": "stdout",
          "text": [
            "['1', '1', '4', '1', '8', '8', '6']\n",
            "['11', '4', '1886']\n"
          ]
        }
      ]
    },
    {
      "cell_type": "code",
      "source": [
        "#module regex - re.split()\n",
        "\n",
        "from re import split\n",
        "\n",
        "# '\\W+' denotes non-alphanumeric characters\n",
        "# or group of characters upon finding ','\n",
        "# ir whitespace '' , the split(), splits the\n",
        "# string from the point\n",
        "print(split('\\W+', 'Words, words, Words'))\n",
        "print(split('\\W+', \"Word's words Words\"))\n",
        "\n",
        "#here ':',' ' , ',' are not Alphanumeric thus,\n",
        "# the point where splitting occurs\n",
        "print(split('\\W+','On 12th Jan 2015, at 11:02 AM'))\n",
        "\n",
        "# '\\d+' denotes numeric characters or group of\n",
        "# characters splitting occurs at '12', '2016',\n",
        "# '11', '02' only\n",
        "print(split('\\d+','On 12th Jan 2016, at 11:02 AM'))"
      ],
      "metadata": {
        "id": "cG4xlzFeZ09i",
        "colab": {
          "base_uri": "https://localhost:8080/"
        },
        "outputId": "cbeced3b-882c-4313-cd13-75dda9b6bed2"
      },
      "execution_count": null,
      "outputs": [
        {
          "output_type": "stream",
          "name": "stdout",
          "text": [
            "['Words', 'words', 'Words']\n",
            "['Word', 's', 'words', 'Words']\n",
            "['On', '12th', 'Jan', '2015', 'at', '11', '02', 'AM']\n",
            "['On ', 'th Jan ', ', at ', ':', ' AM']\n"
          ]
        }
      ]
    },
    {
      "cell_type": "code",
      "source": [
        "import re\n",
        "\n",
        "# Splitting will occurs only once, at\n",
        "# '12', returned list will have length 2\n",
        "print(re.split('\\d+','On 12th Jan 2016, at 11:02 AM',1))\n",
        "print(re.split('\\d+','On 12th Jan 2016, at 11:02 AM'))\n",
        "#angka di ganti dengan split yang ingin kita tentukan dalam parameter\n",
        "\n",
        "#'Boy' and 'boy' will be treated same when\n",
        "# flags = re.IGNORECASE\n",
        "\n",
        "print(re.split('[a-f]+','Aey, Boy oh boy, come here', flags= re.IGNORECASE))\n",
        "print(re.split('[a-f]+','Aey, Boy oh boy, come here'))"
      ],
      "metadata": {
        "colab": {
          "base_uri": "https://localhost:8080/"
        },
        "id": "1LRJ1nCsCS3L",
        "outputId": "b1614003-dcde-4167-b0c7-9018d8b977f4"
      },
      "execution_count": null,
      "outputs": [
        {
          "output_type": "stream",
          "name": "stdout",
          "text": [
            "['On ', 'th Jan 2016, at 11:02 AM']\n",
            "['On ', 'th Jan ', ', at ', ':', ' AM']\n",
            "['', 'y, ', 'oy oh ', 'oy, ', 'om', ' h', 'r', '']\n",
            "['A', 'y, Boy oh ', 'oy, ', 'om', ' h', 'r', '']\n"
          ]
        }
      ]
    },
    {
      "cell_type": "code",
      "source": [
        "#module regex - re.sub()\n",
        "\n",
        "import re\n",
        "# Regular Expression pattern 'ub' matches the\n",
        "# string at \"subject\" and \"Uber, As the CASE\"\n",
        "# has been ignored, using Flag, 'ub' should\n",
        "# match twice with the string Upon matching\n",
        "# 'ub' is replaced by '~*' in \"Subject\", and\n",
        "# in \"Uber\", 'Ub' is replaced\n",
        "print(re.sub('ub','~*','Subject has Uber booked already', flags=re.IGNORECASE))\n",
        "\n",
        "# Consider the Case Sensitivity, 'Ub' in\n",
        "# \"Uber\", will not be replaced.\n",
        "print(re.sub('ub','~*','Subject has Uber booked already'))\n",
        "\n",
        "# As count has been given value 1, the maximum\n",
        "# times replacement occurs is 1\n",
        "print(re.sub('ub','~*','Subject has Uber booked already',\n",
        "             count=1, flags=re.IGNORECASE))\n",
        "\n",
        "# 'r' before the pattern denotes RE, \\s is for\n",
        "# start and end of a String.\n",
        "print(re.sub('\\sAND\\s', ' & ', 'Baked Beans And Spam', flags=re.IGNORECASE))\n",
        "\n",
        "print(re.sub('ti','ty','Aditia adiTia pramana putra', count=1, flags=re.IGNORECASE))\n",
        "print(re.sub('ti','ty','Aditia adiTia pramana putra', flags=re.IGNORECASE))\n",
        "print(re.sub('ti','ty','Aditia adiTia pramana putra'))"
      ],
      "metadata": {
        "colab": {
          "base_uri": "https://localhost:8080/"
        },
        "id": "0VjEYy9qDeY7",
        "outputId": "60274fbd-a556-4893-e42a-a0a26ace9f0d"
      },
      "execution_count": null,
      "outputs": [
        {
          "output_type": "stream",
          "name": "stdout",
          "text": [
            "S~*ject has ~*er booked already\n",
            "S~*ject has Uber booked already\n",
            "S~*ject has Uber booked already\n",
            "Baked Beans & Spam\n",
            "Aditya adiTia pramana putra\n",
            "Aditya aditya pramana putra\n",
            "Aditya adiTia pramana putra\n"
          ]
        }
      ]
    },
    {
      "cell_type": "code",
      "source": [
        "# #module regex - re.subn()\n",
        "\n",
        "import re\n",
        "\n",
        "print(re.subn('ub','~*', 'Subject has Uber booked already'))\n",
        "\n",
        "t= re.subn('ub','~*', 'Subject has Uber booked already', flags = re.IGNORECASE)\n",
        "\n",
        "print(t)\n",
        "print(len(t))\n",
        "\n",
        "#this will give same output as sub() would have\n",
        "print(t[0])"
      ],
      "metadata": {
        "colab": {
          "base_uri": "https://localhost:8080/"
        },
        "id": "-zOPVJaFGOKu",
        "outputId": "e328c93f-373d-4039-daff-35791093b885"
      },
      "execution_count": null,
      "outputs": [
        {
          "output_type": "stream",
          "name": "stdout",
          "text": [
            "('S~*ject has Uber booked already', 1)\n",
            "('S~*ject has ~*er booked already', 2)\n",
            "2\n",
            "S~*ject has ~*er booked already\n"
          ]
        }
      ]
    },
    {
      "cell_type": "code",
      "source": [
        "# module regex - re.escape()\n",
        "\n",
        "import re\n",
        "\n",
        "#escape () returns a string with Backslash '\\',\n",
        "# before every Non_Alphanumeric Character\n",
        "# In 1st case only ' ', is not alphanumeric\n",
        "# In 2nd case, ' ' ,caret '^', '-', '[]', '\\'\n",
        "# are not alphanumeric\n",
        "print(re.escape(\"This is Awesome even 1 AM\"))\n",
        "print(re.escape(\"I Asked what is this [a-9], he said \\t ^WoW\"))"
      ],
      "metadata": {
        "colab": {
          "base_uri": "https://localhost:8080/"
        },
        "id": "v_ac1P9IG-3D",
        "outputId": "00efda77-9776-42d4-a2d4-7e5a9bf696ba"
      },
      "execution_count": null,
      "outputs": [
        {
          "output_type": "stream",
          "name": "stdout",
          "text": [
            "This\\ is\\ Awesome\\ even\\ 1\\ AM\n",
            "I\\ Asked\\ what\\ is\\ this\\ \\[a\\-9\\],\\ he\\ said\\ \\\t\\ \\^WoW\n"
          ]
        }
      ]
    },
    {
      "cell_type": "code",
      "source": [
        "# module regex - re.search()\n",
        "\n",
        "# A Python program to demonstrate working of re.match().\n",
        "import re\n",
        "\n",
        "#lets use a regular expression to match a date string\n",
        "# in the form of Month name followed by day number\n",
        "regex = r\"([a-zA-Z]+) (\\d+)\"\n",
        "\n",
        "match = re.search(regex, \"I was Born on January 2000\")\n",
        "\n",
        "if match != None:\n",
        "  # we reach here when the expression \"([a-zA-Z]+) (\\d+)\"\n",
        "  # matches the date string\n",
        "\n",
        "  #this will print (14, 21), since it matches at index 14\n",
        "  # and ends at 21\n",
        "  print(\"match at index %s, %s\" % (match.start(),match.end()))\n",
        "\n",
        "  # we us group() method to get all the matches and\n",
        "  # captured groups. the groups contain the matched values.\n",
        "  # In particular:\n",
        "  # match.group(0) always returns the fully matched string\n",
        "  # match.group(1) match.group(2), ... return the capture\n",
        "  # groups in order from left to right in the input string\n",
        "  # match.group() is equivalent to match.group(0)\n",
        "\n",
        "  #so this will print \"June 2000\"\n",
        "  print (\"full match: %s\" % (match.group(0)))\n",
        "\n",
        "  # so this will print \"June\"\n",
        "  print(\"month: %s\" % (match.group(1)))\n",
        "\n",
        "  # so this will print '2000'\n",
        "  print (\"year: %s\" % (match.group(2)))\n",
        "\n",
        "else:\n",
        "  print(\"The regex pattern does not match\")"
      ],
      "metadata": {
        "colab": {
          "base_uri": "https://localhost:8080/"
        },
        "id": "6BbBNBESJ1vz",
        "outputId": "a3f152e1-e046-4e97-89aa-e255ff66fab5"
      },
      "execution_count": null,
      "outputs": [
        {
          "output_type": "stream",
          "name": "stdout",
          "text": [
            "match at index 14, 26\n",
            "full match: January 2000\n",
            "month: January\n",
            "day: 2000\n"
          ]
        }
      ]
    },
    {
      "cell_type": "code",
      "source": [
        "# match object\n",
        "\n",
        "s = \"Greeting to LMS PORTAL\"\n",
        "\n",
        "# here x is the match object\n",
        "res = re.search(r\"\\bG\", s)\n",
        "\n",
        "print(res.re)\n",
        "print(res.string)\n",
        "print(res.start())\n",
        "print(res.end())\n",
        "print(res.span())\n",
        "\n",
        "a = 'Gw kece dari lahir \\nIndra Wijaya S'\n",
        "\n",
        "res = re.search(r\"\\bI\", a)\n",
        "\n",
        "print(res.re)\n",
        "print(res.string)\n",
        "print(res.start())\n",
        "print(res.end())\n",
        "print(res.span())"
      ],
      "metadata": {
        "colab": {
          "base_uri": "https://localhost:8080/"
        },
        "id": "K9_uf26BO83z",
        "outputId": "5adb7907-6bcf-494e-8253-e041638461d1"
      },
      "execution_count": null,
      "outputs": [
        {
          "output_type": "stream",
          "name": "stdout",
          "text": [
            "re.compile('\\\\bG')\n",
            "Greeting to LMS PORTAL\n",
            "0\n",
            "1\n",
            "(0, 1)\n",
            "re.compile('\\\\bI')\n",
            "Gw kece dari lahir \n",
            "Indra Wijaya S\n",
            "20\n",
            "21\n",
            "(20, 21)\n"
          ]
        }
      ]
    },
    {
      "cell_type": "code",
      "source": [
        "import re\n",
        "\n",
        "s = \"Welcome to Seedsland\"\n",
        "\n",
        "# here x is the match object\n",
        "res = re.search(r\"\\bSee\",s)\n",
        "\n",
        "print(res.re)\n",
        "print(res.string)\n",
        "print(res.start())\n",
        "print(res.end())\n",
        "print(res.span())\n"
      ],
      "metadata": {
        "colab": {
          "base_uri": "https://localhost:8080/"
        },
        "id": "4gOq2C9wRD4b",
        "outputId": "f42f9f6c-aa5e-4c75-c721-8ade61174dcf"
      },
      "execution_count": null,
      "outputs": [
        {
          "output_type": "stream",
          "name": "stdout",
          "text": [
            "re.compile('\\\\bSee')\n",
            "Welcome to Seedsland\n",
            "11\n",
            "14\n",
            "(11, 14)\n"
          ]
        }
      ]
    },
    {
      "cell_type": "code",
      "source": [
        "import re\n",
        "s = \"Welcome to the World\"\n",
        "\n",
        "# here x is the match object\n",
        "res = re.search(r\"\\D{3} t\",s)\n",
        "\n",
        "print(res.group())\n",
        "\n",
        "d = \"Welcome to the World\"\n",
        "\n",
        "# here x is the match object\n",
        "res = re.search(r'\\w{3} t',d)\n",
        "\n",
        "print(res.group())"
      ],
      "metadata": {
        "colab": {
          "base_uri": "https://localhost:8080/"
        },
        "id": "sDWBiKyoSS-V",
        "outputId": "53df4231-f26f-46f4-b73c-617e07880d04"
      },
      "execution_count": null,
      "outputs": [
        {
          "output_type": "stream",
          "name": "stdout",
          "text": [
            "ome t\n",
            "ome t\n"
          ]
        }
      ]
    },
    {
      "cell_type": "markdown",
      "source": [
        "# **Pertemuan 6 Regex **: Search, Match, Find All"
      ],
      "metadata": {
        "id": "dGruqp6SUlFy"
      }
    },
    {
      "cell_type": "code",
      "source": [
        "# A Python program to demonstrate working of re.match()\n",
        "import re\n",
        "\n",
        "#lets use a regular expression to match a date string\n",
        "# in the form of Month name followed by day number\n",
        "regex = r\"([a-zA-Z]+) (\\d+)\"\n",
        "\n",
        "match = re.search(regex,\"I was born on January 2000\")\n",
        "\n",
        "if match != None:\n",
        "\n",
        "  # we reach here when the expression \"([a-zA-Z]+) (\\d+)\"\n",
        "  # matches the date string.\n",
        "  #this will print (14,21), since it matches at index 14\n",
        "  # and ends at 21\n",
        "  print (\"Match at index %s,%s\"% (match.start(),match.end()))\n",
        "\n",
        "  # We us group() method to get all the matches and\n",
        "  # captured groups. the groups contain the matched values\n",
        "  # In particular:\n",
        "  # match.group(0) always returns the fully matched string\n",
        "  # match.group(1) match.group(2),... return the capture\n",
        "  #group in order from left to right in the input string\n",
        "  # match.group() is equivalent to match(0)\n",
        "\n",
        "  # So this will print \"June 2000\"\n",
        "  print(\"full match : %s\"% (match.group(0)))\n",
        "  # So this will print \"June\"\n",
        "  print(\"Month : %s\"% (match.group(1)))\n",
        "  # So this will print \"2000\"\n",
        "  print(\"year : %s\"% (match.group(2)))\n",
        "\n",
        "else:\n",
        "  print (\"the regex pattern does not match\")"
      ],
      "metadata": {
        "colab": {
          "base_uri": "https://localhost:8080/"
        },
        "id": "Wqc2UCtjUkTa",
        "outputId": "cdefb8a3-0e6d-4845-e1c7-d7852a7982e4"
      },
      "execution_count": null,
      "outputs": [
        {
          "output_type": "stream",
          "name": "stdout",
          "text": [
            "Match at index 14,26\n",
            "full match : January 2000\n",
            "Month : January\n",
            "year : 2000\n"
          ]
        }
      ]
    },
    {
      "cell_type": "code",
      "source": [
        "# matching pattern with text\n",
        "# of re.match()\n",
        "import re\n",
        "\n",
        "# a sample function that uses reguler expressions\n",
        "# to find month and day of a date\n",
        "def findMonthAndDate(string):\n",
        "  regex = r\"([a-zA-Z]+) (\\d+)\"\n",
        "  match = re.match(regex,string)\n",
        "\n",
        "  if match == None:\n",
        "    print (\"Not a valid date\")\n",
        "    return\n",
        "\n",
        "  print (\"Given Data: %s\"% (match.group()))\n",
        "  print (\"Month : %s\"% (match.group(1)))\n",
        "  print(\"Day : %s\"% (match.group(2)))\n",
        "\n",
        "# Driver Code\n",
        "findMonthAndDate(\"April 24\")\n",
        "print(\"\")\n",
        "findMonthAndDate(\"June 21\")\n",
        "print(\"\")\n",
        "findMonthAndDate(\"a December 24\")"
      ],
      "metadata": {
        "colab": {
          "base_uri": "https://localhost:8080/"
        },
        "id": "wJK-IKpgYK9u",
        "outputId": "06b3556b-d8c9-4548-c064-9d4d7b864cee"
      },
      "execution_count": null,
      "outputs": [
        {
          "output_type": "stream",
          "name": "stdout",
          "text": [
            "Given Data: April 24\n",
            "Month : April\n",
            "Day : 24\n",
            "\n",
            "Given Data: June 21\n",
            "Month : June\n",
            "Day : 21\n",
            "\n",
            "Not a valid date\n"
          ]
        }
      ]
    },
    {
      "cell_type": "code",
      "source": [
        "# Find all Occurence in pattern\n",
        "\n",
        "# A Python program to demonstrate working of\n",
        "# findall()\n",
        "import re\n",
        "\n",
        "# A sample text string where reguler expression\n",
        "# is searched\n",
        "\n",
        "string = ''' hello my number is 123456789 and my friend's number is 987654321'''\n",
        "\n",
        "# A Sample reguler expression to find digits\n",
        "regex = '\\d+'\n",
        "\n",
        "match = re.findall(regex,string)\n",
        "print(match)"
      ],
      "metadata": {
        "colab": {
          "base_uri": "https://localhost:8080/"
        },
        "id": "ZOE771PuY51Z",
        "outputId": "8d520390-073f-4b1f-e2c4-b5233681d1ec"
      },
      "execution_count": null,
      "outputs": [
        {
          "output_type": "stream",
          "name": "stdout",
          "text": [
            "['123456789', '987654321']\n"
          ]
        }
      ]
    },
    {
      "cell_type": "code",
      "source": [
        "# Without using VERBOSE\n",
        "\n",
        "regex_email = re.compile(r'^([a-z0-9_\\.-]+)@([0-9a-z\\.-]+)\\.([a-z\\.]{2, 6})$', re.IGNORECASE)\n",
        "\n",
        "#using VERBOSE\n",
        "regex_email = re.compile(r\"\"\"\n",
        "\t\t\t^([a-z0-9_\\.-]+)\t\t\t # local Part\n",
        "\t\t\t@\t\t\t\t\t\t\t # single @ sign\n",
        "\t\t\t([0-9a-z\\.-]+)\t\t\t # Domain name\n",
        "\t\t\t\\.\t\t\t\t\t\t # single Dot .\n",
        "\t\t\t([a-z]{2,6})$\t\t\t\t # Top level Domain\n",
        "\t\t\t\"\"\", re.VERBOSE | re.IGNORECASE)"
      ],
      "metadata": {
        "id": "PxUeTfbWfjAQ"
      },
      "execution_count": null,
      "outputs": []
    },
    {
      "cell_type": "code",
      "source": [
        "# Python3 program to show the Implementation of VERBOSE in RegEX\n",
        "import re\n",
        "\n",
        "def validate_email(email):\n",
        "\n",
        "  # RegexObject = re.compile (Regular expression, flag)\n",
        "  # Compiles a regular expression pattern into\n",
        "  # a regular expression object\n",
        "  regex_email=re.compile(r\"\"\"\n",
        "\t\t\t\t\t\t\t^([a-z0-9_\\.-]+)\t\t\t\t # local Part\n",
        "\t\t\t\t\t\t@\n",
        "\t\t\t\t\t\t\t([0-9a-z\\.-]+)\t\t\t\t # Domain name\n",
        "\t\t\t\t\t\t\\.\t\t\t\t\t\t\t # single Dot .\n",
        "\t\t\t\t\t\t\t([a-z]{2,6})$\t\t\t\t # Top level Domain\n",
        "\t\t\t\t\t\t\"\"\",re.VERBOSE | re.IGNORECASE)\n",
        "\n",
        "\n",
        "  # RegexObject is matched with the desired\n",
        "  # string using fullmatch function\n",
        "  # In case a match is found, search()\n",
        "  # returns a MatchObject Instance\n",
        "  res = regex_email.fullmatch(email)\n",
        "\n",
        "  #if match is found, the string is valid\n",
        "  if res:\n",
        "    print(\"{} is Valid. Details are as follow:\".format(email))\n",
        "\n",
        "    # prints first part/personal detail of Email Id\n",
        "    print(\"Local:{}\".format(res.group(1)))\n",
        "\n",
        "    # print Domain name of Email Id\n",
        "    print(\"Domain:{}\".format(res.group(2)))\n",
        "\n",
        "    #print top level domain name of Email Id\n",
        "    print(\"Top Level Domain:{}\".format(res.group(3)))\n",
        "  else:\n",
        "    # if match is not found, string is invalid\n",
        "    print('{} is Invalid'.format(email))\n",
        "\n",
        "#driver code\n",
        "validate_email(\"aliceinwonderland@gmail.com\")\n",
        "validate_email(\"Harrypotter@yahoo.com@\")\n",
        "validate_email(\"cruciallife@.com\")"
      ],
      "metadata": {
        "colab": {
          "base_uri": "https://localhost:8080/"
        },
        "id": "QeJrkfXIgCEg",
        "outputId": "b8ff2638-ecd0-405f-99bc-5bb3d6902421"
      },
      "execution_count": null,
      "outputs": [
        {
          "output_type": "stream",
          "name": "stdout",
          "text": [
            "aliceinwonderland@gmail.com is Valid. Details are as follow:\n",
            "Local:aliceinwonderland\n",
            "Domain:gmail\n",
            "Top Level Domain:com\n",
            "Harrypotter@yahoo.com@ is Invalid\n",
            "cruciallife@.com is Invalid\n"
          ]
        }
      ]
    },
    {
      "cell_type": "code",
      "source": [
        "# Pyton3 program to show the implementation of VERBOSE in RegEX\n",
        "import re\n",
        "\n",
        "def user_instagram(instagram):\n",
        "  regex_instagram=re.compile(r\"\"\"\n",
        "            ^@\t\t\t\t\t\t\t           # single @ sign\n",
        "\t\t\t\t\t\t([a-z0-9_\\.-]+)\t\t\t\t # name user Part\n",
        "\t\t\t\t\t\t\"\"\",re.VERBOSE | re.IGNORECASE)\n",
        "  res = regex_instagram.fullmatch(instagram)\n",
        "\n",
        "  if res:\n",
        "    print(\"{} is Valid. Detail are as follow:\".format(instagram))\n",
        "    print(\"name user :{}\".format(res.group(1)))\n",
        "  else:\n",
        "    print(\"{} is not valid\".format(instagram))\n",
        "\n",
        "#driver code\n",
        "user_instagram(\"@Indrawijaya\")\n",
        "user_instagram(\"Indra@wijaya\")\n",
        "user_instagram(\"Indrawijaya\")\n",
        "user_instagram(\"@wijayaindra\")"
      ],
      "metadata": {
        "colab": {
          "base_uri": "https://localhost:8080/"
        },
        "id": "g3phE6xAiL1o",
        "outputId": "cd6c6da4-5530-4070-fb9e-fef77555b07d"
      },
      "execution_count": null,
      "outputs": [
        {
          "output_type": "stream",
          "name": "stdout",
          "text": [
            "@Indrawijaya is Valid. Detail are as follow:\n",
            "name user :Indrawijaya\n",
            "Indra@wijaya is not valid\n",
            "Indrawijaya is not valid\n",
            "@wijayaindra is Valid. Detail are as follow:\n",
            "name user :wijayaindra\n"
          ]
        }
      ]
    },
    {
      "cell_type": "code",
      "source": [
        "import re\n",
        "\n",
        "def validate_email(email):\n",
        "\n",
        "\n",
        "\tregex_email=re.compile(r\"\"\"\n",
        "\t\t\t\t\t\t^([a-z0-9_\\.-]+)\t\t\t\t # local Part\n",
        "\t\t\t\t\t\t@\t\t\t\t\t\t\t # single @ sign\n",
        "\t\t\t\t\t\t\t([0-9a-z\\.-]+)\t\t\t\t # Domain name\n",
        "\t\t\t\t\t\t\\.\t\t\t\t\t\t\t # single Dot .\n",
        "\t\t\t\t\t\t\t([a-z]{2,6})$\t\t\t\t # Top level Domain\n",
        "\t\t\t\t\t\t\"\"\",re.VERBOSE | re.IGNORECASE)\n",
        "\n",
        "\n",
        "\tres=regex_email.fullmatch(email)\n",
        "\n",
        "\tif res:\n",
        "\t\tprint(\"{} is Valid. Details are as follow:\".format(email))\n",
        "\n",
        "\n",
        "\t\tprint(\"Local:{}\".format(res.group()))\n",
        "\n",
        "\n",
        "\t\tprint(\"Domain:{}\".format(res.group(2)))\n",
        "\n",
        "\t\tprint(\"Top Level domain:{}\".format(res.group(3)))\n",
        "\t\tprint()\n",
        "\n",
        "\telse:\n",
        "\n",
        "\t\tprint(\"{} is Invalid\".format(email))\n",
        "\n",
        "\n",
        "validate_email(\"indra@gmail.com\")\n",
        "validate_email(\"aditpramna1@@gmail.com\")\n",
        "validate_email(\"adityapramana107@gmail.,com\")\n",
        "validate_email(\"Awinardi1004@gmail.com\")"
      ],
      "metadata": {
        "id": "5dg6CCyGjheh"
      },
      "execution_count": null,
      "outputs": []
    },
    {
      "cell_type": "markdown",
      "source": [
        "# **Pertemuan 7** Advance Regex"
      ],
      "metadata": {
        "id": "MAOoDIclQodL"
      }
    },
    {
      "cell_type": "code",
      "source": [
        "# findall\n",
        "# contoh find all dengan bahasa pemograman lain\n",
        "\n",
        "while ($string =~ m/regex/g){\n",
        "    print \"ditemukan '$&', kemunculan selanjutnya pada karakter\" . pos($string)+1. \"\\n\";\n",
        "}"
      ],
      "metadata": {
        "colab": {
          "base_uri": "https://localhost:8080/",
          "height": 106
        },
        "id": "ygVuJH3tQzra",
        "outputId": "f0514466-9e68-419a-8e4b-e6e99310e7fa"
      },
      "execution_count": null,
      "outputs": [
        {
          "output_type": "error",
          "ename": "SyntaxError",
          "evalue": "invalid syntax (<ipython-input-13-6cbb79c05eec>, line 4)",
          "traceback": [
            "\u001b[0;36m  File \u001b[0;32m\"<ipython-input-13-6cbb79c05eec>\"\u001b[0;36m, line \u001b[0;32m4\u001b[0m\n\u001b[0;31m    while ($string =~ m/regex/g){\u001b[0m\n\u001b[0m           ^\u001b[0m\n\u001b[0;31mSyntaxError\u001b[0m\u001b[0;31m:\u001b[0m invalid syntax\n"
          ]
        }
      ]
    },
    {
      "cell_type": "code",
      "source": [
        "# contoh find all dengan bahasa pemograman python\n",
        "\n",
        "import re\n",
        "re.findall(pattern,string[,flags])"
      ],
      "metadata": {
        "colab": {
          "base_uri": "https://localhost:8080/",
          "height": 106
        },
        "id": "lw9BnWidRafN",
        "outputId": "70cf52f5-b1c9-4f03-c4d9-ecefeccc48a2"
      },
      "execution_count": null,
      "outputs": [
        {
          "output_type": "error",
          "ename": "SyntaxError",
          "evalue": "invalid syntax (<ipython-input-20-dd93b5518895>, line 4)",
          "traceback": [
            "\u001b[0;36m  File \u001b[0;32m\"<ipython-input-20-dd93b5518895>\"\u001b[0;36m, line \u001b[0;32m4\u001b[0m\n\u001b[0;31m    re.findall(pattern,string[,flags])\u001b[0m\n\u001b[0m                              ^\u001b[0m\n\u001b[0;31mSyntaxError\u001b[0m\u001b[0;31m:\u001b[0m invalid syntax\n"
          ]
        }
      ]
    },
    {
      "cell_type": "code",
      "source": [
        "import re\n",
        "\n",
        "t = \"A fat cat doesn't eat oat but a rat eats bats\"\n",
        "mo = re.findall(\"[a-z]at\",t)\n",
        "print(mo)"
      ],
      "metadata": {
        "colab": {
          "base_uri": "https://localhost:8080/"
        },
        "id": "qtnO8HeYRkvh",
        "outputId": "d637fbbc-03dd-4cde-cca2-b9d0165d6caa"
      },
      "execution_count": null,
      "outputs": [
        {
          "output_type": "stream",
          "name": "stdout",
          "text": [
            "['fat', 'cat', 'eat', 'oat', 'rat', 'eat', 'bat']\n"
          ]
        }
      ]
    },
    {
      "cell_type": "code",
      "source": [
        "import re\n",
        "courses = '''Python Training Course for Beginners: 15/Aug/2011 - 19/Aug/2011; Python Training Course Intermediate: 12/Dec/2011 - 16/Dec/2011;Python Text Processing Course:31/Oct/2011 - 4/Nov/2011'''\n",
        "items = re.findall(\"[^:]*:[^;]*;?\",courses)\n",
        "print(items)\n",
        "print()\n",
        "items"
      ],
      "metadata": {
        "colab": {
          "base_uri": "https://localhost:8080/"
        },
        "id": "gn6m_7IGSdji",
        "outputId": "0331b0e9-0c75-4b90-9280-389e0f465977"
      },
      "execution_count": null,
      "outputs": [
        {
          "output_type": "stream",
          "name": "stdout",
          "text": [
            "['Python Training Course for Beginners: 15/Aug/2011 - 19/Aug/2011;', ' Python Training Course Intermediate: 12/Dec/2011 - 16/Dec/2011;', 'Python Text Processing Course:31/Oct/2011 - 4/Nov/2011']\n",
            "\n"
          ]
        },
        {
          "output_type": "execute_result",
          "data": {
            "text/plain": [
              "['Python Training Course for Beginners: 15/Aug/2011 - 19/Aug/2011;',\n",
              " ' Python Training Course Intermediate: 12/Dec/2011 - 16/Dec/2011;',\n",
              " 'Python Text Processing Course:31/Oct/2011 - 4/Nov/2011']"
            ]
          },
          "metadata": {},
          "execution_count": 16
        }
      ]
    },
    {
      "cell_type": "code",
      "source": [
        "import re\n",
        "str = \"course location is Jakarta or Bandung\"\n",
        "mo = re.search(r\"location.*(Jakarta|Bandung|Lampung|Madura)\",str)\n",
        "if mo : print(mo.group())"
      ],
      "metadata": {
        "colab": {
          "base_uri": "https://localhost:8080/"
        },
        "id": "jZ5eJUwbTYqY",
        "outputId": "d8376436-1332-4e0b-d2a3-426f5cf9e9b9"
      },
      "execution_count": null,
      "outputs": [
        {
          "output_type": "stream",
          "name": "stdout",
          "text": [
            "location is Jakarta or Bandung\n"
          ]
        }
      ]
    },
    {
      "cell_type": "code",
      "source": [
        "from re import IGNORECASE\n",
        "\n",
        "import re\n",
        "z = \" I live in Bekasi\"\n",
        "y = re.search(\"live.*(Jakarta|Depok|Bekasi|Bogor)\",z)\n",
        "if y : print(y.group())"
      ],
      "metadata": {
        "colab": {
          "base_uri": "https://localhost:8080/"
        },
        "id": "3HHzPeN_UxOD",
        "outputId": "521ec396-d44f-4e70-a724-3fe02b906191"
      },
      "execution_count": null,
      "outputs": [
        {
          "output_type": "stream",
          "name": "stdout",
          "text": [
            "live in Bekasi\n"
          ]
        }
      ]
    },
    {
      "cell_type": "code",
      "source": [
        "#Split\n",
        "\n",
        "#splitting tanpa Regex\n",
        "\n",
        "string = \"Let reverence for the laws be breathed by every American mother to the lisping babe that prattles on her lap. Let it be taught in schools, in seminaries, and in colleges. Let it be written in primers, spelling books, and in almanacs. Let it be preached from the pulpit, proclaimed in legislative halls, and enforced in the courts of justice. And, in short, let it become the political religion of the nation.\"\n",
        "string.split()"
      ],
      "metadata": {
        "colab": {
          "base_uri": "https://localhost:8080/"
        },
        "id": "HMK7VapXVB4y",
        "outputId": "d2d8b621-9545-48ff-8084-6f7ccf625b75"
      },
      "execution_count": null,
      "outputs": [
        {
          "output_type": "execute_result",
          "data": {
            "text/plain": [
              "['Let',\n",
              " 'reverence',\n",
              " 'for',\n",
              " 'the',\n",
              " 'laws',\n",
              " 'be',\n",
              " 'breathed',\n",
              " 'by',\n",
              " 'every',\n",
              " 'American',\n",
              " 'mother',\n",
              " 'to',\n",
              " 'the',\n",
              " 'lisping',\n",
              " 'babe',\n",
              " 'that',\n",
              " 'prattles',\n",
              " 'on',\n",
              " 'her',\n",
              " 'lap.',\n",
              " 'Let',\n",
              " 'it',\n",
              " 'be',\n",
              " 'taught',\n",
              " 'in',\n",
              " 'schools,',\n",
              " 'in',\n",
              " 'seminaries,',\n",
              " 'and',\n",
              " 'in',\n",
              " 'colleges.',\n",
              " 'Let',\n",
              " 'it',\n",
              " 'be',\n",
              " 'written',\n",
              " 'in',\n",
              " 'primers,',\n",
              " 'spelling',\n",
              " 'books,',\n",
              " 'and',\n",
              " 'in',\n",
              " 'almanacs.',\n",
              " 'Let',\n",
              " 'it',\n",
              " 'be',\n",
              " 'preached',\n",
              " 'from',\n",
              " 'the',\n",
              " 'pulpit,',\n",
              " 'proclaimed',\n",
              " 'in',\n",
              " 'legislative',\n",
              " 'halls,',\n",
              " 'and',\n",
              " 'enforced',\n",
              " 'in',\n",
              " 'the',\n",
              " 'courts',\n",
              " 'of',\n",
              " 'justice.',\n",
              " 'And,',\n",
              " 'in',\n",
              " 'short,',\n",
              " 'let',\n",
              " 'it',\n",
              " 'become',\n",
              " 'the',\n",
              " 'political',\n",
              " 'religion',\n",
              " 'of',\n",
              " 'the',\n",
              " 'nation.']"
            ]
          },
          "metadata": {},
          "execution_count": 21
        }
      ]
    },
    {
      "cell_type": "code",
      "source": [
        "line = \"Faras;Tata;Fauziah;Pearl\"\n",
        "line.split()"
      ],
      "metadata": {
        "colab": {
          "base_uri": "https://localhost:8080/"
        },
        "id": "djIhDc68V3r0",
        "outputId": "5cdaddcf-5510-4545-da65-75a253d69cca"
      },
      "execution_count": null,
      "outputs": [
        {
          "output_type": "execute_result",
          "data": {
            "text/plain": [
              "['Faras;Tata;Fauziah;Pearl']"
            ]
          },
          "metadata": {},
          "execution_count": 22
        }
      ]
    },
    {
      "cell_type": "code",
      "source": [
        "mamon = \"The god of the world's leading religion. The chief temple is in the holy city of New York.\"\n",
        "mamon.split(\" \",3)"
      ],
      "metadata": {
        "colab": {
          "base_uri": "https://localhost:8080/"
        },
        "id": "1hMhIbGGXVYi",
        "outputId": "9842706b-6d77-49ca-b8da-8c6ba04decdb"
      },
      "execution_count": null,
      "outputs": [
        {
          "output_type": "execute_result",
          "data": {
            "text/plain": [
              "['The',\n",
              " 'god',\n",
              " 'of',\n",
              " \"the world's leading religion. The chief temple is in the holy city of New York.\"]"
            ]
          },
          "metadata": {},
          "execution_count": 24
        }
      ]
    },
    {
      "cell_type": "code",
      "source": [
        "mamon = \"The god of the world's leading religion. The chief temple is in the holy city of New York.\"\n",
        "mamon.split(\" \",5)\n"
      ],
      "metadata": {
        "colab": {
          "base_uri": "https://localhost:8080/"
        },
        "id": "hm07GT_PXcUk",
        "outputId": "75e747a7-6b05-4403-acf3-50abd9029858"
      },
      "execution_count": null,
      "outputs": [
        {
          "output_type": "execute_result",
          "data": {
            "text/plain": [
              "['The',\n",
              " 'god',\n",
              " 'of',\n",
              " 'the',\n",
              " \"world's\",\n",
              " 'leading religion. The chief temple is in the holy city of New York.']"
            ]
          },
          "metadata": {},
          "execution_count": 29
        }
      ]
    },
    {
      "cell_type": "code",
      "source": [
        "mamon.split(None,5)"
      ],
      "metadata": {
        "colab": {
          "base_uri": "https://localhost:8080/"
        },
        "id": "KLRoRVOhX_bO",
        "outputId": "867f14c6-b55d-4d16-d8c5-ef0a21a6ca59"
      },
      "execution_count": null,
      "outputs": [
        {
          "output_type": "execute_result",
          "data": {
            "text/plain": [
              "['The',\n",
              " 'god',\n",
              " 'of',\n",
              " 'the',\n",
              " \"world's\",\n",
              " 'leading religion. The chief temple is in the holy city of New York.']"
            ]
          },
          "metadata": {},
          "execution_count": 30
        }
      ]
    },
    {
      "cell_type": "code",
      "source": [
        "# split dengan regex\n",
        "\n",
        "import re\n",
        "string = \"OF bodies chang'd to various forms, I sing: Ye Gods, from whom these miracles did spring, Inspire my numbers with coelestial heat;\"\n",
        "re.split(\"\\W+\",string)"
      ],
      "metadata": {
        "colab": {
          "base_uri": "https://localhost:8080/"
        },
        "id": "d08lPhHjYPZ_",
        "outputId": "2be4798f-d10a-4c2c-b2d8-5d5dc887c889"
      },
      "execution_count": null,
      "outputs": [
        {
          "output_type": "execute_result",
          "data": {
            "text/plain": [
              "['OF',\n",
              " 'bodies',\n",
              " 'chang',\n",
              " 'd',\n",
              " 'to',\n",
              " 'various',\n",
              " 'forms',\n",
              " 'I',\n",
              " 'sing',\n",
              " 'Ye',\n",
              " 'Gods',\n",
              " 'from',\n",
              " 'whom',\n",
              " 'these',\n",
              " 'miracles',\n",
              " 'did',\n",
              " 'spring',\n",
              " 'Inspire',\n",
              " 'my',\n",
              " 'numbers',\n",
              " 'with',\n",
              " 'coelestial',\n",
              " 'heat',\n",
              " '']"
            ]
          },
          "metadata": {},
          "execution_count": 32
        }
      ]
    },
    {
      "cell_type": "code",
      "source": [
        "import re\n",
        "lines = [\"surname: Nelson, prename: Mandela, profession: president\", \"surname: Merkel, prename: Skylar, profession: chancellor\"]\n",
        "for line in lines:\n",
        "  print(re.split(\" ,* *\\w*: \", line))"
      ],
      "metadata": {
        "colab": {
          "base_uri": "https://localhost:8080/"
        },
        "id": "YHcrSxAqZoOB",
        "outputId": "0570eb57-7dc3-431c-da5b-b1a89003ebc5"
      },
      "execution_count": null,
      "outputs": [
        {
          "output_type": "stream",
          "name": "stdout",
          "text": [
            "['surname: Nelson,', 'Mandela,', 'president']\n",
            "['surname: Merkel,', 'Skylar,', 'chancellor']\n"
          ]
        }
      ]
    },
    {
      "cell_type": "code",
      "source": [
        "import re\n",
        "lines = [\"surname: Nelson, prename: Mandela, profession: president\", \"surname: Merkel, prename: Skylar, profession: chancellor\"]\n",
        "for line in lines:\n",
        "  print(re.split(\" *\\w* \", line)[1:])"
      ],
      "metadata": {
        "colab": {
          "base_uri": "https://localhost:8080/"
        },
        "id": "dCRw8HmXYetC",
        "outputId": "8b1baa8c-0005-4fb4-ca8d-a83bf813f191"
      },
      "execution_count": null,
      "outputs": [
        {
          "output_type": "stream",
          "name": "stdout",
          "text": [
            "['Nelson,', 'prename:', 'Mandela,', 'profession:', 'president']\n",
            "['Merkel,', 'prename:', 'Skylar,', 'profession:', 'chancellor']\n"
          ]
        }
      ]
    },
    {
      "cell_type": "code",
      "source": [
        "# Search and Replace dengan Sub()\n",
        "\n",
        "import re\n",
        "str = \"yes I said yes i will Yes\"\n",
        "res = re.sub(\"[Yy]es\",\"No\",str)\n",
        "print(res)"
      ],
      "metadata": {
        "colab": {
          "base_uri": "https://localhost:8080/"
        },
        "id": "Sd4PAcwCZ7Jb",
        "outputId": "c9cd543f-b3fe-4c19-da66-3f5b5e25dec5"
      },
      "execution_count": null,
      "outputs": [
        {
          "output_type": "stream",
          "name": "stdout",
          "text": [
            "No I said No i will No\n"
          ]
        }
      ]
    },
    {
      "cell_type": "markdown",
      "source": [
        "# **Pertemuan 8** List Fundamental in Python"
      ],
      "metadata": {
        "id": "06jUMdTXRh3d"
      }
    },
    {
      "cell_type": "code",
      "source": [
        "# cara membuat list di Python\n",
        "\n",
        "mylist = [\"Faras\",\"Tata\",\"Fauziah\"]"
      ],
      "metadata": {
        "id": "uBZPSyRLaKWQ"
      },
      "execution_count": null,
      "outputs": []
    },
    {
      "cell_type": "code",
      "source": [
        "mylists = [\"Indra\", \"Wijaya\",\"Alexsander\",\"Hendra\",\"Wijaya\"]\n",
        "print(mylists)"
      ],
      "metadata": {
        "colab": {
          "base_uri": "https://localhost:8080/"
        },
        "id": "PGrT-cZFR6vc",
        "outputId": "3aea377f-2a2f-4309-b1d1-ab5158b02d4e"
      },
      "execution_count": null,
      "outputs": [
        {
          "output_type": "stream",
          "name": "stdout",
          "text": [
            "['Indra', 'Wijaya', 'Alexsander', 'Hendra', 'Wijaya']\n"
          ]
        }
      ]
    },
    {
      "cell_type": "code",
      "source": [
        "print(len(mylists))"
      ],
      "metadata": {
        "colab": {
          "base_uri": "https://localhost:8080/"
        },
        "id": "w43f5N8BR645",
        "outputId": "2eebaf60-480b-49ff-96ab-1f1f54bbb176"
      },
      "execution_count": null,
      "outputs": [
        {
          "output_type": "stream",
          "name": "stdout",
          "text": [
            "5\n"
          ]
        }
      ]
    },
    {
      "cell_type": "code",
      "source": [
        "#datatype in list Python\n",
        "\n",
        "list1 = [\"Nisa\",\"Cantik\",\"Banget\"]\n",
        "list2 = [1,2,3,4,5]\n",
        "list3 = [True,False,False]\n",
        "lists = [\"Mahasiswa\",25,False,23,\"Students\"]"
      ],
      "metadata": {
        "id": "Klmpuqu9SKDa"
      },
      "execution_count": null,
      "outputs": []
    },
    {
      "cell_type": "code",
      "source": [
        "# cara melihat type di Python\n",
        "\n",
        "print(type(lists))"
      ],
      "metadata": {
        "colab": {
          "base_uri": "https://localhost:8080/"
        },
        "id": "ipKvh-2xSt1W",
        "outputId": "9ac0a9c9-b1f4-44c4-a0a3-58b8da31e057"
      },
      "execution_count": null,
      "outputs": [
        {
          "output_type": "stream",
          "name": "stdout",
          "text": [
            "<class 'list'>\n"
          ]
        }
      ]
    },
    {
      "cell_type": "code",
      "source": [
        "# list dengan konstruktor\n",
        "\n",
        "mylist= list((\"Apps\",\"os\",\"version\")) # harus menggunakan double kurung\n",
        "print(mylist)"
      ],
      "metadata": {
        "colab": {
          "base_uri": "https://localhost:8080/"
        },
        "id": "8SJsa6YQS0rp",
        "outputId": "be149ede-8d00-4b89-9f55-1a0a68e388d8"
      },
      "execution_count": null,
      "outputs": [
        {
          "output_type": "stream",
          "name": "stdout",
          "text": [
            "['Apps', 'os', 'version']\n"
          ]
        }
      ]
    },
    {
      "cell_type": "code",
      "source": [
        "#cara melihat isi list berdasarkan indeks\n",
        "\n",
        "print(mylist[0]) #melihat data pertama di dalam list\n",
        "print()\n",
        "print(mylist[-1]) #melihat data terakhir didalam list\n",
        "print()\n",
        "print(mylist[1:3]) #melihat data di indeks 1-2 di dalam list\n",
        "print()\n",
        "print(mylist[:2]) #melihat data terakhir hingga data di indeks ke 1 di dalam list\n",
        "print()\n",
        "print(mylist[1:]) # melihat data indeks ke 1 hinga indeks terakhir di dalam list"
      ],
      "metadata": {
        "colab": {
          "base_uri": "https://localhost:8080/"
        },
        "id": "kAaOvsVeTB0A",
        "outputId": "8cf55c12-ed1b-4252-c637-bd9b179a1433"
      },
      "execution_count": null,
      "outputs": [
        {
          "output_type": "stream",
          "name": "stdout",
          "text": [
            "Apps\n",
            "\n",
            "version\n",
            "\n",
            "['os', 'version']\n",
            "\n",
            "['Apps', 'os']\n",
            "\n",
            "['os', 'version']\n"
          ]
        }
      ]
    },
    {
      "cell_type": "code",
      "source": [
        "mylist[0] = \"MacOS\"\n",
        "print(mylist)"
      ],
      "metadata": {
        "colab": {
          "base_uri": "https://localhost:8080/"
        },
        "id": "56_rmfGETYEC",
        "outputId": "97042e8f-de1a-4ac2-bbbc-38cbd9d844c2"
      },
      "execution_count": null,
      "outputs": [
        {
          "output_type": "stream",
          "name": "stdout",
          "text": [
            "['MacOS', 'os', 'version']\n"
          ]
        }
      ]
    },
    {
      "cell_type": "code",
      "source": [
        "mylist[1:3] = [\"android\",\"nougat\"]\n",
        "print(mylist)"
      ],
      "metadata": {
        "colab": {
          "base_uri": "https://localhost:8080/"
        },
        "id": "hKA8jzg8Z4fw",
        "outputId": "e6f311fa-579e-4633-e9b4-b5d425564f79"
      },
      "execution_count": null,
      "outputs": [
        {
          "output_type": "stream",
          "name": "stdout",
          "text": [
            "['MacOS', 'android', 'nougat']\n"
          ]
        }
      ]
    },
    {
      "cell_type": "code",
      "source": [
        "thislist = [\"apple\",\"banana\",\"cherry\"]\n",
        "thislist[1:2] = [\"blackcurrant\",\"watermelon\"]\n",
        "print(thislist)"
      ],
      "metadata": {
        "colab": {
          "base_uri": "https://localhost:8080/"
        },
        "id": "BkeNHBfKaBTh",
        "outputId": "6bfa56a3-9a65-4941-c3d5-42f6c5cd9669"
      },
      "execution_count": null,
      "outputs": [
        {
          "output_type": "stream",
          "name": "stdout",
          "text": [
            "['apple', 'blackcurrant', 'watermelon', 'cherry']\n"
          ]
        }
      ]
    },
    {
      "cell_type": "code",
      "source": [
        "thislist = [\"apple\",\"banana\",\"cherry\"]\n",
        "thislist[1:3] = [\"watermelon\"]\n",
        "print(thislist)"
      ],
      "metadata": {
        "colab": {
          "base_uri": "https://localhost:8080/"
        },
        "id": "7YbSiNPYaOTC",
        "outputId": "d4d53360-8f72-486a-d219-fca36d9b4a75"
      },
      "execution_count": null,
      "outputs": [
        {
          "output_type": "stream",
          "name": "stdout",
          "text": [
            "['apple', 'watermelon']\n"
          ]
        }
      ]
    },
    {
      "cell_type": "code",
      "source": [
        "#add item to list\n",
        "\n",
        "#append()\n",
        "thislist = [\"apple\",\"banana\",\"cherry\"]\n",
        "thislist.append(\"Orange\")\n",
        "print(thislist)"
      ],
      "metadata": {
        "colab": {
          "base_uri": "https://localhost:8080/"
        },
        "id": "9J3BGz7kbF1l",
        "outputId": "eb6b92c0-ffd6-441d-d5c9-4e5b25ab2cff"
      },
      "execution_count": null,
      "outputs": [
        {
          "output_type": "stream",
          "name": "stdout",
          "text": [
            "['apple', 'banana', 'cherry', 'Orange']\n"
          ]
        }
      ]
    },
    {
      "cell_type": "code",
      "source": [
        "#insert()\n",
        "thislist = [\"apple\",\"banana\",\"cherry\"]\n",
        "thislist.insert(1,\"orange\")\n",
        "print(thislist)"
      ],
      "metadata": {
        "colab": {
          "base_uri": "https://localhost:8080/"
        },
        "id": "Dl_p7ieabXoi",
        "outputId": "7c6131f5-e8ea-4849-91db-247198a8cb78"
      },
      "execution_count": null,
      "outputs": [
        {
          "output_type": "stream",
          "name": "stdout",
          "text": [
            "['apple', 'orange', 'banana', 'cherry']\n"
          ]
        }
      ]
    },
    {
      "cell_type": "code",
      "source": [
        "# extend\n",
        "thislist = [\"apple\",\"banana\",\"cherry\"]\n",
        "tropical = [\"blackcurrent\",\"durians\",\"mango\"]\n",
        "\n",
        "thislist.extend(tropical)\n",
        "print(thislist)"
      ],
      "metadata": {
        "colab": {
          "base_uri": "https://localhost:8080/"
        },
        "id": "XWavwpPabt8J",
        "outputId": "61819e3c-8458-475c-96b3-3c6a6b506522"
      },
      "execution_count": null,
      "outputs": [
        {
          "output_type": "stream",
          "name": "stdout",
          "text": [
            "['apple', 'banana', 'cherry', 'blackcurrent', 'durians', 'mango']\n"
          ]
        }
      ]
    },
    {
      "cell_type": "code",
      "source": [
        "#remove item from list\n",
        "\n",
        "#remove\n",
        "\n",
        "thislist = [\"apple\",\"banana\",\"cherry\"]\n",
        "thislist.remove(\"cherry\")\n",
        "print(thislist)"
      ],
      "metadata": {
        "colab": {
          "base_uri": "https://localhost:8080/"
        },
        "id": "Jg4IdZ9pcIdK",
        "outputId": "0a34d609-4dfb-400e-91bb-92283da8e934"
      },
      "execution_count": null,
      "outputs": [
        {
          "output_type": "stream",
          "name": "stdout",
          "text": [
            "['apple', 'banana']\n"
          ]
        }
      ]
    },
    {
      "cell_type": "code",
      "source": [
        "# pop\n",
        "\n",
        "thislist = [\"apple\",\"cherry\",\"mango\"]\n",
        "thislist.pop(1)\n",
        "print(thislist)"
      ],
      "metadata": {
        "colab": {
          "base_uri": "https://localhost:8080/"
        },
        "id": "J9-z8p7CchNz",
        "outputId": "82aa43e8-f887-49d3-af52-7098c11f1ba3"
      },
      "execution_count": null,
      "outputs": [
        {
          "output_type": "stream",
          "name": "stdout",
          "text": [
            "['apple', 'mango']\n"
          ]
        }
      ]
    },
    {
      "cell_type": "code",
      "source": [
        "#del\n",
        "\n",
        "thislist = [\"apple\",\"mango\",\"cherry\"]\n",
        "del thislist[0]\n",
        "print(thislist)"
      ],
      "metadata": {
        "colab": {
          "base_uri": "https://localhost:8080/"
        },
        "id": "Pi7YEnoncvxa",
        "outputId": "f39c6ebd-394d-4172-cba1-47b771d25b37"
      },
      "execution_count": null,
      "outputs": [
        {
          "output_type": "stream",
          "name": "stdout",
          "text": [
            "['mango', 'cherry']\n"
          ]
        }
      ]
    },
    {
      "cell_type": "code",
      "source": [
        "#clear\n",
        "\n",
        "thislist = [\"apple\",\"mango\",\"banana\"]\n",
        "thislist.clear()\n",
        "print(thislist)"
      ],
      "metadata": {
        "colab": {
          "base_uri": "https://localhost:8080/"
        },
        "id": "D6hWO6_Dc9mK",
        "outputId": "e03026e6-2e86-4bcf-845f-4ae3072d0420"
      },
      "execution_count": null,
      "outputs": [
        {
          "output_type": "stream",
          "name": "stdout",
          "text": [
            "[]\n"
          ]
        }
      ]
    },
    {
      "cell_type": "code",
      "source": [
        "# Loop in list\n",
        "\n",
        "#for loop\n",
        "\n",
        "thislist = [\"apple\",\"banana\",\"mango\"]\n",
        "for x in thislist:\n",
        "  print(x)"
      ],
      "metadata": {
        "colab": {
          "base_uri": "https://localhost:8080/"
        },
        "id": "VzLNK45pdOWC",
        "outputId": "ae0d53ac-d76f-4bb6-c42e-6628d2705c7d"
      },
      "execution_count": null,
      "outputs": [
        {
          "output_type": "stream",
          "name": "stdout",
          "text": [
            "apple\n",
            "banana\n",
            "mango\n"
          ]
        }
      ]
    },
    {
      "cell_type": "code",
      "source": [
        "thislist = [\"apple\",\"banana\",\"mango\"]\n",
        "\n",
        "for i in range (len(thislist)):\n",
        "  print(thislist[i])"
      ],
      "metadata": {
        "colab": {
          "base_uri": "https://localhost:8080/"
        },
        "id": "kL0iAbtoeQ2D",
        "outputId": "274f0a27-3d02-4876-efcd-026f54310055"
      },
      "execution_count": null,
      "outputs": [
        {
          "output_type": "stream",
          "name": "stdout",
          "text": [
            "apple\n",
            "banana\n",
            "mango\n"
          ]
        }
      ]
    },
    {
      "cell_type": "code",
      "source": [
        "thislist = [\"banana\",\"mango\",\"apple\"]\n",
        "i = 0\n",
        "\n",
        "while i < len(thislist):\n",
        "  print(thislist[i])\n",
        "  i = i + 1"
      ],
      "metadata": {
        "colab": {
          "base_uri": "https://localhost:8080/"
        },
        "id": "GLcB0Ln5eeTj",
        "outputId": "b1d87555-9db6-4a5b-ceca-5ba3c1fe7857"
      },
      "execution_count": null,
      "outputs": [
        {
          "output_type": "stream",
          "name": "stdout",
          "text": [
            "banana\n",
            "mango\n",
            "apple\n"
          ]
        }
      ]
    },
    {
      "cell_type": "code",
      "source": [
        "#list comprehension\n",
        "\n",
        "fruit = [\"apple\",\"banana\",\"mango\",\"kiwi\",\"cherry\"]\n",
        "\n",
        "newlist = [x for x in fruit if \"a\" in x]\n",
        "print(newlist)"
      ],
      "metadata": {
        "colab": {
          "base_uri": "https://localhost:8080/"
        },
        "id": "FiK6mVAHfVvX",
        "outputId": "a15be9a5-8e93-49e0-c9f4-c17ffc733619"
      },
      "execution_count": null,
      "outputs": [
        {
          "output_type": "stream",
          "name": "stdout",
          "text": [
            "['apple', 'banana', 'mango']\n"
          ]
        }
      ]
    },
    {
      "cell_type": "code",
      "source": [
        "fruit = [\"apple\",\"banana\",\"cherry\"]\n",
        "\n",
        "for x in fruit:\n",
        "  if 'a' in x:\n",
        "    print(x)"
      ],
      "metadata": {
        "colab": {
          "base_uri": "https://localhost:8080/"
        },
        "id": "unOG9RS9fZ4b",
        "outputId": "aed82aa3-ca27-44f3-a577-eb47bc56b321"
      },
      "execution_count": null,
      "outputs": [
        {
          "output_type": "stream",
          "name": "stdout",
          "text": [
            "apple\n",
            "banana\n"
          ]
        }
      ]
    },
    {
      "cell_type": "code",
      "source": [
        "# menggunakan kondisi\n",
        "\n",
        "newlist = [x for x in fruit if x != \"apple\"]\n",
        "print(newlist)"
      ],
      "metadata": {
        "colab": {
          "base_uri": "https://localhost:8080/"
        },
        "id": "jBw2CcPJgGPB",
        "outputId": "36804a04-8bd3-495a-e79c-d0894610a020"
      },
      "execution_count": null,
      "outputs": [
        {
          "output_type": "stream",
          "name": "stdout",
          "text": [
            "['banana', 'cherry']\n"
          ]
        }
      ]
    },
    {
      "cell_type": "code",
      "source": [
        "# iteratif\n",
        "newlist = [x for x in range(10)]\n",
        "print(newlist)"
      ],
      "metadata": {
        "colab": {
          "base_uri": "https://localhost:8080/"
        },
        "id": "PJ22yUdcgi7y",
        "outputId": "f9303dc3-2856-4a5b-b068-6480f2be57a7"
      },
      "execution_count": null,
      "outputs": [
        {
          "output_type": "stream",
          "name": "stdout",
          "text": [
            "[0, 1, 2, 3, 4, 5, 6, 7, 8, 9]\n"
          ]
        }
      ]
    },
    {
      "cell_type": "code",
      "source": [
        "# expression\n",
        "newlist = [x.upper() for x in fruit]\n",
        "print(newlist)"
      ],
      "metadata": {
        "colab": {
          "base_uri": "https://localhost:8080/"
        },
        "id": "ejoeW2oVgpnr",
        "outputId": "1dca3e3e-3b83-4eb7-e712-081b64e391dc"
      },
      "execution_count": null,
      "outputs": [
        {
          "output_type": "stream",
          "name": "stdout",
          "text": [
            "['APPLE', 'BANANA', 'CHERRY']\n"
          ]
        }
      ]
    },
    {
      "cell_type": "code",
      "source": [
        "# multiple condition\n",
        "newlist = [x if x != \"banana\" else \"orange\" for x in fruit]\n",
        "print(newlist)"
      ],
      "metadata": {
        "colab": {
          "base_uri": "https://localhost:8080/"
        },
        "id": "Lcx1QyJFg511",
        "outputId": "cd339abf-bf9f-4f8d-dfb4-dd20d56a0e6d"
      },
      "execution_count": null,
      "outputs": [
        {
          "output_type": "stream",
          "name": "stdout",
          "text": [
            "['apple', 'orange', 'cherry']\n"
          ]
        }
      ]
    },
    {
      "cell_type": "code",
      "source": [
        "# list sorting\n",
        "\n",
        "thislist = [\"orange\",\"mango\",\"kiwi\",\"pinapple\",\"banana\"]\n",
        "thislist.sort() #sorting ascending (defaultnya)\n",
        "print(thislist)\n",
        "print()\n",
        "thislist.sort(reverse = True) #sorting descending (reverse dari sorting default)\n",
        "print(thislist)"
      ],
      "metadata": {
        "colab": {
          "base_uri": "https://localhost:8080/"
        },
        "id": "hAzsiF62h9rs",
        "outputId": "382cdde9-7996-46a5-fe0c-c1562fd6367e"
      },
      "execution_count": null,
      "outputs": [
        {
          "output_type": "stream",
          "name": "stdout",
          "text": [
            "['banana', 'kiwi', 'mango', 'orange', 'pinapple']\n",
            "\n",
            "['pinapple', 'orange', 'mango', 'kiwi', 'banana']\n"
          ]
        }
      ]
    },
    {
      "cell_type": "code",
      "source": [
        "thislist = [100,58,14,23,75]\n",
        "thislist.sort()\n",
        "print(thislist)\n",
        "print()\n",
        "thislist.sort(reverse = True)\n",
        "print(thislist)"
      ],
      "metadata": {
        "colab": {
          "base_uri": "https://localhost:8080/"
        },
        "id": "PrQMhxP0ayVs",
        "outputId": "70abd3b6-83f2-4b34-ccd7-9d8e52d92bbe"
      },
      "execution_count": null,
      "outputs": [
        {
          "output_type": "stream",
          "name": "stdout",
          "text": [
            "[14, 23, 58, 75, 100]\n",
            "\n",
            "[100, 75, 58, 23, 14]\n"
          ]
        }
      ]
    },
    {
      "cell_type": "code",
      "source": [
        "thislist = [\"apple\",\"banana\",\"mango\"]\n",
        "newlist = thislist.copy()\n",
        "print(newlist)"
      ],
      "metadata": {
        "colab": {
          "base_uri": "https://localhost:8080/"
        },
        "id": "0bRPbfCObDSE",
        "outputId": "d98e9fc4-7832-4581-c1d4-475cdc9f0a82"
      },
      "execution_count": null,
      "outputs": [
        {
          "output_type": "stream",
          "name": "stdout",
          "text": [
            "['apple', 'banana', 'mango']\n"
          ]
        }
      ]
    },
    {
      "cell_type": "code",
      "source": [
        "#joining list\n",
        "#join biasa\n",
        "list1 = [1,2,3]\n",
        "list2 = [4,5,6]\n",
        "\n",
        "list3 = list1 + list2\n",
        "print(list3)"
      ],
      "metadata": {
        "colab": {
          "base_uri": "https://localhost:8080/"
        },
        "id": "2yEXRDC2bMZ9",
        "outputId": "f77edb92-7e74-407d-d5a6-596e7f69c091"
      },
      "execution_count": null,
      "outputs": [
        {
          "output_type": "stream",
          "name": "stdout",
          "text": [
            "[1, 2, 3, 4, 5, 6]\n"
          ]
        }
      ]
    },
    {
      "cell_type": "code",
      "source": [
        "# join dengan looping\n",
        "list1 = [1,2,3]\n",
        "list2 = [4,5,6]\n",
        "\n",
        "for x in list2:\n",
        "  list1.append(x)\n",
        "\n",
        "print(list1)"
      ],
      "metadata": {
        "colab": {
          "base_uri": "https://localhost:8080/"
        },
        "id": "RQkiu4Clben7",
        "outputId": "21a13b8a-496c-48ae-ea71-059e6a7f5db7"
      },
      "execution_count": null,
      "outputs": [
        {
          "output_type": "stream",
          "name": "stdout",
          "text": [
            "[1, 2, 3, 4, 5, 6]\n"
          ]
        }
      ]
    },
    {
      "cell_type": "code",
      "source": [
        "#join dengan extend\n",
        "list1 = [1,2,3]\n",
        "list2 = [4,5,6]\n",
        "list1.extend(list2)\n",
        "\n",
        "print(list1)"
      ],
      "metadata": {
        "colab": {
          "base_uri": "https://localhost:8080/"
        },
        "id": "I22E2X-HbvT8",
        "outputId": "1d540067-7c2a-4378-e09c-921bc78213af"
      },
      "execution_count": null,
      "outputs": [
        {
          "output_type": "stream",
          "name": "stdout",
          "text": [
            "[1, 2, 3, 4, 5, 6]\n"
          ]
        }
      ]
    },
    {
      "cell_type": "markdown",
      "source": [
        "# **Pertemuan 9** Dictionary in Python"
      ],
      "metadata": {
        "id": "2nTYxK3pcGql"
      }
    },
    {
      "cell_type": "code",
      "source": [
        "# Defining Dictionary\n",
        "\n",
        "dicts = {\"a\":1,\"b\":2,\"c\":3}\n",
        "print(dicts)"
      ],
      "metadata": {
        "colab": {
          "base_uri": "https://localhost:8080/"
        },
        "id": "zbhag-E-dwJX",
        "outputId": "8ae15eb8-43fb-4e20-d464-5702a921e2e2"
      },
      "execution_count": null,
      "outputs": [
        {
          "output_type": "stream",
          "name": "stdout",
          "text": [
            "{'a': 1, 'b': 2, 'c': 3}\n"
          ]
        }
      ]
    },
    {
      "cell_type": "code",
      "source": [
        "sport_team = dict([\n",
        "    ('Colorado', 'Rockies'),\n",
        "    ('Boston', 'Red Sox'),\n",
        "    ('Minnesota', 'Twins'),\n",
        "    ('Milwaukee', 'Brewers'),\n",
        "    ('Seattle', 'Mariners')\n",
        "])\n",
        "print(sport_team)"
      ],
      "metadata": {
        "colab": {
          "base_uri": "https://localhost:8080/"
        },
        "id": "8NdEJ-00eKx3",
        "outputId": "0b9df931-6bc2-4dc0-9938-8d0675ff3faf"
      },
      "execution_count": null,
      "outputs": [
        {
          "output_type": "stream",
          "name": "stdout",
          "text": [
            "{'Colorado': 'Rockies', 'Boston': 'Red Sox', 'Minnesota': 'Twins', 'Milwaukee': 'Brewers', 'Seattle': 'Mariners'}\n"
          ]
        }
      ]
    },
    {
      "cell_type": "code",
      "source": [
        "sport_team = dict(\n",
        "    Colorado='Rockies',\n",
        "    Boston='Red Sox',\n",
        "    Minnesota='Twins',\n",
        "    Milwaukee='Brewers',\n",
        "    Seattle='Mariners'\n",
        ")\n",
        "print(sport_team)"
      ],
      "metadata": {
        "colab": {
          "base_uri": "https://localhost:8080/"
        },
        "id": "nk_4BHzleVi8",
        "outputId": "0fbeeb60-a88d-4096-b74f-251e1904acae"
      },
      "execution_count": null,
      "outputs": [
        {
          "output_type": "stream",
          "name": "stdout",
          "text": [
            "{'Colorado': 'Rockies', 'Boston': 'Red Sox', 'Minnesota': 'Twins', 'Milwaukee': 'Brewers', 'Seattle': 'Mariners'}\n"
          ]
        }
      ]
    },
    {
      "cell_type": "code",
      "source": [
        "# accessing dictionary\n",
        "\n",
        "print(sport_team['Minnesota'])\n",
        "print(sport_team['Colorado'])\n",
        "\n",
        "#jika key tidak ada di dalam dictionary maka akan error."
      ],
      "metadata": {
        "colab": {
          "base_uri": "https://localhost:8080/"
        },
        "id": "jL3BSSpSfW7t",
        "outputId": "e13a92cf-188c-471e-cd27-853bcd71fc82"
      },
      "execution_count": null,
      "outputs": [
        {
          "output_type": "stream",
          "name": "stdout",
          "text": [
            "Twins\n",
            "Rockies\n"
          ]
        }
      ]
    },
    {
      "cell_type": "code",
      "source": [
        "# adding new entry\n",
        "\n",
        "sport_team [\"Kankas City\"] = 'Royals'\n",
        "print(sport_team)\n",
        "sport_team [\"Seattle\"] = \" Seahawks\"\n",
        "print(sport_team)"
      ],
      "metadata": {
        "colab": {
          "base_uri": "https://localhost:8080/"
        },
        "id": "_sp90Zo-fhPt",
        "outputId": "8702f11a-f106-46b6-9e0d-918d58db97d1"
      },
      "execution_count": null,
      "outputs": [
        {
          "output_type": "stream",
          "name": "stdout",
          "text": [
            "{'Colorado': 'Rockies', 'Boston': 'Red Sox', 'Minnesota': 'Twins', 'Milwaukee': 'Brewers', 'Seattle': 'Mariners', 'Kankas City': 'Royals'}\n",
            "{'Colorado': 'Rockies', 'Boston': 'Red Sox', 'Minnesota': 'Twins', 'Milwaukee': 'Brewers', 'Seattle': ' Seahawks', 'Kankas City': 'Royals'}\n"
          ]
        }
      ]
    },
    {
      "cell_type": "code",
      "source": [
        "del sport_team [\"Seattle\"]\n",
        "print(sport_team)"
      ],
      "metadata": {
        "colab": {
          "base_uri": "https://localhost:8080/"
        },
        "id": "P6S6nNSYgFZg",
        "outputId": "b969072f-b9ec-4a26-e84b-8f92ce700263"
      },
      "execution_count": null,
      "outputs": [
        {
          "output_type": "stream",
          "name": "stdout",
          "text": [
            "{'Colorado': 'Rockies', 'Boston': 'Red Sox', 'Minnesota': 'Twins', 'Milwaukee': 'Brewers', 'Kankas City': 'Royals'}\n"
          ]
        }
      ]
    },
    {
      "cell_type": "code",
      "source": [
        "#dictionary key vs list indexing\n",
        "\n",
        "#sport_team['Toronto'] -> error karena tidak ada key tersebut di dalam list\n",
        "# sport_team[1] -> error karena tidak bisa mengakses dictionary dengan indexing\n",
        "\n",
        "d = {0:'a',1:'b',3:'c'}\n",
        "print(d)\n",
        "\n",
        "print(d[0])\n",
        "print(d[3])"
      ],
      "metadata": {
        "colab": {
          "base_uri": "https://localhost:8080/"
        },
        "id": "cd9icAosgclU",
        "outputId": "8b6af85c-8b32-4303-a7b1-ffa2a1cc9773"
      },
      "execution_count": null,
      "outputs": [
        {
          "output_type": "stream",
          "name": "stdout",
          "text": [
            "{0: 'a', 1: 'b', 3: 'c'}\n",
            "a\n",
            "c\n"
          ]
        }
      ]
    },
    {
      "cell_type": "code",
      "source": [
        "d = {3: 'd', 2: 'c', 1: 'b', 0: 'a'}\n",
        "print(d)\n",
        "\n",
        "print(d[1])\n",
        "print(d[2])"
      ],
      "metadata": {
        "colab": {
          "base_uri": "https://localhost:8080/"
        },
        "id": "zHoAFiiEhLTz",
        "outputId": "9854b5e9-5a8d-4e0e-cba9-485b536d7c48"
      },
      "execution_count": null,
      "outputs": [
        {
          "output_type": "stream",
          "name": "stdout",
          "text": [
            "{3: 'd', 2: 'c', 1: 'b', 0: 'a'}\n",
            "b\n",
            "c\n"
          ]
        }
      ]
    },
    {
      "cell_type": "code",
      "source": [
        "# Building a Dictionary Incrementally\n",
        "\n",
        "person = {}\n",
        "print(type(person))\n",
        "\n",
        "person['fname'] = 'Joe'\n",
        "person['lname'] = 'Fonebone'\n",
        "person['age'] = 51\n",
        "person['spouse'] = 'Edna'\n",
        "person['children'] = ['Ralph','Betty','Joey']\n",
        "person['pets'] = {'dog':'Fido', 'cat':'sox'}\n",
        "\n",
        "print(person)\n",
        "print()\n",
        "print(person['fname'])\n",
        "print(person['age'])\n",
        "print(person['children'])\n",
        "print(person['pets'])"
      ],
      "metadata": {
        "colab": {
          "base_uri": "https://localhost:8080/"
        },
        "id": "kJpMbSB3hUsT",
        "outputId": "b835cddc-b022-43c3-e0cc-05e56c0b7725"
      },
      "execution_count": null,
      "outputs": [
        {
          "output_type": "stream",
          "name": "stdout",
          "text": [
            "<class 'dict'>\n",
            "{'fname': 'Joe', 'lname': 'Fonebone', 'age': 51, 'spouse': 'Edna', 'children': ['Ralph', 'Betty', 'Joey'], 'pets': {'dog': 'Fido', 'cat': 'sox'}}\n",
            "\n",
            "Joe\n",
            "51\n",
            "['Ralph', 'Betty', 'Joey']\n",
            "{'dog': 'Fido', 'cat': 'sox'}\n"
          ]
        }
      ]
    },
    {
      "cell_type": "code",
      "source": [
        "print(person['children'][-1])\n",
        "print()\n",
        "print(person['pets']['cat'])"
      ],
      "metadata": {
        "colab": {
          "base_uri": "https://localhost:8080/"
        },
        "id": "3oGXhuDAitgj",
        "outputId": "082b8c99-1391-4921-fd59-8ccf1ee5ace6"
      },
      "execution_count": null,
      "outputs": [
        {
          "output_type": "stream",
          "name": "stdout",
          "text": [
            "Joey\n",
            "\n",
            "sox\n"
          ]
        }
      ]
    },
    {
      "cell_type": "code",
      "source": [
        "foo = {42:'aaa', 2.78:'bbb', True:'ccc'}\n",
        "print(foo)\n",
        "\n",
        "print(foo[42])\n",
        "print(foo[2.78])\n",
        "print(foo[True])"
      ],
      "metadata": {
        "colab": {
          "base_uri": "https://localhost:8080/"
        },
        "id": "E35AuUrUi_h0",
        "outputId": "475fc29c-a749-4b95-85ef-8fcc2e001a89"
      },
      "execution_count": null,
      "outputs": [
        {
          "output_type": "stream",
          "name": "stdout",
          "text": [
            "{42: 'aaa', 2.78: 'bbb', True: 'ccc'}\n",
            "aaa\n",
            "bbb\n",
            "ccc\n"
          ]
        }
      ]
    },
    {
      "cell_type": "markdown",
      "source": [
        "# **Pertemuan 10** Object Oriented programming"
      ],
      "metadata": {
        "id": "pEWYadmtm89m"
      }
    },
    {
      "cell_type": "code",
      "source": [
        "class ClassName:\n",
        "  # statement -1\n",
        "\n",
        "  #statement -2"
      ],
      "metadata": {
        "id": "gncPFCbknCy4"
      },
      "execution_count": null,
      "outputs": []
    },
    {
      "cell_type": "code",
      "source": [
        "# pendefinisian class\n",
        "class Dogs:\n",
        "  pass"
      ],
      "metadata": {
        "id": "Q5hmhaGnnOsD"
      },
      "execution_count": null,
      "outputs": []
    },
    {
      "cell_type": "code",
      "source": [
        "#Object\n",
        "\n",
        "obj = Dogs()"
      ],
      "metadata": {
        "id": "yyYU-HOKnVzp"
      },
      "execution_count": null,
      "outputs": []
    },
    {
      "cell_type": "code",
      "source": [
        "class Dog:\n",
        "  #Class attributes\n",
        "  attr1 = \"mammals\"\n",
        "\n",
        "  # instance attributes\n",
        "  def __init__(self,nama):\n",
        "    self.nama = nama\n",
        "# Driver code\n",
        "# Object Instantiation\n",
        "Rodger = Dog(\"Rodger\")\n",
        "Tommy = Dog(\"Tommy\")\n",
        "\n",
        "# accessing class attribute\n",
        "print(\"Rodger is a {}\".format(Rodger.__class__.attr1))\n",
        "print(\"Tommy is also a {}\".format(Tommy.__class__.attr1))\n",
        "\n",
        "#accessing instance Attributes\n",
        "print(\"My name is {}\".format(Rodger.nama))\n",
        "print(\"my name is {}\".format(Tommy.nama))"
      ],
      "metadata": {
        "colab": {
          "base_uri": "https://localhost:8080/"
        },
        "id": "xJbJ57d7neJZ",
        "outputId": "c33ba1b5-6d81-4fc9-d7a7-15d297aec5c0"
      },
      "execution_count": null,
      "outputs": [
        {
          "output_type": "stream",
          "name": "stdout",
          "text": [
            "Rodger is a mammals\n",
            "Tommy is also a mammals\n",
            "My name is Rodger\n",
            "my name is Tommy\n"
          ]
        }
      ]
    },
    {
      "cell_type": "code",
      "source": [
        "class Dog:\n",
        "  #Class attributes\n",
        "  attr1 = \"mammals\"\n",
        "\n",
        "  # instance attributes\n",
        "  def __init__(self,nama):\n",
        "    self.nama = nama\n",
        "\n",
        "  def speak(self):\n",
        "    print(\"my name is {}\".format(self.nama))\n",
        "\n",
        "#driver code\n",
        "#object instantiation\n",
        "Rodger = Dog(\"Rodger\")\n",
        "Tommy = Dog(\"Tommy\")\n",
        "\n",
        "#Accessing class method\n",
        "Rodger.speak()\n",
        "Tommy.speak()"
      ],
      "metadata": {
        "colab": {
          "base_uri": "https://localhost:8080/"
        },
        "id": "bS3u0bVwqxtV",
        "outputId": "7f155d55-8be5-469a-91bf-37a37f2eb769"
      },
      "execution_count": null,
      "outputs": [
        {
          "output_type": "stream",
          "name": "stdout",
          "text": [
            "my name is Rodger\n",
            "my name is Tommy\n"
          ]
        }
      ]
    },
    {
      "cell_type": "code",
      "source": [
        "# Inheritance\n",
        "\n",
        "#parent Class\n",
        "class Person(object):\n",
        "\n",
        "  # __init__ is known as the constructor\n",
        "  def __init__(self, name, idnumber):\n",
        "    self.name = name\n",
        "    self.idnumber = idnumber\n",
        "\n",
        "  def display(self):\n",
        "    print(self.name)\n",
        "    print(self.idnumber)\n",
        "\n",
        "  def details(self):\n",
        "    print(\"My name is {}\".format(self.name))\n",
        "    print(\"Idnumber {}\".format(self.idnumber))\n",
        "\n",
        "#child class\n",
        "class Employees(Person):\n",
        "  def __init__(self, name, idnumber, salary, post):\n",
        "    self.salary = salary\n",
        "    self.post = post\n",
        "\n",
        "    #invoking the __init__ of the parent class\n",
        "    Person.__init__(self, name, idnumber)\n",
        "\n",
        "  def details(self):\n",
        "    print(\"My name is {}\".format(self.name))\n",
        "    print(\"idnumber {}\".format(self.idnumber))\n",
        "    print(\"post: {}\".format(self.post))\n",
        "\n",
        "#creation of an object variable or an instance\n",
        "a = Employees('faras',1234555,5000000,'tutor')\n",
        "\n",
        "#calling a function of the class Person using its instance\n",
        "a.display()\n",
        "a.details()"
      ],
      "metadata": {
        "colab": {
          "base_uri": "https://localhost:8080/"
        },
        "id": "p8g4d7QlOMe5",
        "outputId": "730bb33a-bbe1-4499-a0cb-91da0b460ae7"
      },
      "execution_count": null,
      "outputs": [
        {
          "output_type": "stream",
          "name": "stdout",
          "text": [
            "faras\n",
            "1234555\n",
            "My name is faras\n",
            "idnumber 1234555\n",
            "post: tutor\n"
          ]
        }
      ]
    },
    {
      "cell_type": "code",
      "source": [
        "#polimorphysm\n",
        "\n",
        "class Bird:\n",
        "\n",
        "  def intro(self):\n",
        "    print(\"ada banyak jenis burung\")\n",
        "  def flight(self):\n",
        "    print(\"sebagian besar burung bisa terbang, sebagian kecil tidak\")\n",
        "\n",
        "class Sparrow(Bird):\n",
        "  def flight(self):\n",
        "    print(\"burung kakak tua bisa terbang\")\n",
        "class Ostritch(Bird):\n",
        "  def flight(self):\n",
        "    print(\"burung unta tidak bisa terbang\")\n",
        "\n",
        "obj_bird = Bird()\n",
        "obj_sparrow = Sparrow()\n",
        "obj_Ostritch = Ostritch()\n",
        "\n",
        "obj_bird.intro()\n",
        "obj_bird.flight()\n",
        "\n",
        "obj_sparrow.intro()\n",
        "obj_sparrow.flight()\n",
        "\n",
        "obj_Ostritch.intro()\n",
        "obj_Ostritch.flight()"
      ],
      "metadata": {
        "colab": {
          "base_uri": "https://localhost:8080/"
        },
        "id": "ifPXAaCQRCdD",
        "outputId": "4d978362-7fb1-4e8e-f2d9-b0236338218e"
      },
      "execution_count": null,
      "outputs": [
        {
          "output_type": "stream",
          "name": "stdout",
          "text": [
            "ada banyak jenis burung\n",
            "sebagian besar burung bisa terbang, sebagian kecil tidak\n",
            "ada banyak jenis burung\n",
            "burung kakak tua bisa terbang\n",
            "ada banyak jenis burung\n",
            "burung unta tidak bisa terbang\n"
          ]
        }
      ]
    },
    {
      "cell_type": "code",
      "source": [
        "#Encapsulation\n",
        "\n",
        "#creating a Base Class\n",
        "class Base:\n",
        "  def __init__(self):\n",
        "    self.a = \"Indra\"\n",
        "    self.__c = \"Indra\"\n",
        "\n",
        "#creating a derived class\n",
        "class Derived(Base):\n",
        "  def __init__(self):\n",
        "\n",
        "    #calling constructor of Base Class\n",
        "\n",
        "    Base.__init__(self)\n",
        "    print(\"Calling private number of base class: \")\n",
        "    print(self.__c)\n",
        "\n",
        "#driver code\n",
        "obj1 = Base()\n",
        "print(obj1.a)\n",
        "\n",
        "#print(obj1.c)\n",
        "# Uncommenting print(obj1.c) will raise an AttributeError\n",
        "# Uncommenting obj2 = Derived() will also raise an AttributeError as\n",
        "#private number of base class\n",
        "# is called inside derived class"
      ],
      "metadata": {
        "colab": {
          "base_uri": "https://localhost:8080/"
        },
        "id": "rDHcC3_ISTep",
        "outputId": "02817d93-cae5-440a-e093-e826e99c0b52"
      },
      "execution_count": null,
      "outputs": [
        {
          "output_type": "stream",
          "name": "stdout",
          "text": [
            "Indra\n"
          ]
        }
      ]
    },
    {
      "cell_type": "markdown",
      "source": [
        "# **Pertemuan 11** Intro to Pandas"
      ],
      "metadata": {
        "id": "lCvTS558gZED"
      }
    },
    {
      "cell_type": "code",
      "source": [
        "import pandas as pd\n",
        "\n",
        "mydataset = {\n",
        "    'cars' : [\"BMW\",\"Ayang\",\"Ford\"],\n",
        "    'passing' : [3,7,2]\n",
        "}\n",
        "\n",
        "myvar = pd.DataFrame(mydataset)\n",
        "\n",
        "print(myvar)"
      ],
      "metadata": {
        "colab": {
          "base_uri": "https://localhost:8080/"
        },
        "id": "GzMtQsm7gh6F",
        "outputId": "e2607464-505d-4977-e844-4b04ae018cbf"
      },
      "execution_count": null,
      "outputs": [
        {
          "output_type": "stream",
          "name": "stdout",
          "text": [
            "    cars  passing\n",
            "0    BMW        3\n",
            "1  Ayang        7\n",
            "2   Ford        2\n"
          ]
        }
      ]
    },
    {
      "cell_type": "code",
      "source": [
        "import pandas as pd\n",
        "print(pd.__version__)"
      ],
      "metadata": {
        "colab": {
          "base_uri": "https://localhost:8080/"
        },
        "id": "DuEiI46Qg5dW",
        "outputId": "46b1f50c-9a20-400e-9af3-87c0708d1e40"
      },
      "execution_count": null,
      "outputs": [
        {
          "output_type": "stream",
          "name": "stdout",
          "text": [
            "2.0.3\n"
          ]
        }
      ]
    },
    {
      "cell_type": "code",
      "source": [
        "#Pandas Series\n",
        "\n",
        "import pandas as pd\n",
        "\n",
        "a = [1,7,2]\n",
        "myvar = pd.Series(a)\n",
        "\n",
        "print(myvar)"
      ],
      "metadata": {
        "colab": {
          "base_uri": "https://localhost:8080/"
        },
        "id": "WFbjnxsUhGgF",
        "outputId": "537247f5-ab06-4d87-9b7f-857a544f4096"
      },
      "execution_count": null,
      "outputs": [
        {
          "output_type": "stream",
          "name": "stdout",
          "text": [
            "0    1\n",
            "1    7\n",
            "2    2\n",
            "dtype: int64\n"
          ]
        }
      ]
    },
    {
      "cell_type": "code",
      "source": [
        "print(myvar[0])"
      ],
      "metadata": {
        "colab": {
          "base_uri": "https://localhost:8080/"
        },
        "id": "h8XD-ImbhQlF",
        "outputId": "fa84da1c-3c1d-49b9-87d9-f03ba0e3b950"
      },
      "execution_count": null,
      "outputs": [
        {
          "output_type": "stream",
          "name": "stdout",
          "text": [
            "1\n"
          ]
        }
      ]
    },
    {
      "cell_type": "code",
      "source": [
        "import pandas as pd\n",
        "\n",
        "a = [1,2,3]\n",
        "\n",
        "myvar = pd.Series(a,index = [\"x\",\"y\",\"z\"])\n",
        "\n",
        "print(myvar)"
      ],
      "metadata": {
        "colab": {
          "base_uri": "https://localhost:8080/"
        },
        "id": "lqZFQOl6hpri",
        "outputId": "b5b9613e-7a9d-475e-e787-18fb545eb41e"
      },
      "execution_count": null,
      "outputs": [
        {
          "output_type": "stream",
          "name": "stdout",
          "text": [
            "x    1\n",
            "y    2\n",
            "z    3\n",
            "dtype: int64\n"
          ]
        }
      ]
    },
    {
      "cell_type": "code",
      "source": [
        "print(myvar[\"y\"])"
      ],
      "metadata": {
        "colab": {
          "base_uri": "https://localhost:8080/"
        },
        "id": "mI62Qo5GiY1L",
        "outputId": "5b1c7c05-c5ff-4f87-f91e-9954d4e0a715"
      },
      "execution_count": null,
      "outputs": [
        {
          "output_type": "stream",
          "name": "stdout",
          "text": [
            "2\n"
          ]
        }
      ]
    },
    {
      "cell_type": "code",
      "source": [
        "# key/value objects as series\n",
        "\n",
        "import pandas as pd\n",
        "\n",
        "calories = {\"day1\": 420, \"day2\":380, \"day3\": 390}\n",
        "\n",
        "myvar = pd.Series(calories)\n",
        "\n",
        "print(myvar)"
      ],
      "metadata": {
        "colab": {
          "base_uri": "https://localhost:8080/"
        },
        "id": "jlMozJa0icg7",
        "outputId": "d5625659-0a7e-4588-be88-6342ec9d69bb"
      },
      "execution_count": null,
      "outputs": [
        {
          "output_type": "stream",
          "name": "stdout",
          "text": [
            "day1    420\n",
            "day2    380\n",
            "day3    390\n",
            "dtype: int64\n"
          ]
        }
      ]
    },
    {
      "cell_type": "code",
      "source": [
        "print(myvar['day3'])"
      ],
      "metadata": {
        "colab": {
          "base_uri": "https://localhost:8080/"
        },
        "id": "SC47kV8Zi19W",
        "outputId": "37499c20-22a4-49c0-8597-b162ee5b9db3"
      },
      "execution_count": null,
      "outputs": [
        {
          "output_type": "stream",
          "name": "stdout",
          "text": [
            "390\n"
          ]
        }
      ]
    },
    {
      "cell_type": "code",
      "source": [
        "import pandas as pd\n",
        "\n",
        "calories = {\"day1\": 420, \"day2\":380, \"day3\": 390}\n",
        "\n",
        "myvar = pd.Series(calories,index =[\"day1\",\"day2\"])\n",
        "print(myvar)"
      ],
      "metadata": {
        "colab": {
          "base_uri": "https://localhost:8080/"
        },
        "id": "KVmuxwwGi6Td",
        "outputId": "80b7b456-d4bb-4440-8a2b-2007771399c0"
      },
      "execution_count": null,
      "outputs": [
        {
          "output_type": "stream",
          "name": "stdout",
          "text": [
            "day1    420\n",
            "day2    380\n",
            "dtype: int64\n"
          ]
        }
      ]
    },
    {
      "cell_type": "code",
      "source": [
        "#data frame\n",
        "\n",
        "data = {\n",
        "  \"calories\": [420, 381, 390],\n",
        "  \"duration\": [50,40,45]\n",
        "}\n",
        "\n",
        "myvar = pd.DataFrame(data)\n",
        "df = pd.DataFrame(data)\n",
        "\n",
        "print(myvar)\n",
        "print(df)"
      ],
      "metadata": {
        "colab": {
          "base_uri": "https://localhost:8080/"
        },
        "id": "w9hs_u0djG_e",
        "outputId": "bb3311a4-ff39-48cc-ccd7-9fda29954a7d"
      },
      "execution_count": null,
      "outputs": [
        {
          "output_type": "stream",
          "name": "stdout",
          "text": [
            "   calories  duration\n",
            "0       420        50\n",
            "1       381        40\n",
            "2       390        45\n",
            "   calories  duration\n",
            "0       420        50\n",
            "1       381        40\n",
            "2       390        45\n"
          ]
        }
      ]
    },
    {
      "cell_type": "code",
      "source": [
        "#locate row\n",
        "\n",
        "#rever to the row index:\n",
        "\n",
        "print(df.loc[0])"
      ],
      "metadata": {
        "colab": {
          "base_uri": "https://localhost:8080/"
        },
        "id": "e2XOon4tje7S",
        "outputId": "bfd322fa-35aa-4cc0-f11a-3af4c362d0bc"
      },
      "execution_count": null,
      "outputs": [
        {
          "output_type": "stream",
          "name": "stdout",
          "text": [
            "calories    420\n",
            "duration     50\n",
            "Name: 0, dtype: int64\n"
          ]
        }
      ]
    },
    {
      "cell_type": "code",
      "source": [
        "#use a list of indexes\n",
        "\n",
        "print(df.loc[[0, 1]])"
      ],
      "metadata": {
        "colab": {
          "base_uri": "https://localhost:8080/"
        },
        "id": "_0wTse3ej9Yr",
        "outputId": "ca9469ce-3d06-492a-f729-c5d95faa0c54"
      },
      "execution_count": null,
      "outputs": [
        {
          "output_type": "stream",
          "name": "stdout",
          "text": [
            "   calories  duration\n",
            "0       420        50\n",
            "1       381        40\n"
          ]
        }
      ]
    },
    {
      "cell_type": "code",
      "source": [
        "# named index\n",
        "\n",
        "import pandas as pd\n",
        "data = {\n",
        "  \"calories\": [420, 381, 390],\n",
        "  \"duration\": [50,40,45]\n",
        "}\n",
        "\n",
        "df = pd.DataFrame(data, index = [\"day1\",\"day2\",\"day3\"])\n",
        "\n",
        "print(df)"
      ],
      "metadata": {
        "colab": {
          "base_uri": "https://localhost:8080/"
        },
        "id": "Yrn8lyQJkTwq",
        "outputId": "753c3cb1-03b5-4850-83ae-9da11f054941"
      },
      "execution_count": null,
      "outputs": [
        {
          "output_type": "stream",
          "name": "stdout",
          "text": [
            "      calories  duration\n",
            "day1       420        50\n",
            "day2       381        40\n",
            "day3       390        45\n"
          ]
        }
      ]
    },
    {
      "cell_type": "code",
      "source": [
        "#locate named indexes\n",
        "\n",
        "#refer to the named index:\n",
        "\n",
        "print(df.loc[\"day2\"])"
      ],
      "metadata": {
        "colab": {
          "base_uri": "https://localhost:8080/"
        },
        "id": "SWuaVrKAkj0p",
        "outputId": "143d8e83-f751-47f6-deae-d33e1133695d"
      },
      "execution_count": null,
      "outputs": [
        {
          "output_type": "stream",
          "name": "stdout",
          "text": [
            "calories    381\n",
            "duration     40\n",
            "Name: day2, dtype: int64\n"
          ]
        }
      ]
    },
    {
      "cell_type": "code",
      "source": [
        "# load files to dataframe\n",
        "import pandas as pd\n",
        "\n",
        "df = pd.read_csv('data.csv')\n",
        "\n",
        "print(df.to_string())"
      ],
      "metadata": {
        "colab": {
          "base_uri": "https://localhost:8080/"
        },
        "id": "EGiz2X3nlC31",
        "outputId": "aa8583e0-1796-4d9a-a044-24ade973ba72"
      },
      "execution_count": null,
      "outputs": [
        {
          "output_type": "stream",
          "name": "stdout",
          "text": [
            "     Age  Gender     Marital Status      Occupation   Monthly Income Educational Qualifications  Family size  latitude  longitude  Pin code Output   Feedback Unnamed: 12\n",
            "0     20  Female             Single         Student        No Income              Post Graduate            4   12.9766    77.5993    560001    Yes   Positive         Yes\n",
            "1     24  Female             Single         Student   Below Rs.10000                   Graduate            3   12.9770    77.5773    560009    Yes   Positive         Yes\n",
            "2     22    Male             Single         Student   Below Rs.10000              Post Graduate            3   12.9551    77.6593    560017    Yes  Negative          Yes\n",
            "3     22  Female             Single         Student        No Income                   Graduate            6   12.9473    77.5616    560019    Yes   Positive         Yes\n",
            "4     22    Male             Single         Student   Below Rs.10000              Post Graduate            4   12.9850    77.5533    560010    Yes   Positive         Yes\n",
            "5     27  Female            Married        Employee  More than 50000              Post Graduate            2   12.9299    77.6848    560103    Yes   Positive         Yes\n",
            "6     22    Male             Single         Student        No Income                   Graduate            3   12.9770    77.5773    560009    Yes   Positive         Yes\n",
            "7     24  Female             Single         Student        No Income              Post Graduate            3   12.9828    77.6131    560042    Yes   Positive         Yes\n",
            "8     23  Female             Single         Student        No Income              Post Graduate            2   12.9766    77.5993    560001    Yes   Positive         Yes\n",
            "9     23  Female             Single         Student        No Income              Post Graduate            4   12.9854    77.7081    560048    Yes   Positive         Yes\n",
            "10    22  Female             Single         Student        No Income              Post Graduate            5   12.9850    77.5533    560010    Yes   Positive         Yes\n",
            "11    23    Male             Single         Student   Below Rs.10000              Post Graduate            2   12.9770    77.5773    560009    Yes  Negative          Yes\n",
            "12    23    Male             Single         Student        No Income              Post Graduate            5   12.8988    77.5764    560078    Yes   Positive         Yes\n",
            "13    21    Male             Single         Student        No Income                   Graduate            4   12.9770    77.5773    560009    Yes   Positive         Yes\n",
            "14    23  Female             Single  Self Employeed   10001 to 25000              Post Graduate            5   12.9438    77.5738    560004    Yes   Positive         Yes\n",
            "15    24  Female             Single         Student        No Income              Post Graduate            6   12.8893    77.6399    560068    Yes   Positive         Yes\n",
            "16    28  Female             Single        Employee   25001 to 50000              Post Graduate            2   12.9783    77.6408    560038    Yes   Positive         Yes\n",
            "17    23  Female             Single         Student        No Income                   Graduate            3   12.9820    77.6256    560008    Yes  Negative          Yes\n",
            "18    25    Male             Single         Student        No Income                   Graduate            4   12.8988    77.5764    560078    Yes  Negative          Yes\n",
            "19    21  Female             Single         Student   Below Rs.10000              Post Graduate            1   12.9783    77.6408    560038    Yes   Positive         Yes\n",
            "20    24    Male             Single         Student        No Income              Post Graduate            3   12.9770    77.5773    560009    Yes   Positive         Yes\n",
            "21    22    Male             Single         Student        No Income              Post Graduate            4   13.0298    77.6047    560032    Yes   Positive         Yes\n",
            "22    22  Female             Single         Student        No Income                   Graduate            4   12.9983    77.6409    560033    Yes   Positive         Yes\n",
            "23    23    Male             Single         Student        No Income                   Graduate            4   12.9925    77.5633    560021    Yes   Positive         Yes\n",
            "24    21    Male             Single         Student   Below Rs.10000              Post Graduate            3   12.9306    77.5434    560085    Yes   Positive         Yes\n",
            "25    25    Male             Single         Student        No Income              Post Graduate            3   12.9820    77.6256    560008    Yes   Positive         Yes\n",
            "26    22  Female             Single         Student        No Income              Post Graduate            5   12.9353    77.5585    560050    Yes   Positive         Yes\n",
            "27    22    Male             Single         Student        No Income              Post Graduate            3   12.9155    77.5135    560098    Yes   Positive         Yes\n",
            "28    23  Female             Single        Employee   10001 to 25000                   Graduate            3   12.9854    77.7081    560048    Yes   Positive         Yes\n",
            "29    22    Male             Single         Student   Below Rs.10000              Post Graduate            4   13.0019    77.5713    560003    Yes   Positive         Yes\n",
            "30    22  Female             Single        Employee   10001 to 25000                   Graduate            5   12.9698    77.7500    560066    Yes   Positive         Yes\n",
            "31    22    Male             Single         Student        No Income              Post Graduate            4   12.9783    77.6408    560038    Yes   Positive         Yes\n",
            "32    25    Male            Married        Employee  More than 50000                       Ph.D            4   12.9261    77.6221    560034    Yes   Positive         Yes\n",
            "33    22  Female             Single         Student   10001 to 25000              Post Graduate            5   12.9850    77.5533    560010    Yes   Positive         Yes\n",
            "34    22  Female             Single         Student        No Income              Post Graduate            2   12.9119    77.6446    560102    Yes   Positive         Yes\n",
            "35    25    Male             Single         Student   10001 to 25000              Post Graduate            3   12.9306    77.5434    560085    Yes   Positive         Yes\n",
            "36    25    Male             Single         Student        No Income              Post Graduate            5   12.9770    77.5773    560009     No   Positive          No\n",
            "37    32  Female  Prefer not to say      House wife        No Income                   Graduate            5   12.9820    77.6256    560008    Yes  Negative          Yes\n",
            "38    23  Female             Single         Student        No Income              Post Graduate            3   12.9438    77.5738    560004    Yes   Positive         Yes\n",
            "39    23  Female             Single         Student        No Income              Post Graduate            4   12.8988    77.5764    560078    Yes   Positive         Yes\n",
            "40    30    Male            Married  Self Employeed  More than 50000                 Uneducated            4   12.9662    77.6068    560025    Yes  Negative          Yes\n",
            "41    23    Male             Single         Student        No Income                   Graduate            3   12.9565    77.5484    560026    Yes   Positive         Yes\n",
            "42    23    Male             Single         Student        No Income              Post Graduate            4   12.9925    77.5633    560021    Yes   Positive         Yes\n",
            "43    22  Female             Single         Student        No Income              Post Graduate            5   12.9850    77.5533    560010    Yes   Positive         Yes\n",
            "44    22    Male             Single         Student        No Income                   Graduate            5   12.9850    77.5533    560010    Yes   Positive         Yes\n",
            "45    27  Female            Married  Self Employeed   10001 to 25000              Post Graduate            2   12.9261    77.6221    560034    Yes   Positive         Yes\n",
            "46    24  Female             Single         Student        No Income              Post Graduate            3   12.9770    77.5773    560009    Yes   Positive         Yes\n",
            "47    23    Male             Single         Student        No Income              Post Graduate            2   12.9770    77.5773    560009    Yes   Positive         Yes\n",
            "48    23  Female             Single         Student        No Income                   Graduate            3   12.9820    77.6256    560008    Yes  Negative          Yes\n",
            "49    22  Female             Single         Student   10001 to 25000              Post Graduate            5   12.9850    77.5533    560010    Yes   Positive         Yes\n",
            "50    23  Female             Single         Student        No Income                   Graduate            5   13.0206    77.6479    560043    Yes   Positive         Yes\n",
            "51    23  Female             Single         Student        No Income              Post Graduate            2   12.9770    77.5773    560009    Yes   Positive         Yes\n",
            "52    24    Male             Single         Student        No Income              Post Graduate            3   12.9770    77.5773    560009    Yes   Positive         Yes\n",
            "53    25    Male             Single         Student        No Income              Post Graduate            2   12.9635    77.5821    560002    Yes   Positive         Yes\n",
            "54    22    Male             Single         Student        No Income              Post Graduate            3   12.9306    77.5434    560085    Yes   Positive         Yes\n",
            "55    28  Female            Married         Student        No Income                   Graduate            2   13.0067    77.5450    560086    Yes   Positive         Yes\n",
            "56    22  Female             Single         Student        No Income              Post Graduate            1   12.8845    77.6036    560076    Yes   Positive         Yes\n",
            "57    24  Female             Single         Student        No Income                   Graduate            3   12.9770    77.5773    560009    Yes   Positive         Yes\n",
            "58    31    Male            Married        Employee  More than 50000                       Ph.D            5   12.9119    77.6446    560102    Yes   Positive         Yes\n",
            "59    25    Male             Single         Student        No Income              Post Graduate            4   13.0067    77.5450    560086    Yes   Positive         Yes\n",
            "60    23    Male             Single         Student        No Income              Post Graduate            5   12.8988    77.5764    560078    Yes   Positive         Yes\n",
            "61    22    Male             Single         Student        No Income              Post Graduate            3   12.8845    77.6036    560076    Yes   Positive         Yes\n",
            "62    23    Male             Single         Student   25001 to 50000              Post Graduate            1   13.0158    77.5390    560096    Yes   Positive         Yes\n",
            "63    23    Male             Single         Student        No Income                   Graduate            4   12.9343    77.6044    560029    Yes   Positive         Yes\n",
            "64    23  Female             Single         Student        No Income              Post Graduate            2   13.0019    77.5713    560003    Yes   Positive         Yes\n",
            "65    25    Male             Single         Student        No Income              Post Graduate            6   13.0012    77.5995    560046    Yes   Positive         Yes\n",
            "66    24    Male             Single        Employee   10001 to 25000                   Graduate            4   12.9442    77.6076    560030    Yes   Positive         Yes\n",
            "67    23  Female             Single         Student        No Income              Post Graduate            4   13.0487    77.5923    560024    Yes   Positive         Yes\n",
            "68    23  Female             Single         Student        No Income              Post Graduate            4   13.0487    77.5923    560024    Yes   Positive         Yes\n",
            "69    24  Female            Married        Employee  More than 50000                       Ph.D            4   12.9438    77.5738    560004    Yes   Positive         Yes\n",
            "70    22    Male             Single         Student        No Income                   Graduate            4   12.9889    77.5741    560020    Yes   Positive         Yes\n",
            "71    24  Female             Single         Student   10001 to 25000              Post Graduate            3   12.9335    77.5691    560028     No   Positive          No\n",
            "72    25  Female             Single         Student        No Income              Post Graduate            3   12.9766    77.5993    560001    Yes   Positive         Yes\n",
            "73    23    Male             Single         Student        No Income              Post Graduate            2   12.8845    77.6036    560076    Yes   Positive         Yes\n",
            "74    26    Male             Single         Student        No Income              Post Graduate            4   13.0019    77.5713    560003    Yes   Positive         Yes\n",
            "75    24  Female             Single         Student   25001 to 50000              Post Graduate            3   13.1020    77.5864    560064    Yes   Positive         Yes\n",
            "76    26    Male             Single         Student        No Income              Post Graduate            4   12.9048    77.6821    560036    Yes   Positive         Yes\n",
            "77    21    Male             Single         Student        No Income                   Graduate            4   12.9770    77.5773    560009    Yes   Positive         Yes\n",
            "78    22  Female             Single         Student        No Income              Post Graduate            3   12.9770    77.5773    560009    Yes   Positive         Yes\n",
            "79    24    Male             Single         Student        No Income              Post Graduate            5   12.9337    77.5900    560011    Yes   Positive         Yes\n",
            "80    24    Male             Single         Student   10001 to 25000              Post Graduate            4   12.9037    77.5376    560061    Yes   Positive         Yes\n",
            "81    23  Female             Single         Student        No Income              Post Graduate            3   12.9770    77.5773    560009    Yes   Positive         Yes\n",
            "82    23    Male             Single         Student        No Income              Post Graduate            3   12.9343    77.6044    560029    Yes   Positive         Yes\n",
            "83    22    Male             Single         Student        No Income              Post Graduate            3   12.9438    77.5738    560004    Yes   Positive         Yes\n",
            "84    23    Male             Single         Student        No Income              Post Graduate            3   12.9770    77.5773    560009    Yes   Positive         Yes\n",
            "85    24  Female             Single         Student        No Income              Post Graduate            4   12.9783    77.6408    560038    Yes   Positive         Yes\n",
            "86    24    Male             Single         Student        No Income              Post Graduate            5   12.9337    77.5900    560011    Yes   Positive         Yes\n",
            "87    25    Male             Single         Student        No Income                   Graduate            1   12.9770    77.5773    560009    Yes   Positive         Yes\n",
            "88    25    Male             Single         Student        No Income              Post Graduate            5   12.9770    77.5773    560009     No   Positive          No\n",
            "89    28    Male            Married  Self Employeed   10001 to 25000                   Graduate            2   13.0289    77.5400    560022     No  Negative           No\n",
            "90    27  Female  Prefer not to say        Employee   25001 to 50000              Post Graduate            5   13.0289    77.5400    560022     No   Positive          No\n",
            "91    26    Male             Single  Self Employeed   10001 to 25000                       Ph.D            1   12.9698    77.7500    560066     No   Positive          No\n",
            "92    22    Male             Single         Student        No Income              Post Graduate            2   12.9770    77.5773    560009    Yes   Positive         Yes\n",
            "93    24  Female             Single         Student        No Income              Post Graduate            3   12.9770    77.5773    560009    Yes   Positive         Yes\n",
            "94    23    Male             Single         Student        No Income              Post Graduate            1   12.9561    77.5921    560027    Yes   Positive         Yes\n",
            "95    25    Male             Single         Student        No Income                   Graduate            1   12.9770    77.5773    560009    Yes   Positive         Yes\n",
            "96    23  Female             Single         Student        No Income                   Graduate            5   13.0206    77.6479    560043    Yes   Positive         Yes\n",
            "97    23  Female             Single         Student        No Income                   Graduate            5   13.0206    77.6479    560043    Yes   Positive         Yes\n",
            "98    26    Male            Married        Employee   25001 to 50000                   Graduate            5   12.9579    77.6309    560007     No   Positive          No\n",
            "99    32  Female            Married      House wife        No Income                 Uneducated            3   13.0140    77.5658    560012     No   Positive          No\n",
            "100   24  Female             Single         Student   10001 to 25000              Post Graduate            3   12.9335    77.5691    560028     No   Positive          No\n",
            "101   23    Male             Single         Student        No Income              Post Graduate            2   12.9442    77.6076    560030    Yes   Positive         Yes\n",
            "102   22  Female             Single        Employee   10001 to 25000                   Graduate            3   12.9698    77.7500    560066    Yes   Positive         Yes\n",
            "103   24  Female             Single         Student        No Income                       Ph.D            3   12.9438    77.5738    560004    Yes   Positive         Yes\n",
            "104   26    Male             Single        Employee   25001 to 50000                   Graduate            2   12.9261    77.6221    560034    Yes  Negative          Yes\n",
            "105   28    Male            Married        Employee  More than 50000                   Graduate            3   12.9698    77.7500    560066     No   Positive          No\n",
            "106   26    Male             Single        Employee  More than 50000              Post Graduate            2   12.9698    77.7500    560066     No   Positive          No\n",
            "107   25    Male             Single         Student        No Income              Post Graduate            1   12.9343    77.6044    560029    Yes   Positive         Yes\n",
            "108   25    Male             Single        Employee   Below Rs.10000                   Graduate            2   12.9698    77.7500    560066     No   Positive          No\n",
            "109   18    Male             Single         Student        No Income                   Graduate            5   12.9635    77.5821    560002    Yes   Positive         Yes\n",
            "110   21    Male             Single         Student        No Income              Post Graduate            4   12.9770    77.5773    560009    Yes   Positive         Yes\n",
            "111   25    Male             Single         Student        No Income              Post Graduate            1   12.9343    77.6044    560029    Yes   Positive         Yes\n",
            "112   25    Male             Single         Student   Below Rs.10000              Post Graduate            2   12.9925    77.5633    560021    Yes   Positive         Yes\n",
            "113   23  Female             Single         Student        No Income                   Graduate            5   13.0206    77.6479    560043    Yes   Positive         Yes\n",
            "114   23    Male             Single        Employee   10001 to 25000              Post Graduate            2   12.9850    77.5533    560010    Yes   Positive         Yes\n",
            "115   25  Female            Married        Employee   25001 to 50000                   Graduate            4   12.9551    77.6593    560017     No  Negative           No\n",
            "116   31  Female            Married      House wife        No Income                     School            5   13.0289    77.5400    560022    Yes   Positive         Yes\n",
            "117   24    Male  Prefer not to say  Self Employeed  More than 50000                       Ph.D            2   13.0138    77.5877    560006     No   Positive          No\n",
            "118   32  Female            Married        Employee   25001 to 50000                   Graduate            5   12.9261    77.6221    560034    Yes   Positive         Yes\n",
            "119   25    Male             Single        Employee   25001 to 50000                   Graduate            3   12.9766    77.5993    560001    Yes   Positive         Yes\n",
            "120   27  Female            Married  Self Employeed  More than 50000                   Graduate            5   12.9766    77.5993    560001     No   Positive          No\n",
            "121   26    Male             Single  Self Employeed   25001 to 50000                   Graduate            3   12.9766    77.5993    560001    Yes   Positive         Yes\n",
            "122   26  Female             Single  Self Employeed   25001 to 50000              Post Graduate            3   12.9635    77.5821    560002    Yes   Positive         Yes\n",
            "123   32    Male            Married        Employee  More than 50000                       Ph.D            5   12.9635    77.5821    560002    Yes  Negative          Yes\n",
            "124   24    Male            Married  Self Employeed  More than 50000                       Ph.D            6   12.9635    77.5821    560002     No  Negative           No\n",
            "125   27  Female            Married  Self Employeed   25001 to 50000                   Graduate            3   12.9635    77.5821    560002    Yes   Positive         Yes\n",
            "126   23    Male             Single         Student        No Income              Post Graduate            3   12.9770    77.5773    560009    Yes   Positive         Yes\n",
            "127   25    Male             Single         Student        No Income              Post Graduate            4   12.9770    77.5773    560009    Yes   Positive         Yes\n",
            "128   23    Male             Single         Student        No Income              Post Graduate            3   12.9770    77.5773    560009    Yes   Positive         Yes\n",
            "129   23  Female             Single         Student        No Income              Post Graduate            4   13.0487    77.5923    560024    Yes   Positive         Yes\n",
            "130   28    Male            Married        Employee  More than 50000              Post Graduate            3   13.0019    77.5713    560003    Yes   Positive         Yes\n",
            "131   32  Female            Married        Employee  More than 50000                   Graduate            1   13.0019    77.5713    560003     No   Positive          No\n",
            "132   23    Male             Single         Student        No Income              Post Graduate            2   13.0019    77.5713    560003    Yes   Positive         Yes\n",
            "133   19    Male             Single         Student        No Income                   Graduate            2   13.0019    77.5713    560003     No  Negative           No\n",
            "134   19  Female             Single         Student        No Income                   Graduate            4   12.9537    77.6176    560047    Yes   Positive         Yes\n",
            "135   27  Female            Married        Employee   25001 to 50000              Post Graduate            2   12.9698    77.7500    560066     No   Positive          No\n",
            "136   25    Male             Single  Self Employeed   25001 to 50000                   Graduate            3   12.9980    77.6227    560005    Yes   Positive         Yes\n",
            "137   33    Male            Married        Employee  More than 50000                       Ph.D            5   12.9980    77.6227    560005     No  Negative           No\n",
            "138   26  Female             Single        Employee  More than 50000                   Graduate            3   12.9980    77.6227    560005    Yes   Positive         Yes\n",
            "139   22  Female             Single         Student   Below Rs.10000              Post Graduate            4   12.9343    77.6044    560029    Yes   Positive         Yes\n",
            "140   23    Male             Single         Student        No Income              Post Graduate            3   13.1020    77.5864    560064     No   Positive          No\n",
            "141   22  Female             Single         Student        No Income                   Graduate            3   13.0158    77.5390    560096    Yes  Negative          Yes\n",
            "142   25    Male            Married        Employee   25001 to 50000                   Graduate            2   12.9980    77.6227    560005    Yes   Positive         Yes\n",
            "143   30  Female            Married      House wife        No Income                     School            5   12.9980    77.6227    560005    Yes   Positive         Yes\n",
            "144   24    Male             Single         Student        No Income              Post Graduate            3   13.0138    77.5877    560006     No  Negative           No\n",
            "145   25    Male             Single        Employee   10001 to 25000              Post Graduate            3   13.0138    77.5877    560006    Yes   Positive         Yes\n",
            "146   23    Male             Single         Student  More than 50000              Post Graduate            3   12.9770    77.5773    560009    Yes   Positive         Yes\n",
            "147   24  Female             Single         Student        No Income              Post Graduate            4   13.0496    77.4941    560073    Yes   Positive         Yes\n",
            "148   32    Male            Married        Employee   10001 to 25000                   Graduate            4   12.9783    77.6408    560038    Yes   Positive         Yes\n",
            "149   22    Male             Single         Student        No Income              Post Graduate            4   12.9889    77.5741    560020    Yes   Positive         Yes\n",
            "150   23    Male             Single         Student  More than 50000              Post Graduate            3   12.9770    77.5773    560009    Yes   Positive         Yes\n",
            "151   23  Female             Single         Student        No Income              Post Graduate            4   13.0487    77.5923    560024    Yes   Positive         Yes\n",
            "152   20    Male             Single         Student        No Income                   Graduate            2   12.9579    77.6309    560007    Yes   Positive         Yes\n",
            "153   21    Male             Single         Student        No Income                   Graduate            2   12.9579    77.6309    560007    Yes   Positive         Yes\n",
            "154   24  Female            Married  Self Employeed   10001 to 25000                   Graduate            5   12.9579    77.6309    560007    Yes   Positive         Yes\n",
            "155   23  Female             Single         Student        No Income              Post Graduate            4   13.0487    77.5923    560024    Yes   Positive         Yes\n",
            "156   25    Male             Single        Employee   25001 to 50000              Post Graduate            3   12.9850    77.5533    560010    Yes   Positive         Yes\n",
            "157   32  Female            Married      House wife        No Income                   Graduate            3   12.9850    77.5533    560010    Yes   Positive         Yes\n",
            "158   27    Male            Married        Employee  More than 50000                       Ph.D            5   12.9850    77.5533    560010     No  Negative           No\n",
            "159   20  Female             Single         Student        No Income                   Graduate            2   12.9337    77.5900    560011    Yes   Positive         Yes\n",
            "160   21    Male             Single         Student        No Income                   Graduate            2   12.9337    77.5900    560011    Yes   Positive         Yes\n",
            "161   26    Male             Single        Employee  More than 50000              Post Graduate            3   12.9337    77.5900    560011     No  Negative           No\n",
            "162   25    Male             Single        Employee   10001 to 25000                   Graduate            4   13.0166    77.6804    560016    Yes   Positive         Yes\n",
            "163   26    Male             Single        Employee   25001 to 50000              Post Graduate            3   13.0140    77.5658    560012    Yes   Positive         Yes\n",
            "164   26  Female            Married        Employee   25001 to 50000                   Graduate            3   13.0140    77.5658    560012    Yes   Positive         Yes\n",
            "165   27    Male             Single        Employee  More than 50000                       Ph.D            4   13.0503    77.5529    560013     No   Positive          No\n",
            "166   27  Female             Single         Student        No Income                       Ph.D            5   13.0503    77.5529    560013     No  Negative           No\n",
            "167   24  Female             Single         Student        No Income              Post Graduate            5   12.9883    77.5987    560051    Yes   Positive         Yes\n",
            "168   25    Male            Married  Self Employeed  More than 50000                     School            2   13.0626    77.5284    560015    Yes   Positive         Yes\n",
            "169   20    Male             Single         Student        No Income                   Graduate            2   13.0626    77.5284    560015     No  Negative           No\n",
            "170   22    Male             Single         Student        No Income              Post Graduate            1   13.0626    77.5284    560015    Yes   Positive         Yes\n",
            "171   26  Female            Married         Student   Below Rs.10000                       Ph.D            3   13.0166    77.6804    560016    Yes   Positive         Yes\n",
            "172   27    Male  Prefer not to say        Employee   25001 to 50000              Post Graduate            1   13.0166    77.6804    560016    Yes   Positive         Yes\n",
            "173   25  Female             Single         Student        No Income              Post Graduate            3   12.9551    77.6593    560017    Yes   Positive         Yes\n",
            "174   24    Male             Single        Employee   Below Rs.10000                   Graduate            2   12.9551    77.6593    560017    Yes   Positive         Yes\n",
            "175   23  Female             Single        Employee   10001 to 25000                   Graduate            6   12.9551    77.6593    560017    Yes   Positive         Yes\n",
            "176   22    Male             Single         Student        No Income                   Graduate            2   12.9570    77.5637    560018     No   Positive          No\n",
            "177   26    Male            Married  Self Employeed  More than 50000              Post Graduate            3   12.9570    77.5637    560018     No  Negative           No\n",
            "178   26    Male             Single        Employee   Below Rs.10000              Post Graduate            1   12.9570    77.5637    560018    Yes  Negative          Yes\n",
            "179   25  Female            Married  Self Employeed   25001 to 50000              Post Graduate            3   12.9570    77.5637    560018     No   Positive          No\n",
            "180   29  Female            Married        Employee  More than 50000                   Graduate            3   12.9570    77.5637    560018     No   Positive          No\n",
            "181   23    Male             Single         Student   Below Rs.10000                   Graduate            3   12.8652    77.5240    560109    Yes  Negative          Yes\n",
            "182   22  Female             Single        Employee   25001 to 50000                   Graduate            4   12.9698    77.7500    560066    Yes   Positive         Yes\n",
            "183   22    Male             Single         Student        No Income                   Graduate            2   12.9889    77.5741    560020     No   Positive          No\n",
            "184   32  Female            Married      House wife        No Income                     School            5   12.9889    77.5741    560020    Yes   Positive         Yes\n",
            "185   28    Male            Married        Employee  More than 50000              Post Graduate            1   12.9925    77.5633    560021    Yes   Positive         Yes\n",
            "186   22    Male             Single         Student        No Income              Post Graduate            2   12.9770    77.5773    560009    Yes   Positive         Yes\n",
            "187   25    Male             Single        Employee   10001 to 25000                   Graduate            2   12.9757    77.5586    560023    Yes   Positive         Yes\n",
            "188   26  Female            Married        Employee   25001 to 50000              Post Graduate            2   12.9757    77.5586    560023     No  Negative           No\n",
            "189   31    Male            Married  Self Employeed  More than 50000                     School            6   13.0487    77.5923    560024    Yes   Positive         Yes\n",
            "190   24    Male             Single         Student        No Income              Post Graduate            3   13.0487    77.5923    560024     No  Negative           No\n",
            "191   24    Male             Single        Employee   25001 to 50000              Post Graduate            2   12.9662    77.6068    560025    Yes   Positive         Yes\n",
            "192   31  Female            Married        Employee  More than 50000                       Ph.D            5   12.9662    77.6068    560025    Yes   Positive         Yes\n",
            "193   26    Male             Single        Employee   25001 to 50000                   Graduate            2   12.9343    77.6044    560029    Yes   Positive         Yes\n",
            "194   24  Female            Married  Self Employeed  More than 50000                   Graduate            2   12.9343    77.6044    560029    Yes   Positive         Yes\n",
            "195   22  Female             Single         Student        No Income                   Graduate            3   12.9343    77.6044    560029    Yes   Positive         Yes\n",
            "196   19    Male             Single         Student        No Income                   Graduate            6   12.9442    77.6076    560030    Yes   Positive         Yes\n",
            "197   25    Male            Married        Employee  More than 50000              Post Graduate            6   12.9442    77.6076    560030    Yes   Positive         Yes\n",
            "198   23  Female            Married      House wife        No Income                     School            6   12.9442    77.6076    560030    Yes   Positive         Yes\n",
            "199   23  Female             Single         Student        No Income                   Graduate            2   13.0298    77.6047    560032     No  Negative           No\n",
            "200   23    Male             Single         Student        No Income              Post Graduate            2   12.9261    77.6221    560034    Yes   Positive         Yes\n",
            "201   24    Male             Single         Student        No Income              Post Graduate            5   12.9621    77.5376    560104    Yes   Positive         Yes\n",
            "202   22  Female             Single        Employee   25001 to 50000                   Graduate            4   12.8845    77.6036    560076    Yes   Positive         Yes\n",
            "203   26    Male            Married        Employee  More than 50000                   Graduate            4   12.9048    77.6821    560036    Yes   Positive         Yes\n",
            "204   25  Female             Single         Student        No Income                       Ph.D            3   12.9048    77.6821    560036    Yes   Positive         Yes\n",
            "205   20    Male             Single         Student        No Income                   Graduate            2   12.9261    77.6221    560034    Yes   Positive         Yes\n",
            "206   29    Male            Married        Employee   25001 to 50000                   Graduate            4   12.9261    77.6221    560034     No  Negative           No\n",
            "207   23  Female             Single         Student        No Income                   Graduate            1   12.9770    77.5773    560009    Yes   Positive         Yes\n",
            "208   25    Male             Single  Self Employeed  More than 50000                   Graduate            2   12.9783    77.6408    560038    Yes   Positive         Yes\n",
            "209   29  Female            Married        Employee   25001 to 50000                   Graduate            4   12.9783    77.6408    560038     No  Negative           No\n",
            "210   27    Male            Married  Self Employeed   25001 to 50000                   Graduate            6   12.9217    77.5936    560041     No  Negative           No\n",
            "211   25    Male             Single  Self Employeed   10001 to 25000                   Graduate            3   13.0206    77.6479    560043    Yes   Positive         Yes\n",
            "212   21    Male             Single         Student        No Income                   Graduate            2   13.0012    77.5995    560046     No  Negative           No\n",
            "213   23    Male             Single         Student        No Income                   Graduate            3   13.0223    77.7132    560049    Yes   Positive         Yes\n",
            "214   24  Female             Single        Employee   10001 to 25000              Post Graduate            4   12.9337    77.5900    560011    Yes   Positive         Yes\n",
            "215   32    Male            Married  Self Employeed   10001 to 25000                     School            3   12.9820    77.6256    560008    Yes  Negative          Yes\n",
            "216   28    Male            Married        Employee   25001 to 50000              Post Graduate            5   13.0262    77.6200    560045    Yes   Positive         Yes\n",
            "217   26    Male             Single        Employee   10001 to 25000                   Graduate            2   12.9217    77.5936    560041     No  Negative           No\n",
            "218   31  Female            Married      House wife        No Income                   Graduate            5   13.0078    77.5577    560055    Yes   Positive         Yes\n",
            "219   27  Female            Married  Self Employeed   25001 to 50000                   Graduate            3   13.0078    77.5577    560055    Yes   Positive         Yes\n",
            "220   21  Female             Single         Student        No Income              Post Graduate            1   12.9217    77.5936    560041    Yes   Positive         Yes\n",
            "221   23  Female             Single         Student        No Income                   Graduate            2   12.9105    77.4842    560060     No   Positive          No\n",
            "222   26    Male            Married        Employee   10001 to 25000                   Graduate            4   12.9105    77.4842    560060     No   Positive          No\n",
            "223   32    Male            Married        Employee  More than 50000                   Graduate            5   12.9037    77.5376    560061    Yes   Positive         Yes\n",
            "224   25  Female            Married         Student        No Income              Post Graduate            2   12.8834    77.5486    560062    Yes   Positive         Yes\n",
            "225   28    Male             Single  Self Employeed   10001 to 25000              Post Graduate            2   12.9149    77.5635    560070    Yes   Positive         Yes\n",
            "226   21  Female             Single         Student        No Income              Post Graduate            3   12.9149    77.5635    560070    Yes   Positive         Yes\n",
            "227   24    Male             Single         Student        No Income              Post Graduate            2   12.9706    77.6529    560075    Yes   Positive         Yes\n",
            "228   26  Female            Married  Self Employeed   10001 to 25000                   Graduate            5   12.9706    77.6529    560075     No  Negative           No\n",
            "229   32    Male            Married        Employee   25001 to 50000                   Graduate            3   12.9706    77.6529    560075    Yes   Positive         Yes\n",
            "230   29    Male             Single  Self Employeed  More than 50000                   Graduate            6   12.8845    77.6036    560076    Yes   Positive         Yes\n",
            "231   21    Male             Single         Student        No Income                   Graduate            5   12.9783    77.6408    560038    Yes   Positive         Yes\n",
            "232   24  Female             Single  Self Employeed   25001 to 50000              Post Graduate            3   13.0103    77.5796    560080     No  Negative           No\n",
            "233   26    Male  Prefer not to say  Self Employeed  More than 50000              Post Graduate            2   13.0103    77.5796    560080    Yes   Positive         Yes\n",
            "234   25    Male            Married        Employee  More than 50000                       Ph.D            3   12.9306    77.5434    560085    Yes   Positive         Yes\n",
            "235   29    Male             Single        Employee   25001 to 50000                   Graduate            3   13.0641    77.5931    560092     No  Negative           No\n",
            "236   22    Male             Single         Student        No Income                   Graduate            3   13.0158    77.5390    560096    Yes   Positive         Yes\n",
            "237   24    Male             Single         Student        No Income                   Graduate            2   12.9561    77.5921    560027    Yes   Positive         Yes\n",
            "238   27    Male            Married        Employee   25001 to 50000                   Graduate            2   12.8845    77.6036    560076    Yes   Positive         Yes\n",
            "239   23  Female             Single         Student        No Income              Post Graduate            3   12.9369    77.6407    560095     No   Positive          No\n",
            "240   32    Male            Married        Employee  More than 50000              Post Graduate            6   12.9369    77.6407    560095    Yes   Positive         Yes\n",
            "241   22  Female             Single         Student        No Income                   Graduate            2   12.9369    77.6407    560095    Yes   Positive         Yes\n",
            "242   28    Male            Married        Employee   25001 to 50000                   Graduate            3   12.9369    77.6407    560095    Yes   Positive         Yes\n",
            "243   23  Female             Single         Student        No Income              Post Graduate            2   13.0158    77.5390    560096    Yes   Positive         Yes\n",
            "244   30    Male            Married  Self Employeed  More than 50000                   Graduate            1   13.0809    77.5565    560097     No  Negative           No\n",
            "245   21    Male             Single         Student        No Income                   Graduate            3   13.0641    77.5931    560092    Yes   Positive         Yes\n",
            "246   26  Female            Married        Employee   Below Rs.10000                   Graduate            6   12.9859    77.6713    560093     No  Negative           No\n",
            "247   25    Male             Single  Self Employeed  More than 50000                     School            3   12.9859    77.6713    560093    Yes   Positive         Yes\n",
            "248   31    Male  Prefer not to say        Employee   Below Rs.10000                   Graduate            1   12.9866    77.4904    560091     No  Negative           No\n",
            "249   23  Female             Single        Employee   25001 to 50000              Post Graduate            2   12.9847    77.5491    560100    Yes   Positive         Yes\n",
            "250   29  Female            Married        Employee   25001 to 50000                       Ph.D            3   12.9847    77.5491    560100    Yes   Positive         Yes\n",
            "251   21    Male             Single         Student        No Income                   Graduate            6   12.9847    77.5491    560100    Yes   Positive         Yes\n",
            "252   20    Male             Single         Student        No Income                   Graduate            3   12.9299    77.6848    560103    Yes   Positive         Yes\n",
            "253   22    Male             Single        Employee   10001 to 25000                   Graduate            2   12.9299    77.6848    560103    Yes   Positive         Yes\n",
            "254   30  Female            Married      House wife        No Income                     School            6   12.9828    77.6131    560042     No   Positive          No\n",
            "255   27    Male            Married  Self Employeed  More than 50000                   Graduate            3   12.9890    77.5332    560079    Yes   Positive         Yes\n",
            "256   23    Male             Single         Student        No Income              Post Graduate            2   12.9770    77.5773    560009     No  Negative           No\n",
            "257   30    Male            Married  Self Employeed   25001 to 50000                     School            6   12.9251    77.4992    560059     No  Negative           No\n",
            "258   23    Male             Single         Student        No Income              Post Graduate            3   12.9967    77.7582    560067    Yes   Positive         Yes\n",
            "259   28  Female            Married        Employee   25001 to 50000              Post Graduate            6   12.9967    77.7582    560067     No  Negative           No\n",
            "260   30    Male            Married  Self Employeed  More than 50000                   Graduate            6   12.9967    77.7582    560067    Yes   Positive         Yes\n",
            "261   24  Female            Married        Employee   25001 to 50000              Post Graduate            2   12.9570    77.5637    560018    Yes  Negative          Yes\n",
            "262   21    Male             Single         Student        No Income                   Graduate            2   12.9570    77.5637    560018     No  Negative           No\n",
            "263   23  Female  Prefer not to say        Employee   10001 to 25000                   Graduate            3   12.9889    77.5741    560020     No  Negative           No\n",
            "264   25    Male            Married  Self Employeed  More than 50000              Post Graduate            4   13.0206    77.6479    560043    Yes   Positive         Yes\n",
            "265   24  Female             Single        Employee   25001 to 50000                   Graduate            2   12.8893    77.6399    560068    Yes   Positive         Yes\n",
            "266   26    Male            Married        Employee   10001 to 25000                   Graduate            3   12.8893    77.6399    560068     No  Negative           No\n",
            "267   25  Female             Single        Employee   25001 to 50000              Post Graduate            2   12.9967    77.7582    560067    Yes   Positive         Yes\n",
            "268   22    Male             Single         Student   25001 to 50000                   Graduate            3   12.9783    77.6408    560038    Yes   Positive         Yes\n",
            "269   26  Female             Single        Employee   25001 to 50000              Post Graduate            2   12.9783    77.6408    560038    Yes   Positive         Yes\n",
            "270   23    Male             Single        Employee   10001 to 25000                   Graduate            2   12.9925    77.5633    560021    Yes   Positive         Yes\n",
            "271   21  Female             Single        Employee   Below Rs.10000                   Graduate            2   12.9925    77.5633    560021     No  Negative           No\n",
            "272   25    Male            Married  Self Employeed   25001 to 50000                   Graduate            3   12.9561    77.5921    560027    Yes   Positive         Yes\n",
            "273   24  Female            Married        Employee   10001 to 25000              Post Graduate            2   12.9561    77.5921    560027    Yes   Positive         Yes\n",
            "274   22    Male            Married         Student        No Income                   Graduate            2   13.0734    77.5464    560014    Yes   Positive         Yes\n",
            "275   23  Female             Single         Student        No Income              Post Graduate            4   13.0487    77.5923    560024    Yes   Positive         Yes\n",
            "276   24    Male            Married        Employee  More than 50000              Post Graduate            3   12.9515    77.4921    560056    Yes   Positive         Yes\n",
            "277   22  Female             Single         Student        No Income                   Graduate            2   12.9515    77.4921    560056    Yes   Positive         Yes\n",
            "278   30    Male            Married        Employee  More than 50000                   Graduate            5   12.9719    77.5128    560072     No  Negative           No\n",
            "279   23  Female  Prefer not to say        Employee   10001 to 25000                   Graduate            4   12.9048    77.6821    560036    Yes   Positive         Yes\n",
            "280   19    Male             Single         Student        No Income                   Graduate            6   12.9048    77.6821    560036    Yes   Positive         Yes\n",
            "281   21  Female             Single         Student        No Income                   Graduate            2   13.0103    77.5796    560080    Yes   Positive         Yes\n",
            "282   23    Male             Single         Student        No Income                   Graduate            4   13.0103    77.5796    560080    Yes   Positive         Yes\n",
            "283   24  Female             Single        Employee   25001 to 50000                   Graduate            3   12.8893    77.6399    560068    Yes   Positive         Yes\n",
            "284   26  Female            Married        Employee   10001 to 25000              Post Graduate            2   12.9828    77.6131    560042     No   Positive          No\n",
            "285   26  Female             Single         Student        No Income                       Ph.D            2   12.9757    77.5586    560023    Yes   Positive         Yes\n",
            "286   25  Female             Single         Student   10001 to 25000                   Graduate            2   12.9757    77.5586    560023    Yes   Positive         Yes\n",
            "287   28  Female            Married        Employee   25001 to 50000                   Graduate            5   12.9757    77.5586    560023     No  Negative           No\n",
            "288   25  Female             Single         Student        No Income              Post Graduate            3   13.0734    77.5464    560014    Yes   Positive         Yes\n",
            "289   20  Female             Single         Student        No Income                   Graduate            2   13.0734    77.5464    560014    Yes   Positive         Yes\n",
            "290   27  Female            Married  Self Employeed  More than 50000                   Graduate            6   13.0734    77.5464    560014     No   Positive          No\n",
            "291   25  Female            Married        Employee   25001 to 50000                   Graduate            3   13.0626    77.5284    560015     No   Positive          No\n",
            "292   24  Female             Single         Student        No Income              Post Graduate            5   13.0626    77.5284    560015     No  Negative           No\n",
            "293   25  Female            Married        Employee  More than 50000                   Graduate            1   12.9770    77.5773    560009     No  Negative           No\n",
            "294   25  Female  Prefer not to say        Employee   25001 to 50000              Post Graduate            3   12.9980    77.6227    560005     No  Negative           No\n",
            "295   24  Female            Married         Student   Below Rs.10000                       Ph.D            5   13.0626    77.5284    560015    Yes   Positive         Yes\n",
            "296   24    Male             Single         Student        No Income              Post Graduate            3   13.0626    77.5284    560015    Yes   Positive         Yes\n",
            "297   22    Male             Single        Employee   10001 to 25000                   Graduate            1   13.0138    77.5877    560006    Yes   Positive         Yes\n",
            "298   28    Male             Single        Employee   25001 to 50000              Post Graduate            2   13.0138    77.5877    560006     No  Negative           No\n",
            "299   25  Female             Single        Employee  More than 50000              Post Graduate            6   13.0140    77.5658    560012     No  Negative           No\n",
            "300   22    Male             Single         Student   Below Rs.10000              Post Graduate            3   12.9551    77.6593    560017    Yes  Negative          Yes\n",
            "301   22  Female             Single         Student        No Income                   Graduate            6   12.9473    77.5616    560019    Yes   Positive         Yes\n",
            "302   22    Male             Single         Student   Below Rs.10000              Post Graduate            4   12.9850    77.5533    560010    Yes   Positive         Yes\n",
            "303   27  Female            Married        Employee  More than 50000              Post Graduate            2   12.9299    77.6848    560103    Yes   Positive         Yes\n",
            "304   22    Male             Single         Student        No Income                   Graduate            3   12.9770    77.5773    560009    Yes   Positive         Yes\n",
            "305   24  Female             Single         Student        No Income              Post Graduate            3   12.9828    77.6131    560042    Yes   Positive         Yes\n",
            "306   23  Female             Single         Student        No Income              Post Graduate            2   12.9766    77.5993    560001    Yes   Positive         Yes\n",
            "307   23  Female             Single         Student        No Income              Post Graduate            4   12.9854    77.7081    560048    Yes   Positive         Yes\n",
            "308   22  Female             Single         Student        No Income              Post Graduate            5   12.9850    77.5533    560010    Yes   Positive         Yes\n",
            "309   23    Male             Single         Student   Below Rs.10000              Post Graduate            2   12.9770    77.5773    560009    Yes  Negative          Yes\n",
            "310   32    Male            Married        Employee  More than 50000                   Graduate            5   12.9037    77.5376    560061    Yes   Positive         Yes\n",
            "311   25  Female            Married         Student        No Income              Post Graduate            2   12.8834    77.5486    560062    Yes   Positive         Yes\n",
            "312   28    Male             Single  Self Employeed   10001 to 25000              Post Graduate            2   12.9149    77.5635    560070    Yes   Positive         Yes\n",
            "313   21  Female             Single         Student        No Income              Post Graduate            3   12.9149    77.5635    560070    Yes   Positive         Yes\n",
            "314   24    Male             Single         Student        No Income              Post Graduate            2   12.9706    77.6529    560075    Yes   Positive         Yes\n",
            "315   26  Female            Married  Self Employeed   10001 to 25000                   Graduate            5   12.9706    77.6529    560075     No  Negative           No\n",
            "316   32    Male            Married        Employee   25001 to 50000                   Graduate            3   12.9706    77.6529    560075    Yes   Positive         Yes\n",
            "317   29    Male             Single  Self Employeed  More than 50000                   Graduate            6   12.8845    77.6036    560076    Yes   Positive         Yes\n",
            "318   21    Male             Single         Student        No Income                   Graduate            5   12.9783    77.6408    560038    Yes   Positive         Yes\n",
            "319   24  Female             Single  Self Employeed   25001 to 50000              Post Graduate            3   13.0103    77.5796    560080     No  Negative           No\n",
            "320   26    Male  Prefer not to say  Self Employeed  More than 50000              Post Graduate            2   13.0103    77.5796    560080    Yes   Positive         Yes\n",
            "321   21    Male            Married        Employee  More than 50000                       Ph.D            3   12.9306    77.5434    560085    Yes   Positive         Yes\n",
            "322   29    Male             Single        Employee   25001 to 50000                   Graduate            3   13.0641    77.5931    560092     No  Negative           No\n",
            "323   22    Male             Single         Student        No Income                   Graduate            3   13.0158    77.5390    560096    Yes   Positive         Yes\n",
            "324   24    Male             Single         Student        No Income                   Graduate            2   12.9561    77.5921    560027    Yes   Positive         Yes\n",
            "325   27    Male            Married        Employee   25001 to 50000                   Graduate            2   12.8845    77.6036    560076    Yes   Positive         Yes\n",
            "326   23  Female             Single         Student        No Income              Post Graduate            3   12.9369    77.6407    560095     No   Positive          No\n",
            "327   32    Male            Married        Employee  More than 50000              Post Graduate            6   12.9369    77.6407    560095    Yes   Positive         Yes\n",
            "328   22  Female             Single         Student        No Income                   Graduate            2   12.9369    77.6407    560095    Yes   Positive         Yes\n",
            "329   22  Female             Single        Employee   25001 to 50000                   Graduate            4   12.8845    77.6036    560076    Yes   Positive         Yes\n",
            "330   26    Male            Married        Employee  More than 50000                   Graduate            4   12.9048    77.6821    560036    Yes   Positive         Yes\n",
            "331   25  Female             Single         Student        No Income                       Ph.D            3   12.9048    77.6821    560036    Yes   Positive         Yes\n",
            "332   20    Male             Single         Student        No Income                   Graduate            2   12.9261    77.6221    560034    Yes   Positive         Yes\n",
            "333   29    Male            Married        Employee   25001 to 50000                   Graduate            4   12.9261    77.6221    560034     No  Negative           No\n",
            "334   23  Female             Single         Student        No Income                   Graduate            1   12.9770    77.5773    560009    Yes   Positive         Yes\n",
            "335   25    Male             Single  Self Employeed  More than 50000                   Graduate            2   12.9783    77.6408    560038    Yes   Positive         Yes\n",
            "336   29  Female            Married        Employee   25001 to 50000                   Graduate            4   12.9783    77.6408    560038     No  Negative           No\n",
            "337   27    Male            Married  Self Employeed   25001 to 50000                   Graduate            6   12.9217    77.5936    560041     No   Positive          No\n",
            "338   25    Male             Single  Self Employeed   10001 to 25000                   Graduate            3   13.0206    77.6479    560043    Yes   Positive         Yes\n",
            "339   21    Male             Single         Student        No Income                   Graduate            2   13.0012    77.5995    560046     No  Negative           No\n",
            "340   23    Male             Single         Student        No Income                   Graduate            3   13.0223    77.7132    560049    Yes   Positive         Yes\n",
            "341   24  Female             Single        Employee   10001 to 25000              Post Graduate            4   12.9337    77.5900    560011    Yes   Positive         Yes\n",
            "342   22    Male            Married  Self Employeed   10001 to 25000                     School            3   12.9820    77.6256    560008    Yes  Negative          Yes\n",
            "343   28    Male            Married        Employee   25001 to 50000              Post Graduate            5   13.0262    77.6200    560045    Yes   Positive         Yes\n",
            "344   26    Male             Single        Employee   10001 to 25000                   Graduate            2   12.9217    77.5936    560041     No  Negative           No\n",
            "345   22  Female             Single        Employee   25001 to 50000                   Graduate            4   12.8845    77.6036    560076    Yes   Positive         Yes\n",
            "346   26    Male            Married        Employee  More than 50000                   Graduate            4   12.9048    77.6821    560036    Yes   Positive         Yes\n",
            "347   25  Female             Single         Student        No Income                       Ph.D            3   12.9048    77.6821    560036    Yes   Positive         Yes\n",
            "348   20    Male             Single         Student        No Income                   Graduate            2   12.9261    77.6221    560034    Yes   Positive         Yes\n",
            "349   29    Male            Married        Employee   25001 to 50000                   Graduate            4   12.9261    77.6221    560034     No  Negative           No\n",
            "350   23  Female             Single         Student        No Income                   Graduate            1   12.9770    77.5773    560009    Yes   Positive         Yes\n",
            "351   25    Male             Single  Self Employeed  More than 50000                   Graduate            2   12.9783    77.6408    560038    Yes   Positive         Yes\n",
            "352   29  Female            Married        Employee   25001 to 50000                   Graduate            4   12.9783    77.6408    560038     No   Positive          No\n",
            "353   27    Male            Married  Self Employeed   25001 to 50000                   Graduate            6   12.9217    77.5936    560041     No   Positive          No\n",
            "354   25    Male             Single  Self Employeed   10001 to 25000                   Graduate            3   13.0206    77.6479    560043    Yes   Positive         Yes\n",
            "355   21    Male             Single         Student        No Income                   Graduate            2   13.0012    77.5995    560046     No   Positive          No\n",
            "356   24    Male             Single         Student        No Income              Post Graduate            2   12.9706    77.6529    560075    Yes   Positive         Yes\n",
            "357   26  Female            Married  Self Employeed   10001 to 25000                   Graduate            5   12.9706    77.6529    560075     No  Negative           No\n",
            "358   32    Male            Married        Employee   25001 to 50000                   Graduate            3   12.9706    77.6529    560075    Yes   Positive         Yes\n",
            "359   29    Male             Single  Self Employeed  More than 50000                   Graduate            6   12.8845    77.6036    560076    Yes   Positive         Yes\n",
            "360   21    Male             Single         Student        No Income                   Graduate            5   12.9783    77.6408    560038    Yes   Positive         Yes\n",
            "361   24  Female             Single  Self Employeed   25001 to 50000              Post Graduate            3   13.0103    77.5796    560080     No  Negative           No\n",
            "362   26    Male  Prefer not to say  Self Employeed  More than 50000              Post Graduate            2   13.0103    77.5796    560080    Yes   Positive         Yes\n",
            "363   31    Male            Married        Employee  More than 50000                       Ph.D            3   12.9306    77.5434    560085    Yes   Positive         Yes\n",
            "364   29    Male             Single        Employee   25001 to 50000                   Graduate            3   13.0641    77.5931    560092     No  Negative           No\n",
            "365   22    Male             Single         Student        No Income                   Graduate            3   13.0158    77.5390    560096    Yes   Positive         Yes\n",
            "366   24    Male             Single         Student        No Income                   Graduate            2   12.9561    77.5921    560027    Yes   Positive         Yes\n",
            "367   27    Male            Married        Employee   25001 to 50000                   Graduate            2   12.8845    77.6036    560076    Yes   Positive         Yes\n",
            "368   23  Female             Single         Student        No Income              Post Graduate            3   12.9369    77.6407    560095     No   Positive          No\n",
            "369   30    Male            Married        Employee  More than 50000              Post Graduate            6   12.9369    77.6407    560095    Yes   Positive         Yes\n",
            "370   22  Female             Single         Student        No Income                   Graduate            2   12.9369    77.6407    560095    Yes   Positive         Yes\n",
            "371   28    Male            Married        Employee   25001 to 50000                   Graduate            3   12.9369    77.6407    560095    Yes   Positive         Yes\n",
            "372   23  Female             Single         Student        No Income              Post Graduate            2   13.0158    77.5390    560096    Yes   Positive         Yes\n",
            "373   30    Male            Married  Self Employeed  More than 50000                   Graduate            1   13.0809    77.5565    560097     No  Negative           No\n",
            "374   21    Male             Single         Student        No Income                   Graduate            3   13.0641    77.5931    560092    Yes  Negative          Yes\n",
            "375   26  Female            Married        Employee   Below Rs.10000                   Graduate            6   12.9859    77.6713    560093     No  Negative           No\n",
            "376   25    Male             Single  Self Employeed  More than 50000                     School            3   12.9859    77.6713    560093    Yes   Positive         Yes\n",
            "377   31    Male  Prefer not to say        Employee   Below Rs.10000                   Graduate            1   12.9866    77.4904    560091     No  Negative           No\n",
            "378   23  Female             Single        Employee   25001 to 50000              Post Graduate            2   12.9847    77.5491    560100    Yes   Positive         Yes\n",
            "379   22    Male             Single         Student   Below Rs.10000              Post Graduate            4   12.9850    77.5533    560010    Yes   Positive         Yes\n",
            "380   27  Female            Married        Employee  More than 50000              Post Graduate            2   12.9299    77.6848    560103    Yes   Positive         Yes\n",
            "381   22    Male             Single         Student        No Income                   Graduate            3   12.9770    77.5773    560009    Yes   Positive         Yes\n",
            "382   24  Female             Single         Student        No Income              Post Graduate            3   12.9828    77.6131    560042    Yes   Positive         Yes\n",
            "383   23  Female             Single         Student        No Income              Post Graduate            2   12.9766    77.5993    560001    Yes   Positive         Yes\n",
            "384   23  Female             Single         Student        No Income              Post Graduate            4   12.9854    77.7081    560048    Yes   Positive         Yes\n",
            "385   22  Female             Single         Student        No Income              Post Graduate            5   12.9850    77.5533    560010    Yes   Positive         Yes\n",
            "386   23    Male             Single         Student   Below Rs.10000              Post Graduate            2   12.9770    77.5773    560009    Yes   Positive         Yes\n",
            "387   23    Male             Single         Student        No Income              Post Graduate            5   12.8988    77.5764    560078    Yes   Positive         Yes\n"
          ]
        }
      ]
    },
    {
      "cell_type": "code",
      "source": [
        "print(df)"
      ],
      "metadata": {
        "colab": {
          "base_uri": "https://localhost:8080/"
        },
        "id": "CViFQLJVowhZ",
        "outputId": "03e8d40c-4fee-43d4-a317-b9bbfede4dc6"
      },
      "execution_count": null,
      "outputs": [
        {
          "output_type": "stream",
          "name": "stdout",
          "text": [
            "     Age  Gender Marital Status Occupation  Monthly Income  \\\n",
            "0     20  Female         Single    Student       No Income   \n",
            "1     24  Female         Single    Student  Below Rs.10000   \n",
            "2     22    Male         Single    Student  Below Rs.10000   \n",
            "3     22  Female         Single    Student       No Income   \n",
            "4     22    Male         Single    Student  Below Rs.10000   \n",
            "..   ...     ...            ...        ...             ...   \n",
            "383   23  Female         Single    Student       No Income   \n",
            "384   23  Female         Single    Student       No Income   \n",
            "385   22  Female         Single    Student       No Income   \n",
            "386   23    Male         Single    Student  Below Rs.10000   \n",
            "387   23    Male         Single    Student       No Income   \n",
            "\n",
            "    Educational Qualifications  Family size  latitude  longitude  Pin code  \\\n",
            "0                Post Graduate            4   12.9766    77.5993    560001   \n",
            "1                     Graduate            3   12.9770    77.5773    560009   \n",
            "2                Post Graduate            3   12.9551    77.6593    560017   \n",
            "3                     Graduate            6   12.9473    77.5616    560019   \n",
            "4                Post Graduate            4   12.9850    77.5533    560010   \n",
            "..                         ...          ...       ...        ...       ...   \n",
            "383              Post Graduate            2   12.9766    77.5993    560001   \n",
            "384              Post Graduate            4   12.9854    77.7081    560048   \n",
            "385              Post Graduate            5   12.9850    77.5533    560010   \n",
            "386              Post Graduate            2   12.9770    77.5773    560009   \n",
            "387              Post Graduate            5   12.8988    77.5764    560078   \n",
            "\n",
            "    Output   Feedback Unnamed: 12  \n",
            "0      Yes   Positive         Yes  \n",
            "1      Yes   Positive         Yes  \n",
            "2      Yes  Negative          Yes  \n",
            "3      Yes   Positive         Yes  \n",
            "4      Yes   Positive         Yes  \n",
            "..     ...        ...         ...  \n",
            "383    Yes   Positive         Yes  \n",
            "384    Yes   Positive         Yes  \n",
            "385    Yes   Positive         Yes  \n",
            "386    Yes   Positive         Yes  \n",
            "387    Yes   Positive         Yes  \n",
            "\n",
            "[388 rows x 13 columns]\n"
          ]
        }
      ]
    },
    {
      "cell_type": "code",
      "source": [
        "pd.options.display.max_rows = 100"
      ],
      "metadata": {
        "id": "RDSEnNGco0B8"
      },
      "execution_count": null,
      "outputs": []
    },
    {
      "cell_type": "code",
      "source": [
        "print(df)"
      ],
      "metadata": {
        "colab": {
          "base_uri": "https://localhost:8080/"
        },
        "id": "SHfO8KNPo7iz",
        "outputId": "747e1b79-d92d-4453-e4b2-8e09d0cc664b"
      },
      "execution_count": null,
      "outputs": [
        {
          "output_type": "stream",
          "name": "stdout",
          "text": [
            "     Age  Gender Marital Status Occupation  Monthly Income  \\\n",
            "0     20  Female         Single    Student       No Income   \n",
            "1     24  Female         Single    Student  Below Rs.10000   \n",
            "2     22    Male         Single    Student  Below Rs.10000   \n",
            "3     22  Female         Single    Student       No Income   \n",
            "4     22    Male         Single    Student  Below Rs.10000   \n",
            "..   ...     ...            ...        ...             ...   \n",
            "383   23  Female         Single    Student       No Income   \n",
            "384   23  Female         Single    Student       No Income   \n",
            "385   22  Female         Single    Student       No Income   \n",
            "386   23    Male         Single    Student  Below Rs.10000   \n",
            "387   23    Male         Single    Student       No Income   \n",
            "\n",
            "    Educational Qualifications  Family size  latitude  longitude  Pin code  \\\n",
            "0                Post Graduate            4   12.9766    77.5993    560001   \n",
            "1                     Graduate            3   12.9770    77.5773    560009   \n",
            "2                Post Graduate            3   12.9551    77.6593    560017   \n",
            "3                     Graduate            6   12.9473    77.5616    560019   \n",
            "4                Post Graduate            4   12.9850    77.5533    560010   \n",
            "..                         ...          ...       ...        ...       ...   \n",
            "383              Post Graduate            2   12.9766    77.5993    560001   \n",
            "384              Post Graduate            4   12.9854    77.7081    560048   \n",
            "385              Post Graduate            5   12.9850    77.5533    560010   \n",
            "386              Post Graduate            2   12.9770    77.5773    560009   \n",
            "387              Post Graduate            5   12.8988    77.5764    560078   \n",
            "\n",
            "    Output   Feedback Unnamed: 12  \n",
            "0      Yes   Positive         Yes  \n",
            "1      Yes   Positive         Yes  \n",
            "2      Yes  Negative          Yes  \n",
            "3      Yes   Positive         Yes  \n",
            "4      Yes   Positive         Yes  \n",
            "..     ...        ...         ...  \n",
            "383    Yes   Positive         Yes  \n",
            "384    Yes   Positive         Yes  \n",
            "385    Yes   Positive         Yes  \n",
            "386    Yes   Positive         Yes  \n",
            "387    Yes   Positive         Yes  \n",
            "\n",
            "[388 rows x 13 columns]\n"
          ]
        }
      ]
    },
    {
      "cell_type": "code",
      "source": [
        "#analyze Dataframe\n",
        "\n",
        "print(df.head(10))"
      ],
      "metadata": {
        "colab": {
          "base_uri": "https://localhost:8080/"
        },
        "id": "toDWiFx7pE6r",
        "outputId": "2382e81c-e467-4aa6-8fe2-71a5515011ff"
      },
      "execution_count": null,
      "outputs": [
        {
          "output_type": "stream",
          "name": "stdout",
          "text": [
            "   Age  Gender Marital Status Occupation   Monthly Income  \\\n",
            "0   20  Female         Single    Student        No Income   \n",
            "1   24  Female         Single    Student   Below Rs.10000   \n",
            "2   22    Male         Single    Student   Below Rs.10000   \n",
            "3   22  Female         Single    Student        No Income   \n",
            "4   22    Male         Single    Student   Below Rs.10000   \n",
            "5   27  Female        Married   Employee  More than 50000   \n",
            "6   22    Male         Single    Student        No Income   \n",
            "7   24  Female         Single    Student        No Income   \n",
            "8   23  Female         Single    Student        No Income   \n",
            "9   23  Female         Single    Student        No Income   \n",
            "\n",
            "  Educational Qualifications  Family size  latitude  longitude  Pin code  \\\n",
            "0              Post Graduate            4   12.9766    77.5993    560001   \n",
            "1                   Graduate            3   12.9770    77.5773    560009   \n",
            "2              Post Graduate            3   12.9551    77.6593    560017   \n",
            "3                   Graduate            6   12.9473    77.5616    560019   \n",
            "4              Post Graduate            4   12.9850    77.5533    560010   \n",
            "5              Post Graduate            2   12.9299    77.6848    560103   \n",
            "6                   Graduate            3   12.9770    77.5773    560009   \n",
            "7              Post Graduate            3   12.9828    77.6131    560042   \n",
            "8              Post Graduate            2   12.9766    77.5993    560001   \n",
            "9              Post Graduate            4   12.9854    77.7081    560048   \n",
            "\n",
            "  Output   Feedback Unnamed: 12  \n",
            "0    Yes   Positive         Yes  \n",
            "1    Yes   Positive         Yes  \n",
            "2    Yes  Negative          Yes  \n",
            "3    Yes   Positive         Yes  \n",
            "4    Yes   Positive         Yes  \n",
            "5    Yes   Positive         Yes  \n",
            "6    Yes   Positive         Yes  \n",
            "7    Yes   Positive         Yes  \n",
            "8    Yes   Positive         Yes  \n",
            "9    Yes   Positive         Yes  \n"
          ]
        }
      ]
    },
    {
      "cell_type": "code",
      "source": [
        "print(df.tail())"
      ],
      "metadata": {
        "colab": {
          "base_uri": "https://localhost:8080/"
        },
        "id": "U2-fSM2rpXjr",
        "outputId": "ad8eedb0-7017-4604-993a-0c0b5cbaa205"
      },
      "execution_count": null,
      "outputs": [
        {
          "output_type": "stream",
          "name": "stdout",
          "text": [
            "     Age  Gender Marital Status Occupation  Monthly Income  \\\n",
            "383   23  Female         Single    Student       No Income   \n",
            "384   23  Female         Single    Student       No Income   \n",
            "385   22  Female         Single    Student       No Income   \n",
            "386   23    Male         Single    Student  Below Rs.10000   \n",
            "387   23    Male         Single    Student       No Income   \n",
            "\n",
            "    Educational Qualifications  Family size  latitude  longitude  Pin code  \\\n",
            "383              Post Graduate            2   12.9766    77.5993    560001   \n",
            "384              Post Graduate            4   12.9854    77.7081    560048   \n",
            "385              Post Graduate            5   12.9850    77.5533    560010   \n",
            "386              Post Graduate            2   12.9770    77.5773    560009   \n",
            "387              Post Graduate            5   12.8988    77.5764    560078   \n",
            "\n",
            "    Output  Feedback Unnamed: 12  \n",
            "383    Yes  Positive         Yes  \n",
            "384    Yes  Positive         Yes  \n",
            "385    Yes  Positive         Yes  \n",
            "386    Yes  Positive         Yes  \n",
            "387    Yes  Positive         Yes  \n"
          ]
        }
      ]
    },
    {
      "cell_type": "code",
      "source": [
        "print(df.info())"
      ],
      "metadata": {
        "id": "P2rKihOSpbxL",
        "outputId": "8cd87503-62b2-4a6d-e7db-9a2a210da9f8",
        "colab": {
          "base_uri": "https://localhost:8080/"
        }
      },
      "execution_count": null,
      "outputs": [
        {
          "output_type": "stream",
          "name": "stdout",
          "text": [
            "<class 'pandas.core.frame.DataFrame'>\n",
            "RangeIndex: 388 entries, 0 to 387\n",
            "Data columns (total 13 columns):\n",
            " #   Column                      Non-Null Count  Dtype  \n",
            "---  ------                      --------------  -----  \n",
            " 0   Age                         388 non-null    int64  \n",
            " 1   Gender                      388 non-null    object \n",
            " 2   Marital Status              388 non-null    object \n",
            " 3   Occupation                  388 non-null    object \n",
            " 4   Monthly Income              388 non-null    object \n",
            " 5   Educational Qualifications  388 non-null    object \n",
            " 6   Family size                 388 non-null    int64  \n",
            " 7   latitude                    388 non-null    float64\n",
            " 8   longitude                   388 non-null    float64\n",
            " 9   Pin code                    388 non-null    int64  \n",
            " 10  Output                      388 non-null    object \n",
            " 11  Feedback                    388 non-null    object \n",
            " 12  Unnamed: 12                 388 non-null    object \n",
            "dtypes: float64(2), int64(3), object(8)\n",
            "memory usage: 39.5+ KB\n",
            "None\n"
          ]
        }
      ]
    },
    {
      "cell_type": "markdown",
      "source": [
        "# **Pertemuan 12** Matplotlib"
      ],
      "metadata": {
        "id": "GlxhURPu0-ik"
      }
    },
    {
      "cell_type": "code",
      "source": [
        "#Installation\n",
        "\n",
        "!pip install matplotlib"
      ],
      "metadata": {
        "id": "vc_noVgGpeml",
        "colab": {
          "base_uri": "https://localhost:8080/"
        },
        "outputId": "201c205b-21bb-4e67-9d2d-fc24eac55dac"
      },
      "execution_count": 1,
      "outputs": [
        {
          "output_type": "stream",
          "name": "stdout",
          "text": [
            "Requirement already satisfied: matplotlib in /usr/local/lib/python3.10/dist-packages (3.7.1)\n",
            "Requirement already satisfied: contourpy>=1.0.1 in /usr/local/lib/python3.10/dist-packages (from matplotlib) (1.2.1)\n",
            "Requirement already satisfied: cycler>=0.10 in /usr/local/lib/python3.10/dist-packages (from matplotlib) (0.12.1)\n",
            "Requirement already satisfied: fonttools>=4.22.0 in /usr/local/lib/python3.10/dist-packages (from matplotlib) (4.51.0)\n",
            "Requirement already satisfied: kiwisolver>=1.0.1 in /usr/local/lib/python3.10/dist-packages (from matplotlib) (1.4.5)\n",
            "Requirement already satisfied: numpy>=1.20 in /usr/local/lib/python3.10/dist-packages (from matplotlib) (1.25.2)\n",
            "Requirement already satisfied: packaging>=20.0 in /usr/local/lib/python3.10/dist-packages (from matplotlib) (24.0)\n",
            "Requirement already satisfied: pillow>=6.2.0 in /usr/local/lib/python3.10/dist-packages (from matplotlib) (9.4.0)\n",
            "Requirement already satisfied: pyparsing>=2.3.1 in /usr/local/lib/python3.10/dist-packages (from matplotlib) (3.1.2)\n",
            "Requirement already satisfied: python-dateutil>=2.7 in /usr/local/lib/python3.10/dist-packages (from matplotlib) (2.8.2)\n",
            "Requirement already satisfied: six>=1.5 in /usr/local/lib/python3.10/dist-packages (from python-dateutil>=2.7->matplotlib) (1.16.0)\n"
          ]
        }
      ]
    },
    {
      "cell_type": "code",
      "source": [
        "#pyplot\n",
        "\n",
        "import matplotlib.pyplot as plt\n",
        "\n",
        "# initializing the data\n",
        "x = [10,20,30,40]\n",
        "y = [20,25,35,10]\n",
        "\n",
        "#plotting the data\n",
        "plt.plot(x,y)\n",
        "\n",
        "plt.show()"
      ],
      "metadata": {
        "colab": {
          "base_uri": "https://localhost:8080/",
          "height": 430
        },
        "id": "7vViqUQN1S_0",
        "outputId": "88ff75fc-0360-4c29-8f01-ec8013b94875"
      },
      "execution_count": 5,
      "outputs": [
        {
          "output_type": "display_data",
          "data": {
            "text/plain": [
              "<Figure size 640x480 with 1 Axes>"
            ],
            "image/png": "[encoded data removed]"
          },
          "metadata": {}
        }
      ]
    },
    {
      "cell_type": "code",
      "source": [
        "# menambahkan title\n",
        "\n",
        "#initializing the data\n",
        "x = [10,20,30,40]\n",
        "y = [20,25,35,55]\n",
        "\n",
        "#plotting the data\n",
        "plt.plot(x,y)\n",
        "\n",
        "#adding title to the plot\n",
        "plt.title(\"ini grafik contoh\")\n",
        "\n",
        "plt.show()"
      ],
      "metadata": {
        "colab": {
          "base_uri": "https://localhost:8080/",
          "height": 452
        },
        "id": "JHHqb4wj1p5_",
        "outputId": "4f40efcc-b6b3-4869-81e3-594b6a2ae150"
      },
      "execution_count": 6,
      "outputs": [
        {
          "output_type": "display_data",
          "data": {
            "text/plain": [
              "<Figure size 640x480 with 1 Axes>"
            ],
            "image/png": "[encoded data removed]"
          },
          "metadata": {}
        }
      ]
    },
    {
      "cell_type": "code",
      "source": [
        "#menambahkan title dengan font tertentu\n",
        "\n",
        "import matplotlib.pyplot as plt\n",
        "#initializing the data\n",
        "x = [20,30,40,50]\n",
        "y = [20,25,35,55]\n",
        "\n",
        "#plotting the data\n",
        "plt.plot(x,y)\n",
        "\n",
        "#adding title to the plot\n",
        "plt.title(\"ini contoh grafik\", fontsize =30, color=\"navy\")\n",
        "\n",
        "plt.show()"
      ],
      "metadata": {
        "colab": {
          "base_uri": "https://localhost:8080/",
          "height": 472
        },
        "id": "5nT8QvKM2nQ_",
        "outputId": "ee1691ac-590f-447e-9406-f8bee3accfc6"
      },
      "execution_count": 8,
      "outputs": [
        {
          "output_type": "display_data",
          "data": {
            "text/plain": [
              "<Figure size 640x480 with 1 Axes>"
            ],
            "image/png": "[encoded data removed]"
          },
          "metadata": {}
        }
      ]
    },
    {
      "cell_type": "code",
      "source": [
        "# menambahkan keterangan sumbu di dalam grafik\n",
        "\n",
        "import matplotlib.pyplot as plt\n",
        "\n",
        "# initializing the data\n",
        "x = [10,20,30,40]\n",
        "y = [25,35,45,65]\n",
        "\n",
        "#plotting the data\n",
        "plt.plot(x,y)\n",
        "\n",
        "#adding title to the plot\n",
        "plt.title(\"ini contoh grafik\", fontsize=30 , color='navy')\n",
        "\n",
        "#adding label on x and y axis\n",
        "plt.ylabel(\"sumbu Y\")\n",
        "plt.xlabel(\"sumbu X\")\n",
        "\n",
        "plt.show()"
      ],
      "metadata": {
        "colab": {
          "base_uri": "https://localhost:8080/",
          "height": 491
        },
        "id": "nsEPhYh43ByA",
        "outputId": "acc6d894-4424-4d1c-e839-1d1e20054457"
      },
      "execution_count": 9,
      "outputs": [
        {
          "output_type": "display_data",
          "data": {
            "text/plain": [
              "<Figure size 640x480 with 1 Axes>"
            ],
            "image/png": "[encoded data removed]"
          },
          "metadata": {}
        }
      ]
    }
  ]
}