{
  "nbformat": 4,
  "nbformat_minor": 0,
  "metadata": {
    "colab": {
      "provenance": []
    },
    "kernelspec": {
      "name": "python3",
      "display_name": "Python 3"
    },
    "language_info": {
      "name": "python"
    }
  },
  "cells": [
    {
      "cell_type": "markdown",
      "source": [
        "# **Pertemuan 1** List, Dictionary, Tuple, Set, perulangan dan if else"
      ],
      "metadata": {
        "id": "g6JTu6pA4RDp"
      }
    },
    {
      "cell_type": "code",
      "execution_count": null,
      "metadata": {
        "colab": {
          "base_uri": "https://localhost:8080/"
        },
        "id": "dwUA887q2y8A",
        "outputId": "f0fe5938-c1eb-467e-b4e4-819a8f522421"
      },
      "outputs": [
        {
          "output_type": "stream",
          "name": "stdout",
          "text": [
            "[]\n",
            "[1, 2, 3, 'contoh', 3.14]\n"
          ]
        }
      ],
      "source": [
        "# List\n",
        "\n",
        "my_list = [] #membuat list kosong\n",
        "print(my_list)\n",
        "my_list = [1, 2, 3, 'contoh', 3.14] #memasukan data kedalam list\n",
        "print(my_list)"
      ]
    },
    {
      "cell_type": "code",
      "source": [
        "# Dictionary\n",
        "my_dict = {'first': 'Python', 'second': 'Java'} #membuat dictionary kosong\n",
        "print(my_dict)\n",
        "my_dict['second'] = 'C++' #mengubah elemen di dalam dictionary\n",
        "print(my_dict)\n",
        "my_dict ['third'] = 'Ruby' #menambah elemen di dalam dictionary\n",
        "print(my_dict)"
      ],
      "metadata": {
        "colab": {
          "base_uri": "https://localhost:8080/"
        },
        "id": "qzxfQYGK3XZy",
        "outputId": "a52af53b-7e73-4038-9b09-b595a0cfea04"
      },
      "execution_count": null,
      "outputs": [
        {
          "output_type": "stream",
          "name": "stdout",
          "text": [
            "{'first': 'Python', 'second': 'Java'}\n",
            "{'first': 'Python', 'second': 'C++'}\n",
            "{'first': 'Python', 'second': 'C++', 'third': 'Ruby'}\n"
          ]
        }
      ]
    },
    {
      "cell_type": "code",
      "source": [
        "# Tuple\n",
        "my_tuple = (1, 2, 3, 'indra') # Membuat Tuple\n",
        "print(my_tuple)\n",
        "print(my_tuple[0])\n",
        "print(my_tuple[:])\n",
        "print(my_tuple[3][4])"
      ],
      "metadata": {
        "colab": {
          "base_uri": "https://localhost:8080/"
        },
        "id": "WdTxaYaS43qY",
        "outputId": "e5ac1d53-eef4-4d9f-ba36-e3dc469bf1cf"
      },
      "execution_count": null,
      "outputs": [
        {
          "output_type": "stream",
          "name": "stdout",
          "text": [
            "(1, 2, 3, 'indra')\n",
            "1\n",
            "(1, 2, 3, 'indra')\n",
            "a\n"
          ]
        }
      ]
    },
    {
      "cell_type": "code",
      "source": [
        "# Set\n",
        "my_set = {1,2,3,4,4,4,5} #membuat set\n",
        "print(my_set)\n",
        "my_set.add(4) #menambahkan elemen kedalam set\n",
        "print(my_set)"
      ],
      "metadata": {
        "colab": {
          "base_uri": "https://localhost:8080/"
        },
        "id": "GwfxZ7CI5b4g",
        "outputId": "776c57d9-a7d2-4a28-d893-1fe264834e83"
      },
      "execution_count": null,
      "outputs": [
        {
          "output_type": "stream",
          "name": "stdout",
          "text": [
            "{1, 2, 3, 4, 5}\n",
            "{1, 2, 3, 4, 5}\n"
          ]
        }
      ]
    },
    {
      "cell_type": "code",
      "source": [
        "my_set = {1,2,3,4}\n",
        "my_set_2 = {3,4,5,6}\n",
        "\n",
        "print(my_set.union(my_set_2), '---', my_set|my_set_2)\n",
        "print(my_set.intersection(my_set_2), '---', my_set&my_set_2)\n",
        "print(my_set.difference(my_set_2), '---', my_set-my_set_2)\n",
        "print(my_set.symmetric_difference(my_set_2), '---', my_set^my_set_2)"
      ],
      "metadata": {
        "colab": {
          "base_uri": "https://localhost:8080/"
        },
        "id": "GWegcBTm6ApJ",
        "outputId": "98e0d11e-6266-4bc4-87ff-728e01e031b3"
      },
      "execution_count": null,
      "outputs": [
        {
          "output_type": "stream",
          "name": "stdout",
          "text": [
            "{1, 2, 3, 4, 5, 6} --- {1, 2, 3, 4, 5, 6}\n",
            "{3, 4} --- {3, 4}\n",
            "{1, 2} --- {1, 2}\n",
            "{1, 2, 5, 6} --- {1, 2, 5, 6}\n"
          ]
        }
      ]
    },
    {
      "cell_type": "code",
      "source": [
        "#if Statement\n",
        "\n",
        "num = 5\n",
        "\n",
        "if(num > 0):\n",
        "  print(num, 'adalah Bilangan Positif')\n",
        "print(num, 'adalah bilangan negatif atau nol')"
      ],
      "metadata": {
        "colab": {
          "base_uri": "https://localhost:8080/"
        },
        "id": "1MuYzmQa7AEc",
        "outputId": "870cce7e-bba5-4a7c-87ed-c5d59bfebce4"
      },
      "execution_count": null,
      "outputs": [
        {
          "output_type": "stream",
          "name": "stdout",
          "text": [
            "5 adalah Bilangan Positif\n",
            "5 adalah bilangan negatif atau nol\n"
          ]
        }
      ]
    },
    {
      "cell_type": "code",
      "source": [
        "#if Else Statement\n",
        "\n",
        "num = -1\n",
        "if(num > 0):\n",
        "  print(num, 'adalah bilangan positif')\n",
        "else:\n",
        "  print(num, 'adalah bilangan negatif atau nol')"
      ],
      "metadata": {
        "colab": {
          "base_uri": "https://localhost:8080/"
        },
        "id": "-Vph_esO7hov",
        "outputId": "9357b5ac-8d3a-46bd-a519-a42104e89b98"
      },
      "execution_count": null,
      "outputs": [
        {
          "output_type": "stream",
          "name": "stdout",
          "text": [
            "-1 adalah bilangan negatif atau nol\n"
          ]
        }
      ]
    },
    {
      "cell_type": "code",
      "source": [
        "# if, Elif, else statement\n",
        "\n",
        "num = 5\n",
        "\n",
        "if(num > 0):\n",
        "  print(num , 'adalah bilangan positif')\n",
        "elif(num == 0):\n",
        "  print(num, 'adalah bilangan nol')\n",
        "else:\n",
        "  print(num, 'adalah bilangan negatif')"
      ],
      "metadata": {
        "colab": {
          "base_uri": "https://localhost:8080/"
        },
        "id": "gGSfw6Ib73HN",
        "outputId": "1e5465e3-b30a-4987-ee57-80612217d42e"
      },
      "execution_count": null,
      "outputs": [
        {
          "output_type": "stream",
          "name": "stdout",
          "text": [
            "5 adalah bilangan positif\n"
          ]
        }
      ]
    },
    {
      "cell_type": "code",
      "source": [
        "#If nested\n",
        "\n",
        "num =5\n",
        "\n",
        "if(num >= 0):\n",
        "  if(num == 0):\n",
        "    print(num, 'adalah bilangan nol')\n",
        "  else:\n",
        "    print(num, 'adalah bilangan positif')\n",
        "else:\n",
        "  print(num, 'adalah bilangan negatif')"
      ],
      "metadata": {
        "colab": {
          "base_uri": "https://localhost:8080/"
        },
        "id": "WXTxGRVE8S5k",
        "outputId": "62356724-9286-4a92-c8dd-32bcd446501d"
      },
      "execution_count": null,
      "outputs": [
        {
          "output_type": "stream",
          "name": "stdout",
          "text": [
            "5 adalah bilangan positif\n"
          ]
        }
      ]
    },
    {
      "cell_type": "code",
      "source": [
        "#while loop\n",
        "\n",
        "num = 1\n",
        "angka_ganjil = []\n",
        "\n",
        "while num:\n",
        "  if(num % 2 != 0):\n",
        "    angka_ganjil.append(num)\n",
        "  if(num >=20):\n",
        "    break\n",
        "  num += 1\n",
        "\n",
        "print('angka ganjil =', angka_ganjil)"
      ],
      "metadata": {
        "colab": {
          "base_uri": "https://localhost:8080/"
        },
        "id": "R5SWQKej84b-",
        "outputId": "b1655ab1-3a4c-490d-bae6-ae5fd860dd87"
      },
      "execution_count": null,
      "outputs": [
        {
          "output_type": "stream",
          "name": "stdout",
          "text": [
            "angka ganjil = [1, 3, 5, 7, 9, 11, 13, 15, 17, 19]\n"
          ]
        }
      ]
    },
    {
      "cell_type": "code",
      "source": [
        "#for loop\n",
        "\n",
        "list = {1,2,3,4,5}\n",
        "\n",
        "for num in list:\n",
        "  print('num')"
      ],
      "metadata": {
        "colab": {
          "base_uri": "https://localhost:8080/"
        },
        "id": "42Yw68Dk-tZH",
        "outputId": "3473d250-2fae-49be-cb6c-ca6ce820ff92"
      },
      "execution_count": null,
      "outputs": [
        {
          "output_type": "stream",
          "name": "stdout",
          "text": [
            "num\n",
            "num\n",
            "num\n",
            "num\n",
            "num\n"
          ]
        }
      ]
    },
    {
      "cell_type": "code",
      "source": [
        "#function with return\n",
        "\n",
        "def pow(a):\n",
        "  return a**2\n",
        "\n",
        "print(pow(2))\n",
        "\n",
        "power=pow(2)\n",
        "print(power)"
      ],
      "metadata": {
        "colab": {
          "base_uri": "https://localhost:8080/"
        },
        "id": "BqJLzLVK-u9r",
        "outputId": "7fad7f44-7cf7-4d04-e092-193567d4f68d"
      },
      "execution_count": null,
      "outputs": [
        {
          "output_type": "stream",
          "name": "stdout",
          "text": [
            "4\n",
            "4\n"
          ]
        }
      ]
    },
    {
      "cell_type": "code",
      "source": [
        "#function no return / Procedure\n",
        "def pow(a):\n",
        "  print(a**2)\n",
        "\n",
        "pow(2)"
      ],
      "metadata": {
        "colab": {
          "base_uri": "https://localhost:8080/"
        },
        "id": "pvDykSlcADd1",
        "outputId": "d95287d8-962d-44a0-9beb-1d71cec0c6bc"
      },
      "execution_count": null,
      "outputs": [
        {
          "output_type": "stream",
          "name": "stdout",
          "text": [
            "4\n"
          ]
        }
      ]
    },
    {
      "cell_type": "markdown",
      "source": [
        "## **Pertemuan** **2** Function Argument, Keyword Argument, Arbitrary Argument, Function Recursion, Anonymous Function, Variabel (Local, Global, Non local)"
      ],
      "metadata": {
        "id": "Tu-obDghKmnd"
      }
    },
    {
      "cell_type": "code",
      "source": [
        "#function arguments\n",
        "\n",
        "def greet (name, msg = 'apa kabar'):\n",
        "    \"\"\" fungsi ini menyapa orang dengan pesan yang di berikan\"\"\"\n",
        "    print('hello', name , ',', msg)\n",
        "\n",
        "greet(\"indra\")"
      ],
      "metadata": {
        "colab": {
          "base_uri": "https://localhost:8080/"
        },
        "id": "1bJj5QENK3OW",
        "outputId": "d13ee7a8-cb80-4c4c-d35d-29406ad54187"
      },
      "execution_count": null,
      "outputs": [
        {
          "output_type": "stream",
          "name": "stdout",
          "text": [
            "hello indra , apa kabar\n"
          ]
        }
      ]
    },
    {
      "cell_type": "code",
      "source": [
        "def greet(name,msg=\"apa kabar\"):\n",
        "  \"\"\"\n",
        "  Fungsi ini menyapa orang dengan\n",
        "  pesan yang disediakan.\n",
        "\n",
        "  jika pesan tidak diberikan,\n",
        "  defaultnya adalah \"good morning!\"\n",
        "  \"\"\"\n",
        "  print(\"hello\",name,', ', msg)\n",
        "\n",
        "greet(\"indra\",\"bagaimana keadaanmu\")\n",
        "greet(\"budi\")"
      ],
      "metadata": {
        "colab": {
          "base_uri": "https://localhost:8080/"
        },
        "id": "6gbyQeiG3azX",
        "outputId": "6f11fc96-58c8-4c3f-96cd-d65cd4c5b435"
      },
      "execution_count": null,
      "outputs": [
        {
          "output_type": "stream",
          "name": "stdout",
          "text": [
            "hello indra ,  bagaimana keadaanmu\n",
            "hello budi ,  apa kabar\n"
          ]
        }
      ]
    },
    {
      "cell_type": "code",
      "source": [
        "# Python Keyword Arguments\n",
        "\n",
        "# 2 keyword arguments\n",
        "greet(name=\"Indra\",msg=\"apa kabar denganmu?\")\n",
        "\n",
        "# 2 keyword arguments (out of order)\n",
        "greet(msg=\"halo\", name=\"budi\")\n",
        "\n",
        "# 1 positional, 1 keyword argument\n",
        "greet(\"indra\", msg=\"bagaimana kabarmu?\")"
      ],
      "metadata": {
        "colab": {
          "base_uri": "https://localhost:8080/"
        },
        "id": "Tdbjfe7G4XHl",
        "outputId": "48f38789-8114-4d83-c952-dee57e64b3d4"
      },
      "execution_count": null,
      "outputs": [
        {
          "output_type": "stream",
          "name": "stdout",
          "text": [
            "hello Indra ,  apa kabar denganmu?\n",
            "hello budi ,  halo\n",
            "hello indra ,  bagaimana kabarmu?\n"
          ]
        }
      ]
    },
    {
      "cell_type": "code",
      "source": [
        "# arbitrary argument\n",
        "def greet(*names):\n",
        "  \"\"\" fungsi ini menyapa semua\n",
        "  orang dalam nama tuple.\"\"\"\n",
        "\n",
        "  #names adalah tuple dengan argument\n",
        "  for name in names:\n",
        "    print(\"hello\",name)\n",
        "\n",
        "greet(\"A\",\"B\",\"C\",\"D\")"
      ],
      "metadata": {
        "colab": {
          "base_uri": "https://localhost:8080/"
        },
        "id": "oUeongSt5uBr",
        "outputId": "3eaa136c-f4d7-4681-bbf2-3077b8737925"
      },
      "execution_count": null,
      "outputs": [
        {
          "output_type": "stream",
          "name": "stdout",
          "text": [
            "hello A\n",
            "hello B\n",
            "hello C\n",
            "hello D\n"
          ]
        }
      ]
    },
    {
      "cell_type": "code",
      "source": [
        "#function Recursion Bilangan Faktorial\n",
        "\n",
        "def factorial(x):\n",
        "  \"\"\"fungsi ini berfungsi untuk\n",
        "  menemukan faktorial dari bilangan bulat\"\"\"\n",
        "\n",
        "  if x==1:\n",
        "    return 1\n",
        "  else:\n",
        "    return x * factorial(x-1)\n",
        "\n",
        "num = 3\n",
        "\n",
        "print(\"nilai faktorial dari \", num , \"adalah\", factorial(num))"
      ],
      "metadata": {
        "colab": {
          "base_uri": "https://localhost:8080/"
        },
        "id": "c-10pbekIDYl",
        "outputId": "54bf9d67-c2de-47cd-ac60-bdbffee5b38c"
      },
      "execution_count": null,
      "outputs": [
        {
          "output_type": "stream",
          "name": "stdout",
          "text": [
            "nilai faktorial dari  3 adalah 6\n"
          ]
        }
      ]
    },
    {
      "cell_type": "code",
      "source": [
        "# function Recursion Bilangan Fibonacci\n",
        "\n",
        "def fibonacci (n):\n",
        "  if n < 1:\n",
        "    return [n]\n",
        "\n",
        "  listSebelumN = fibonacci(n - 1)\n",
        "  angka1 = listSebelumN[-2] if len(listSebelumN) > 2 else 0\n",
        "  angka2 = listSebelumN[-1] if len(listSebelumN) > 2 else 1\n",
        "\n",
        "  return listSebelumN + [angka1 + angka2]\n",
        "\n",
        "panjang = int(input('masukan panjang deret:'))\n",
        "\n",
        "print(fibonacci(panjang-1)) #dikurangi satu agar tidak kelebihan indeksnya"
      ],
      "metadata": {
        "id": "Jm_fravpIysK",
        "colab": {
          "base_uri": "https://localhost:8080/"
        },
        "outputId": "5c5e1ce3-5345-46ca-b604-95e95f957842"
      },
      "execution_count": null,
      "outputs": [
        {
          "output_type": "stream",
          "name": "stdout",
          "text": [
            "masukan panjang deret:5\n",
            "[0, 1, 1, 2, 3]\n"
          ]
        }
      ]
    },
    {
      "cell_type": "code",
      "source": [
        "# anonymous Function untuk pangkat\n",
        "\n",
        "double = lambda x: x * 5\n",
        "\n",
        "print(double(5))"
      ],
      "metadata": {
        "colab": {
          "base_uri": "https://localhost:8080/"
        },
        "id": "jEWE1O-XYwhi",
        "outputId": "d2b80dec-be1a-44a6-e7a4-67cb3ee3f508"
      },
      "execution_count": null,
      "outputs": [
        {
          "output_type": "stream",
          "name": "stdout",
          "text": [
            "25\n"
          ]
        }
      ]
    },
    {
      "cell_type": "code",
      "source": [
        "# anonymous function untuk list genap\n",
        "\n",
        "my_list = [1,5,4,6,8,11,3,12]\n",
        "new_list = list(filter(lambda x: (x%2 ==0) , my_list))\n",
        "\n",
        "print(new_list)"
      ],
      "metadata": {
        "colab": {
          "base_uri": "https://localhost:8080/"
        },
        "id": "4a8W6x_rZMWU",
        "outputId": "ffc85295-a3d4-402d-8a4b-a7582960ec7a"
      },
      "execution_count": null,
      "outputs": [
        {
          "output_type": "stream",
          "name": "stdout",
          "text": [
            "[4, 6, 8, 12]\n"
          ]
        }
      ]
    },
    {
      "cell_type": "code",
      "source": [
        "#anonymous function untuk list ganjil\n",
        "\n",
        "my_list = [2,3,4,5,6,7,8,9,10,11,12,13]\n",
        "new_list = list(filter(lambda x: (x%2 !=0) , my_list))\n",
        "\n",
        "print(new_list)"
      ],
      "metadata": {
        "colab": {
          "base_uri": "https://localhost:8080/"
        },
        "id": "QhGv-t2wZyIq",
        "outputId": "c10fca47-02f0-4de4-b6ec-d9ed6b6c8a84"
      },
      "execution_count": null,
      "outputs": [
        {
          "output_type": "stream",
          "name": "stdout",
          "text": [
            "[3, 5, 7, 9, 11, 13]\n"
          ]
        }
      ]
    },
    {
      "cell_type": "code",
      "source": [
        "# anonymous function untuk mengalikan item di list dengan angka random\n",
        "\n",
        "my_list = [1,2,3,4,5,6,7,8,9,10,11,12,13,14,15]\n",
        "bilangan = int(input(\"masukan angka disini: \"))\n",
        "new_list = list(map(lambda x: x * bilangan , my_list))\n",
        "\n",
        "print(new_list)"
      ],
      "metadata": {
        "colab": {
          "base_uri": "https://localhost:8080/"
        },
        "id": "cpwlXarQaHJQ",
        "outputId": "ea64b866-7b3e-4630-b200-869562c5f9c3"
      },
      "execution_count": null,
      "outputs": [
        {
          "output_type": "stream",
          "name": "stdout",
          "text": [
            "masukan angka disini: 3\n",
            "[3, 6, 9, 12, 15, 18, 21, 24, 27, 30, 33, 36, 39, 42, 45]\n"
          ]
        }
      ]
    },
    {
      "cell_type": "code",
      "source": [
        "# variabel global dan variabel lokal\n",
        "\n",
        "x = \"global\"\n",
        "\n",
        "def foo():\n",
        "  print(\"x dalam: \", x)\n",
        "\n",
        "foo()\n",
        "print(\"x luar : \", x)"
      ],
      "metadata": {
        "colab": {
          "base_uri": "https://localhost:8080/"
        },
        "id": "rRPH39NaUKZH",
        "outputId": "bfe93209-5204-424c-8623-7282e361456d"
      },
      "execution_count": null,
      "outputs": [
        {
          "output_type": "stream",
          "name": "stdout",
          "text": [
            "x dalam:  global\n",
            "x luar :  global\n"
          ]
        }
      ]
    },
    {
      "cell_type": "code",
      "source": [
        "x = \"global\"\n",
        "\n",
        "def foo():\n",
        "  global x\n",
        "  x = x * 2\n",
        "  print(x)\n",
        "\n",
        "foo()"
      ],
      "metadata": {
        "colab": {
          "base_uri": "https://localhost:8080/"
        },
        "id": "srQWl4ENUo7E",
        "outputId": "f3add98c-1a8b-48f4-d21e-ff056a9e1bd6"
      },
      "execution_count": null,
      "outputs": [
        {
          "output_type": "stream",
          "name": "stdout",
          "text": [
            "globalglobal\n"
          ]
        }
      ]
    },
    {
      "cell_type": "code",
      "source": [
        "x = \"global\"\n",
        "\n",
        "def foo():\n",
        "  global x\n",
        "  y = \"local\"\n",
        "  x = x * 2\n",
        "  print(x)\n",
        "  print(y)\n",
        "\n",
        "foo()"
      ],
      "metadata": {
        "colab": {
          "base_uri": "https://localhost:8080/"
        },
        "id": "c2zF41xuU3DS",
        "outputId": "a332dde6-66aa-4040-a337-43f2d6d5dbde"
      },
      "execution_count": null,
      "outputs": [
        {
          "output_type": "stream",
          "name": "stdout",
          "text": [
            "globalglobal\n",
            "local\n"
          ]
        }
      ]
    },
    {
      "cell_type": "code",
      "source": [
        "# non local variable\n",
        "\n",
        "def outer():\n",
        "  x = \"local\"\n",
        "\n",
        "  def inner():\n",
        "    nonlocal x\n",
        "    x = \"nonlocal\"\n",
        "    print(\"inner:\", x)\n",
        "\n",
        "  inner()\n",
        "  print(\"outer: \", x)\n",
        "\n",
        "outer()"
      ],
      "metadata": {
        "colab": {
          "base_uri": "https://localhost:8080/"
        },
        "id": "Ysdx3XBMVFac",
        "outputId": "c006ef0e-a271-48b3-a96d-f6c186d37de5"
      },
      "execution_count": null,
      "outputs": [
        {
          "output_type": "stream",
          "name": "stdout",
          "text": [
            "inner: nonlocal\n",
            "outer:  nonlocal\n"
          ]
        }
      ]
    },
    {
      "cell_type": "code",
      "source": [
        "plist = [123,456,789]\n",
        "plist.append(123)\n",
        "print(plist)"
      ],
      "metadata": {
        "colab": {
          "base_uri": "https://localhost:8080/"
        },
        "id": "0Ph6aKVGVm4z",
        "outputId": "ada415ce-4834-49cb-ec9a-7f2f6d0f0339"
      },
      "execution_count": null,
      "outputs": [
        {
          "output_type": "stream",
          "name": "stdout",
          "text": [
            "[123, 456, 789]\n"
          ]
        }
      ]
    },
    {
      "cell_type": "code",
      "source": [
        "you = 2\n",
        "if you >= 5:\n",
        "  print('chill bro')\n",
        "elif you >=3:\n",
        "  print(\"Sorry\")\n",
        "else:\n",
        "  print(\"fuck me\")"
      ],
      "metadata": {
        "colab": {
          "base_uri": "https://localhost:8080/"
        },
        "id": "W1qC_y7BV3Eu",
        "outputId": "43fcd8c3-ec2c-48e5-d52e-17c88196983b"
      },
      "execution_count": null,
      "outputs": [
        {
          "output_type": "stream",
          "name": "stdout",
          "text": [
            "fuck me\n"
          ]
        }
      ]
    },
    {
      "cell_type": "markdown",
      "source": [
        "# **Pertemuan 3** Stack, Queue, Tree, Graph, Hashmaps,"
      ],
      "metadata": {
        "id": "QsCh6RhPkXj3"
      }
    },
    {
      "cell_type": "code",
      "source": [
        "# Stack\n",
        "\n",
        "stack = ['first','second','third']\n",
        "print(stack)\n",
        "\n",
        "print()\n",
        "\n",
        "#pushing elements\n",
        "stack.append('fourth')\n",
        "stack.append('fifth')\n",
        "print(stack)\n",
        "print()\n",
        "\n",
        "#printing top\n",
        "print(stack[-1]) # -1 akan mengakses indeks paling terakhir\n",
        "print()\n",
        "\n",
        "#poping element\n",
        "stack.pop()\n",
        "print(stack)\n"
      ],
      "metadata": {
        "colab": {
          "base_uri": "https://localhost:8080/"
        },
        "id": "IRhHpwv8kf5S",
        "outputId": "298112ca-6fc7-456e-90e4-bfb349616757"
      },
      "execution_count": null,
      "outputs": [
        {
          "output_type": "stream",
          "name": "stdout",
          "text": [
            "['first', 'second', 'third']\n",
            "\n",
            "['first', 'second', 'third', 'fourth', 'fifth']\n",
            "\n",
            "fifth\n",
            "\n",
            "['first', 'second', 'third', 'fourth']\n"
          ]
        }
      ]
    },
    {
      "cell_type": "code",
      "source": [
        "stack = ['satu','dua','tiga','empat']\n",
        "print(stack)\n",
        "\n",
        "stack.append('lima')\n",
        "print(stack)\n",
        "\n",
        "print(stack[-1])\n",
        "\n",
        "stack.pop()\n",
        "print(stack)\n",
        "stack.remove(stack[2])\n",
        "print(stack)"
      ],
      "metadata": {
        "colab": {
          "base_uri": "https://localhost:8080/"
        },
        "id": "EY9ToNIvlfl1",
        "outputId": "f7626029-b17b-4f82-f288-5aac184e6581"
      },
      "execution_count": null,
      "outputs": [
        {
          "output_type": "stream",
          "name": "stdout",
          "text": [
            "['satu', 'dua', 'tiga', 'empat']\n",
            "['satu', 'dua', 'tiga', 'empat', 'lima']\n",
            "lima\n",
            "['satu', 'dua', 'tiga', 'empat']\n",
            "['satu', 'dua', 'empat']\n"
          ]
        }
      ]
    },
    {
      "cell_type": "code",
      "source": [
        "# Queue\n",
        "\n",
        "queue = ['first','second','third']\n",
        "print(queue)\n",
        "\n",
        "print()\n",
        "\n",
        "# Pushing Element\n",
        "queue.append('fourth')\n",
        "queue.append('fifth')\n",
        "print(queue)\n",
        "print()\n",
        "\n",
        "# printing head\n",
        "print(queue[0])\n",
        "\n",
        "# printing tail\n",
        "n = len(queue) #len (lenght) untuk menghitung seberapa banyak jumlah data\n",
        "print(queue[-1]) #untuk mengakses indeks paling belakang, tanpa len juga bisa\n",
        "print(n)\n",
        "\n",
        "#poping element\n",
        "queue.remove(queue[0]) # mengikuti konsep queue maka yang di remove dari paling depan\n",
        "print(queue)\n",
        "queue.pop()\n",
        "print(queue)\n",
        "\n",
        "# perbedaan fungsi remove dan pop\n",
        "# kalau remove harus pakai objek dan indeks\n",
        "# kalau pop kita langsung masukin angka indeks tidak objek"
      ],
      "metadata": {
        "id": "YaijUpngnYxN",
        "colab": {
          "base_uri": "https://localhost:8080/"
        },
        "outputId": "6b0a29ef-6dc2-407a-b86a-bce37798d1eb"
      },
      "execution_count": 2,
      "outputs": [
        {
          "output_type": "stream",
          "name": "stdout",
          "text": [
            "['first', 'second', 'third']\n",
            "\n",
            "['first', 'second', 'third', 'fourth', 'fifth']\n",
            "\n",
            "first\n",
            "fifth\n",
            "5\n",
            "['second', 'third', 'fourth', 'fifth']\n",
            "['second', 'third', 'fourth']\n"
          ]
        }
      ]
    },
    {
      "cell_type": "code",
      "source": [
        "# tree\n",
        "class node:\n",
        "  def __init__(self,ele):\n",
        "    self.ele = ele\n",
        "    self.left = None\n",
        "    self.right = None\n",
        "\n",
        "def preorder(self):\n",
        "  if self:\n",
        "    print(self.ele)\n",
        "    preorder(self.left)\n",
        "    preorder(self.right)\n",
        "\n",
        "n = node('first')\n",
        "n.left = node('second')\n",
        "n.right = node('third')\n",
        "preorder(n)"
      ],
      "metadata": {
        "colab": {
          "base_uri": "https://localhost:8080/"
        },
        "id": "oKo9wc770OwG",
        "outputId": "c380e084-3ca0-402f-c1b0-6f9077ada688"
      },
      "execution_count": 3,
      "outputs": [
        {
          "output_type": "stream",
          "name": "stdout",
          "text": [
            "first\n",
            "second\n",
            "third\n"
          ]
        }
      ]
    },
    {
      "cell_type": "code",
      "source": [
        "class mahasiswa():\n",
        "  def __init__(self,masukan_nama):\n",
        "    self.nama = masukan_nama\n",
        "\n",
        "  def nilai(self, nilai): #dijalankan ketika dipanggil\n",
        "    if nilai >= 70:\n",
        "      print(self.nama, 'lulus dengan nilai :', nilai)\n",
        "    else:\n",
        "      print(self.nama, 'tidak lulus dengan nilai :', nilai)\n",
        "\n",
        "bayu = mahasiswa(\"bayu Putra\")\n",
        "print(bayu.nama) # di panggil tanpa menggunakan nama method\n",
        "bayu.nilai(90); #dipanggil dengan menggunakan nama method"
      ],
      "metadata": {
        "colab": {
          "base_uri": "https://localhost:8080/"
        },
        "id": "XnBn3k_C6ANI",
        "outputId": "585c0608-6561-47a0-93b2-3ca268981069"
      },
      "execution_count": 4,
      "outputs": [
        {
          "output_type": "stream",
          "name": "stdout",
          "text": [
            "bayu Putra\n",
            "bayu Putra lulus dengan nilai : 90\n"
          ]
        }
      ]
    },
    {
      "cell_type": "code",
      "source": [
        "class orang():\n",
        "  def __init__(self, masukan_nama_orang):\n",
        "    self.nama_orang = masukan_nama_orang\n",
        "\n",
        "  def berat(self,berat):\n",
        "    if berat >= 80:\n",
        "      print(self.nama_orang, 'anda obesitas, berat anda:', berat)\n",
        "    else:\n",
        "      print(self.nama_orang, 'berat anda normal yakni: ', berat)\n",
        "\n",
        "indra = orang(\"indra wijaya s\")\n",
        "print(indra.nama_orang)\n",
        "indra.berat(90);"
      ],
      "metadata": {
        "colab": {
          "base_uri": "https://localhost:8080/"
        },
        "id": "TpktMs5m7wWB",
        "outputId": "4c914080-5304-4969-9b19-292c8ca3a7b3"
      },
      "execution_count": 6,
      "outputs": [
        {
          "output_type": "stream",
          "name": "stdout",
          "text": [
            "indra wijaya s\n",
            "indra wijaya s anda obesitas, berat anda: 90\n"
          ]
        }
      ]
    },
    {
      "cell_type": "code",
      "source": [
        "#graph\n",
        "\n",
        "class adjnode:\n",
        "  def __init__(self,val):\n",
        "    self.val = val\n",
        "    self.next = None\n",
        "\n",
        "class graph:\n",
        "  def __init__(self,vertices):\n",
        "    self.v = vertices\n",
        "    self.ele = [None]*self.v\n",
        "\n",
        "  def edge(self, src, dest): #src (source), dest(destination)\n",
        "    node = adjnode(dest)\n",
        "    node.next = self.ele[src]\n",
        "    self.ele[src] = node\n",
        "\n",
        "    node = adjnode(src)\n",
        "    node.next = self.ele[dest]\n",
        "    self.ele[dest] = node\n",
        "\n",
        "  def __repr__(self):\n",
        "    for i in range(self.v):\n",
        "      print(\"Adjacency list of vertex {}\\n head\".format(i), end=\"\")\n",
        "      temp = self.ele[i]\n",
        "      while temp:\n",
        "        print(\" -> {}\".format(temp.val), end=\"\")\n",
        "        temp = temp.next\n",
        "\n",
        "g = graph(4) # mendefinisikan jumlah vertex yang ada\n",
        "# menghubungkan tiga vertex tersebut\n",
        "g.edge(0,2) #node 0 akan bertetangga dengan 2 dan seterusnya\n",
        "g.edge(1,3)\n",
        "g.edge(3,2)\n",
        "g.edge(0,3)\n",
        "g.__repr__()"
      ],
      "metadata": {
        "colab": {
          "base_uri": "https://localhost:8080/"
        },
        "id": "McHyKZsgBSyp",
        "outputId": "e3aefe47-f6a0-44b5-f4cb-a0442baa6b25"
      },
      "execution_count": 8,
      "outputs": [
        {
          "output_type": "stream",
          "name": "stdout",
          "text": [
            "Adjacency list of vertex 0\n",
            " head -> 3 -> 2Adjacency list of vertex 1\n",
            " head -> 3Adjacency list of vertex 2\n",
            " head -> 3 -> 0Adjacency list of vertex 3\n",
            " head -> 0 -> 2 -> 1"
          ]
        }
      ]
    },
    {
      "cell_type": "code",
      "source": [
        "#Hashmaps\n",
        "\n",
        "#mendefinisikan fungsi untuk memanggil tiap key dan valuenya\n",
        "def printdict(d):\n",
        "  for key in d:\n",
        "    print(key, \"->\", d[key])\n",
        "#apabila suatu dict di print atau di panggil langsung (naked) dalam fungsi, yang terpanggil adalah keynya\n",
        "\n",
        "hashmaps = {0: 'first', 1: 'second', 2:'third'}\n",
        "printdict(hashmaps)\n",
        "print()\n",
        "\n",
        "\n",
        "hashmaps[4] = 'fourth'\n",
        "printdict(hashmaps)\n",
        "print()\n",
        "\n",
        "hashmaps.popitem() #menghilangkan indeks dimulai dari indeks terakhir\n",
        "printdict(hashmaps)"
      ],
      "metadata": {
        "colab": {
          "base_uri": "https://localhost:8080/"
        },
        "id": "a-B95tqMD89g",
        "outputId": "86dcc2d1-a3aa-486d-80c0-26a772145c89"
      },
      "execution_count": 9,
      "outputs": [
        {
          "output_type": "stream",
          "name": "stdout",
          "text": [
            "0 -> first\n",
            "1 -> second\n",
            "2 -> third\n",
            "\n",
            "0 -> first\n",
            "1 -> second\n",
            "2 -> third\n",
            "4 -> fourth\n",
            "\n",
            "0 -> first\n",
            "1 -> second\n",
            "2 -> third\n"
          ]
        }
      ]
    },
    {
      "cell_type": "code",
      "source": [
        "def print1(p):\n",
        "  for key in p:\n",
        "    print(key, \"->\", p[key])\n",
        "\n",
        "hashmaps = {0: 'kurus', 1: 'sedang', 2:'gemuk'}\n",
        "print1(hashmaps)\n",
        "print()\n",
        "\n",
        "hashmaps[3] = 'obesitas'\n",
        "print1(hashmaps)\n",
        "print()\n",
        "\n",
        "hashmaps.popitem()\n",
        "print1(hashmaps)"
      ],
      "metadata": {
        "colab": {
          "base_uri": "https://localhost:8080/"
        },
        "id": "Vfouvz5QFXO5",
        "outputId": "e7a222e3-706e-41c1-c004-0579cf798907"
      },
      "execution_count": 12,
      "outputs": [
        {
          "output_type": "stream",
          "name": "stdout",
          "text": [
            "0 -> kurus\n",
            "1 -> sedang\n",
            "2 -> gemuk\n",
            "\n",
            "0 -> kurus\n",
            "1 -> sedang\n",
            "2 -> gemuk\n",
            "3 -> obesitas\n",
            "\n",
            "0 -> kurus\n",
            "1 -> sedang\n",
            "2 -> gemuk\n"
          ]
        }
      ]
    }
  ]
}